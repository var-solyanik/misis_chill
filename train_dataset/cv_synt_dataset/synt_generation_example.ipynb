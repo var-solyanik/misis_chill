{
 "cells": [
  {
   "cell_type": "code",
   "execution_count": 1,
   "metadata": {},
   "outputs": [
    {
     "ename": "ModuleNotFoundError",
     "evalue": "No module named 'skimage'",
     "output_type": "error",
     "traceback": [
      "\u001b[0;31m---------------------------------------------------------------------------\u001b[0m",
      "\u001b[0;31mModuleNotFoundError\u001b[0m                       Traceback (most recent call last)",
      "Cell \u001b[0;32mIn[1], line 7\u001b[0m\n\u001b[1;32m      4\u001b[0m \u001b[38;5;28;01mimport\u001b[39;00m \u001b[38;5;21;01mmatplotlib\u001b[39;00m\u001b[38;5;21;01m.\u001b[39;00m\u001b[38;5;21;01mpyplot\u001b[39;00m \u001b[38;5;28;01mas\u001b[39;00m \u001b[38;5;21;01mplt\u001b[39;00m\n\u001b[1;32m      6\u001b[0m \u001b[38;5;28;01mfrom\u001b[39;00m \u001b[38;5;21;01mraindrop\u001b[39;00m\u001b[38;5;21;01m.\u001b[39;00m\u001b[38;5;21;01mconfig\u001b[39;00m \u001b[38;5;28;01mimport\u001b[39;00m cfg\n\u001b[0;32m----> 7\u001b[0m \u001b[38;5;28;01mfrom\u001b[39;00m \u001b[38;5;21;01mraindrop\u001b[39;00m\u001b[38;5;21;01m.\u001b[39;00m\u001b[38;5;21;01mdropgenerator\u001b[39;00m \u001b[38;5;28;01mimport\u001b[39;00m generate_label, generateDrops\n\u001b[1;32m     10\u001b[0m \u001b[38;5;28;01mdef\u001b[39;00m \u001b[38;5;21msee_plot\u001b[39m(pict, color\u001b[38;5;241m=\u001b[39m\u001b[38;5;124m'\u001b[39m\u001b[38;5;124mgray\u001b[39m\u001b[38;5;124m'\u001b[39m, size\u001b[38;5;241m=\u001b[39m(\u001b[38;5;241m5\u001b[39m,\u001b[38;5;241m5\u001b[39m), title\u001b[38;5;241m=\u001b[39m\u001b[38;5;124m'\u001b[39m\u001b[38;5;124m'\u001b[39m):\n\u001b[1;32m     11\u001b[0m     plt\u001b[38;5;241m.\u001b[39mfigure(figsize\u001b[38;5;241m=\u001b[39msize)\n",
      "File \u001b[0;32m~/nazar/123/123/misis_chill/train_dataset/cv_synt_dataset/raindrop/dropgenerator.py:10\u001b[0m\n\u001b[1;32m      8\u001b[0m \u001b[38;5;28;01mfrom\u001b[39;00m \u001b[38;5;21;01mPIL\u001b[39;00m \u001b[38;5;28;01mimport\u001b[39;00m ImageEnhance\n\u001b[1;32m      9\u001b[0m \u001b[38;5;28;01mfrom\u001b[39;00m \u001b[38;5;21;01mPIL\u001b[39;00m \u001b[38;5;28;01mimport\u001b[39;00m ImageDraw\n\u001b[0;32m---> 10\u001b[0m \u001b[38;5;28;01mfrom\u001b[39;00m \u001b[38;5;21;01mskimage\u001b[39;00m\u001b[38;5;21;01m.\u001b[39;00m\u001b[38;5;21;01mmeasure\u001b[39;00m \u001b[38;5;28;01mimport\u001b[39;00m label \u001b[38;5;28;01mas\u001b[39;00m skimage_label\n\u001b[1;32m     11\u001b[0m \u001b[38;5;28;01mfrom\u001b[39;00m \u001b[38;5;21;01m.\u001b[39;00m\u001b[38;5;21;01mraindrop\u001b[39;00m \u001b[38;5;28;01mimport\u001b[39;00m Raindrop, make_bezier\n\u001b[1;32m     13\u001b[0m \u001b[38;5;124;03m\"\"\"\u001b[39;00m\n\u001b[1;32m     14\u001b[0m \u001b[38;5;124;03mThis module contain two functions:\u001b[39;00m\n\u001b[1;32m     15\u001b[0m \u001b[38;5;124;03mCheck Collision -- handle the collision of the drops\u001b[39;00m\n\u001b[0;32m   (...)\u001b[0m\n\u001b[1;32m     19\u001b[0m \u001b[38;5;124;03mEdited by Vera, Soboleva\u001b[39;00m\n\u001b[1;32m     20\u001b[0m \u001b[38;5;124;03m\"\"\"\u001b[39;00m\n",
      "\u001b[0;31mModuleNotFoundError\u001b[0m: No module named 'skimage'"
     ]
    }
   ],
   "source": [
    "import os\n",
    "import cv2\n",
    "import numpy as np\n",
    "import matplotlib.pyplot as plt\n",
    "\n",
    "from raindrop.config import cfg\n",
    "from raindrop.dropgenerator import generate_label, generateDrops\n",
    "\n",
    "\n",
    "def see_plot(pict, color='gray', size=(5,5), title=''):\n",
    "    plt.figure(figsize=size)\n",
    "    plt.imshow(pict, cmap=color)\n",
    "    plt.title(title)\n",
    "    plt.xticks()\n",
    "    plt.show()\n",
    "\n",
    "    \n",
    "def synt_gereration(real_img_fullpath, real_msk_fullpath, cfg, verbose=False):\n",
    "    \n",
    "    img = cv2.imread(real_img_fullpath)[:,:,::-1]\n",
    "    msk = cv2.imread(real_msk_fullpath)[:,:,::-1]\n",
    "    (h, w, c) = img.shape\n",
    "\n",
    "    if verbose:\n",
    "        mrg = img.copy()\n",
    "        mrg[:,:,0] = mrg[:,:,0]//5*4+msk[:,:,0]//5\n",
    "        see_plot(np.concatenate([img,msk,mrg],axis=1), size=(20,20), title='REAL image-mask-merged')\n",
    "    \n",
    "    # main synt generation\n",
    "    List_of_Drops, label_map  = generate_label(h, w, cfg)\n",
    "    synt_img, _, synt_msk = generateDrops(real_img_fullpath, cfg, List_of_Drops)\n",
    "    \n",
    "    # pill-image to numpy-image\n",
    "    synt_img = np.array(synt_img)\n",
    "    synt_msk = np.array(synt_msk)\n",
    "    \n",
    "    # почему-то иногда генерируется маска (h,w,3), но в основном - (h,w)\n",
    "    if len(synt_msk.shape)==3: \n",
    "        synt_msk = synt_msk[:,:,0]\n",
    "    synt_msk = np.stack((synt_msk,)*3, axis=-1)\n",
    "    \n",
    "    # совмещение реальной маски и синтетической\n",
    "    # (чтобы синтетику можно было генерить и на грязных кадрах)\n",
    "    synt_msk = (((msk>0).astype(int)+(synt_msk>0).astype(int))>0).astype(np.uint8)*255\n",
    "    \n",
    "    if verbose:\n",
    "        merged = synt_img.copy()\n",
    "        merged[:,:,0] = merged[:,:,0]//5*4+synt_msk[:,:,0]//5\n",
    "        for_plot = np.concatenate([synt_img,synt_msk,merged],axis=1)\n",
    "        see_plot(for_plot, size=(20,20), title=f'SYNT image-mask-merged')\n",
    "        \n",
    "    return synt_img,synt_msk"
   ]
  },
  {
   "cell_type": "code",
   "execution_count": null,
   "metadata": {},
   "outputs": [],
   "source": [
    "real_img_fullpath = 'C:/.../open_img/1709232001_0.jpg'\n",
    "real_msk_fullpath = 'C:/.../open_msk/1709232001_0.png'\n",
    "\n",
    "synt_img,synt_msk = synt_gereration(real_img_fullpath, real_msk_fullpath, cfg, verbose=True)\n",
    "cv2.imwrite('new_synt_img1.jpg', synt_img[:,:,::-1])\n",
    "cv2.imwrite('new_synt_msk1.png', synt_msk[:,:,::-1])"
   ]
  },
  {
   "cell_type": "code",
   "execution_count": 2,
   "metadata": {},
   "outputs": [
    {
     "ename": "NameError",
     "evalue": "name 'synt_gereration' is not defined",
     "output_type": "error",
     "traceback": [
      "\u001b[0;31m---------------------------------------------------------------------------\u001b[0m",
      "\u001b[0;31mNameError\u001b[0m                                 Traceback (most recent call last)",
      "Cell \u001b[0;32mIn[2], line 4\u001b[0m\n\u001b[1;32m      1\u001b[0m real_img_fullpath \u001b[38;5;241m=\u001b[39m \u001b[38;5;124m'\u001b[39m\u001b[38;5;124mC:/.../cv_open_dataset/open_img/1709278599_0.jpg\u001b[39m\u001b[38;5;124m'\u001b[39m\n\u001b[1;32m      2\u001b[0m real_msk_fullpath \u001b[38;5;241m=\u001b[39m \u001b[38;5;124m'\u001b[39m\u001b[38;5;124mC:/.../cv_open_dataset/open_msk/1709278599_0.png\u001b[39m\u001b[38;5;124m'\u001b[39m\n\u001b[0;32m----> 4\u001b[0m synt_img,synt_msk \u001b[38;5;241m=\u001b[39m \u001b[43msynt_gereration\u001b[49m(real_img_fullpath, real_msk_fullpath, cfg, verbose\u001b[38;5;241m=\u001b[39m\u001b[38;5;28;01mTrue\u001b[39;00m)\n\u001b[1;32m      5\u001b[0m cv2\u001b[38;5;241m.\u001b[39mimwrite(\u001b[38;5;124m'\u001b[39m\u001b[38;5;124mnew_synt_img2.jpg\u001b[39m\u001b[38;5;124m'\u001b[39m, synt_img[:,:,::\u001b[38;5;241m-\u001b[39m\u001b[38;5;241m1\u001b[39m])\n\u001b[1;32m      6\u001b[0m cv2\u001b[38;5;241m.\u001b[39mimwrite(\u001b[38;5;124m'\u001b[39m\u001b[38;5;124mnew_synt_msk2.png\u001b[39m\u001b[38;5;124m'\u001b[39m, synt_msk[:,:,::\u001b[38;5;241m-\u001b[39m\u001b[38;5;241m1\u001b[39m])\n",
      "\u001b[0;31mNameError\u001b[0m: name 'synt_gereration' is not defined"
     ]
    }
   ],
   "source": [
    "real_img_fullpath = 'C:/.../cv_open_dataset/open_img/1709278599_0.jpg'\n",
    "real_msk_fullpath = 'C:/.../cv_open_dataset/open_msk/1709278599_0.png'\n",
    "\n",
    "synt_img,synt_msk = synt_gereration(real_img_fullpath, real_msk_fullpath, cfg, verbose=True)\n",
    "cv2.imwrite('new_synt_img2.jpg', synt_img[:,:,::-1])\n",
    "cv2.imwrite('new_synt_msk2.png', synt_msk[:,:,::-1])"
   ]
  },
  {
   "cell_type": "code",
   "execution_count": null,
   "metadata": {},
   "outputs": [],
   "source": []
  },
  {
   "cell_type": "code",
   "execution_count": null,
   "metadata": {},
   "outputs": [],
   "source": []
  }
 ],
 "metadata": {
  "colab": {
   "provenance": []
  },
  "interpreter": {
   "hash": "64d04ba88539afb16218ae060bc7c4b5831b0d2aa93bc282eb375c5bf43b862d"
  },
  "kernelspec": {
   "display_name": "Python [conda env:.mlspace-nmkarpov]",
   "language": "python",
   "name": "conda-env-.mlspace-nmkarpov-py"
  },
  "language_info": {
   "codemirror_mode": {
    "name": "ipython",
    "version": 3
   },
   "file_extension": ".py",
   "mimetype": "text/x-python",
   "name": "python",
   "nbconvert_exporter": "python",
   "pygments_lexer": "ipython3",
   "version": "3.10.15"
  }
 },
 "nbformat": 4,
 "nbformat_minor": 4
}
