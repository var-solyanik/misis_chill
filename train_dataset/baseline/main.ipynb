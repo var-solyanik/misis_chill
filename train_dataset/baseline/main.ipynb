{
 "cells": [
  {
   "cell_type": "code",
   "execution_count": 1,
   "id": "initial_id",
   "metadata": {},
   "outputs": [],
   "source": [
    "from ultralytics import YOLO\n",
    "import os\n",
    "import cv2\n",
    "import shutil\n",
    "from sklearn.model_selection import train_test_split\n",
    "import numpy as np"
   ]
  },
  {
   "cell_type": "code",
   "execution_count": 2,
   "id": "ac56f6e6ea79ce6e",
   "metadata": {
    "collapsed": false,
    "jupyter": {
     "outputs_hidden": false
    }
   },
   "outputs": [],
   "source": [
    "IMAGES_DIR = '/home/jovyan/nazar/123/123/misis_chill/train_dataset/cv_open_dataset/open_img'  # Путь к вашему датасету с изображениями\n",
    "MASKS_DIR = '/home/jovyan/nazar/123/123/misis_chill/train_dataset/cv_open_dataset/open_msk'  # Путь к вашему датасету с масками\n",
    "OUTPUT_DIR = './datasets/train_data'  # Путь к выходной директории\n",
    "TRAIN_SIZE = 0.8  # Процент обучающей выборки"
   ]
  },
  {
   "cell_type": "code",
   "execution_count": 3,
   "id": "406044194f9535d5",
   "metadata": {
    "collapsed": false,
    "jupyter": {
     "outputs_hidden": false
    }
   },
   "outputs": [],
   "source": [
    "os.makedirs(os.path.join(OUTPUT_DIR, 'images/train'), exist_ok=True)\n",
    "os.makedirs(os.path.join(OUTPUT_DIR, 'images/val'), exist_ok=True)\n",
    "os.makedirs(os.path.join(OUTPUT_DIR, 'labels/train'), exist_ok=True)\n",
    "os.makedirs(os.path.join(OUTPUT_DIR, 'labels/val'), exist_ok=True)"
   ]
  },
  {
   "cell_type": "code",
   "execution_count": 4,
   "id": "61ba29c30ff4a2dc",
   "metadata": {
    "collapsed": false,
    "jupyter": {
     "outputs_hidden": false
    }
   },
   "outputs": [],
   "source": [
    "image_files = [f for f in os.listdir(IMAGES_DIR) if f.endswith(('.jpg', '.png'))]\n",
    "mask_files = [f for f in os.listdir(MASKS_DIR) if f.endswith('.png')]\n",
    "if len(image_files) != len(mask_files):\n",
    "    print(len(image_files))\n",
    "    print(len(mask_files))\n",
    "    print(\"Количество изображений и масок не совпадает.\")\n",
    "    for mask in mask_files:\n",
    "        if mask.replace(\".png\", \".jpg\") not in image_files:\n",
    "            print(mask)"
   ]
  },
  {
   "cell_type": "code",
   "execution_count": 5,
   "id": "d00ab007653eda31",
   "metadata": {
    "collapsed": false,
    "jupyter": {
     "outputs_hidden": false
    }
   },
   "outputs": [],
   "source": [
    "train_images, val_images = train_test_split(image_files, train_size=TRAIN_SIZE, random_state=42)"
   ]
  },
  {
   "cell_type": "code",
   "execution_count": 6,
   "id": "f4cd15221eb3f864",
   "metadata": {
    "collapsed": false,
    "jupyter": {
     "outputs_hidden": false
    }
   },
   "outputs": [],
   "source": [
    "def convert_mask_to_yolo(mask_path, out):\n",
    "    # Открываем изображение\n",
    "    image = cv2.imread(mask_path)\n",
    "\n",
    "    if image is None:\n",
    "        print(f\"Не удалось открыть изображение: {mask_path}\")\n",
    "        return\n",
    "    \n",
    "    height, width = image.shape[:2]\n",
    "\n",
    "    # Создаем маску для черного цвета\n",
    "    black_mask = cv2.inRange(image, (0, 0, 0), (50, 50, 50))\n",
    "\n",
    "    # Создаем новое изображение, где черный цвет остается, а остальные цвета становятся белыми\n",
    "    new_image = np.ones_like(image) * 255  # Начинаем с белого изображения\n",
    "    new_image[black_mask > 0] = [0, 0, 0]  # Заменяем черные пиксели\n",
    "\n",
    "    # Преобразуем в градации серого для нахождения контуров\n",
    "    gray_image = cv2.cvtColor(new_image, cv2.COLOR_BGR2GRAY)\n",
    "\n",
    "    # Находим контуры\n",
    "    contours, _ = cv2.findContours(gray_image, cv2.RETR_EXTERNAL, cv2.CHAIN_APPROX_SIMPLE)\n",
    "\n",
    "    # Сохраняем контуры в текстовом формате\n",
    "    output_file_name = os.path.splitext(os.path.basename(mask_path))[0] + '.txt'\n",
    "    output_file_path = os.path.join(OUTPUT_DIR, out, output_file_name)\n",
    "\n",
    "    with open(output_file_path, 'w') as f:\n",
    "        for index, contour in enumerate(contours):\n",
    "            # Получаем координаты всех точек контура\n",
    "            contour_points = contour.reshape(-1, 2)\n",
    "            # Нормализуем координаты\n",
    "            normalized_points = [(x / width, y / height) for x, y in contour_points]\n",
    "            points_str = ' '.join(f\"{x:.3f} {y:.3f}\" for x, y in normalized_points)\n",
    "            f.write(f\"0 {points_str}\\n\")"
   ]
  },
  {
   "cell_type": "code",
   "execution_count": 7,
   "id": "fdf99ded756441b8",
   "metadata": {
    "collapsed": false,
    "jupyter": {
     "outputs_hidden": false
    }
   },
   "outputs": [],
   "source": [
    "# Копирование изображений и масок в соответствующие папки\n",
    "for img in train_images:\n",
    "    shutil.copy(os.path.join(IMAGES_DIR, img), os.path.join(OUTPUT_DIR, 'images/train', img))\n",
    "    mask_name = img.replace('.jpg', '.png')\n",
    "    convert_mask_to_yolo(os.path.join(MASKS_DIR, mask_name), 'labels/train')"
   ]
  },
  {
   "cell_type": "code",
   "execution_count": 8,
   "id": "1b2fd246643ce5cf",
   "metadata": {
    "collapsed": false,
    "jupyter": {
     "outputs_hidden": false
    }
   },
   "outputs": [],
   "source": [
    "for img in val_images:\n",
    "    shutil.copy(os.path.join(IMAGES_DIR, img), os.path.join(OUTPUT_DIR, 'images/val', img))\n",
    "    mask_name = img.replace('.jpg', '.png')\n",
    "    convert_mask_to_yolo(os.path.join(MASKS_DIR, mask_name), 'labels/val')\n"
   ]
  },
  {
   "cell_type": "code",
   "execution_count": 9,
   "id": "7d7767e7853d7b98",
   "metadata": {
    "collapsed": false,
    "jupyter": {
     "outputs_hidden": false
    }
   },
   "outputs": [
    {
     "name": "stdout",
     "output_type": "stream",
     "text": [
      "Датасет успешно разбит и сохранен в структуре проекта.\n"
     ]
    }
   ],
   "source": [
    "data_yaml_content = f\"\"\"\n",
    "train: train_data/images/train\n",
    "val: train_data/images/val\n",
    "\n",
    "nc: 1  # Обновите количество классов (1 для загрязнения)\n",
    "names: ['contaminated']  # Обновите названия классов\n",
    "\"\"\"\n",
    "\n",
    "with open('data.yaml', 'w') as f:\n",
    "    f.write(data_yaml_content)\n",
    "\n",
    "print(\"Датасет успешно разбит и сохранен в структуре проекта.\")"
   ]
  },
  {
   "cell_type": "code",
   "execution_count": 12,
   "id": "6a73b014c45fcc50",
   "metadata": {},
   "outputs": [
    {
     "name": "stdout",
     "output_type": "stream",
     "text": [
      "Downloading https://github.com/ultralytics/assets/releases/download/v8.3.0/yolo11s-seg.pt to 'yolo11s-seg.pt'...\n"
     ]
    },
    {
     "name": "stderr",
     "output_type": "stream",
     "text": [
      "100%|██████████| 19.7M/19.7M [00:00<00:00, 41.7MB/s]\n"
     ]
    }
   ],
   "source": [
    "model = YOLO(\"yolo11s-seg.pt\")"
   ]
  },
  {
   "cell_type": "code",
   "execution_count": 13,
   "id": "4d85abfbc10ae302",
   "metadata": {},
   "outputs": [
    {
     "name": "stdout",
     "output_type": "stream",
     "text": [
      "Ultralytics 8.3.44 🚀 Python-3.10.15 torch-2.5.1+cu124 CUDA:0 (A100 80GB PCIe, 81252MiB)\n",
      "\u001b[34m\u001b[1mengine/trainer: \u001b[0mtask=segment, mode=train, model=yolo11s-seg.pt, data=./data.yaml, epochs=15, time=None, patience=100, batch=16, imgsz=640, save=True, save_period=-1, cache=False, device=0, workers=8, project=None, name=train3, exist_ok=False, pretrained=True, optimizer=auto, verbose=True, seed=0, deterministic=True, single_cls=False, rect=False, cos_lr=False, close_mosaic=10, resume=False, amp=True, fraction=1.0, profile=False, freeze=None, multi_scale=False, overlap_mask=True, mask_ratio=4, dropout=0.0, val=True, split=val, save_json=False, save_hybrid=False, conf=None, iou=0.7, max_det=300, half=False, dnn=False, plots=True, source=None, vid_stride=1, stream_buffer=False, visualize=False, augment=False, agnostic_nms=False, classes=None, retina_masks=False, embed=None, show=False, save_frames=False, save_txt=False, save_conf=False, save_crop=False, show_labels=True, show_conf=True, show_boxes=True, line_width=None, format=torchscript, keras=False, optimize=False, int8=False, dynamic=False, simplify=True, opset=None, workspace=None, nms=False, lr0=0.01, lrf=0.01, momentum=0.937, weight_decay=0.0005, warmup_epochs=3.0, warmup_momentum=0.8, warmup_bias_lr=0.1, box=7.5, cls=0.5, dfl=1.5, pose=12.0, kobj=1.0, nbs=64, hsv_h=0.015, hsv_s=0.7, hsv_v=0.4, degrees=0.0, translate=0.1, scale=0.5, shear=0.0, perspective=0.0, flipud=0.0, fliplr=0.5, bgr=0.0, mosaic=1.0, mixup=0.0, copy_paste=0.0, copy_paste_mode=flip, auto_augment=randaugment, erasing=0.4, crop_fraction=1.0, cfg=None, tracker=botsort.yaml, save_dir=runs/segment/train3\n",
      "Overriding model.yaml nc=80 with nc=1\n",
      "\n",
      "                   from  n    params  module                                       arguments                     \n",
      "  0                  -1  1       928  ultralytics.nn.modules.conv.Conv             [3, 32, 3, 2]                 \n",
      "  1                  -1  1     18560  ultralytics.nn.modules.conv.Conv             [32, 64, 3, 2]                \n",
      "  2                  -1  1     26080  ultralytics.nn.modules.block.C3k2            [64, 128, 1, False, 0.25]     \n",
      "  3                  -1  1    147712  ultralytics.nn.modules.conv.Conv             [128, 128, 3, 2]              \n",
      "  4                  -1  1    103360  ultralytics.nn.modules.block.C3k2            [128, 256, 1, False, 0.25]    \n",
      "  5                  -1  1    590336  ultralytics.nn.modules.conv.Conv             [256, 256, 3, 2]              \n",
      "  6                  -1  1    346112  ultralytics.nn.modules.block.C3k2            [256, 256, 1, True]           \n",
      "  7                  -1  1   1180672  ultralytics.nn.modules.conv.Conv             [256, 512, 3, 2]              \n",
      "  8                  -1  1   1380352  ultralytics.nn.modules.block.C3k2            [512, 512, 1, True]           \n",
      "  9                  -1  1    656896  ultralytics.nn.modules.block.SPPF            [512, 512, 5]                 \n",
      " 10                  -1  1    990976  ultralytics.nn.modules.block.C2PSA           [512, 512, 1]                 \n",
      " 11                  -1  1         0  torch.nn.modules.upsampling.Upsample         [None, 2, 'nearest']          \n",
      " 12             [-1, 6]  1         0  ultralytics.nn.modules.conv.Concat           [1]                           \n",
      " 13                  -1  1    443776  ultralytics.nn.modules.block.C3k2            [768, 256, 1, False]          \n",
      " 14                  -1  1         0  torch.nn.modules.upsampling.Upsample         [None, 2, 'nearest']          \n",
      " 15             [-1, 4]  1         0  ultralytics.nn.modules.conv.Concat           [1]                           \n",
      " 16                  -1  1    127680  ultralytics.nn.modules.block.C3k2            [512, 128, 1, False]          \n",
      " 17                  -1  1    147712  ultralytics.nn.modules.conv.Conv             [128, 128, 3, 2]              \n",
      " 18            [-1, 13]  1         0  ultralytics.nn.modules.conv.Concat           [1]                           \n",
      " 19                  -1  1    345472  ultralytics.nn.modules.block.C3k2            [384, 256, 1, False]          \n",
      " 20                  -1  1    590336  ultralytics.nn.modules.conv.Conv             [256, 256, 3, 2]              \n",
      " 21            [-1, 10]  1         0  ultralytics.nn.modules.conv.Concat           [1]                           \n",
      " 22                  -1  1   1511424  ultralytics.nn.modules.block.C3k2            [768, 512, 1, True]           \n",
      " 23        [16, 19, 22]  1   1474291  ultralytics.nn.modules.head.Segment          [1, 32, 128, [128, 256, 512]] \n",
      "YOLO11s-seg summary: 355 layers, 10,082,675 parameters, 10,082,659 gradients, 35.6 GFLOPs\n",
      "\n",
      "Transferred 555/561 items from pretrained weights\n",
      "\u001b[34m\u001b[1mTensorBoard: \u001b[0mStart with 'tensorboard --logdir runs/segment/train3', view at http://localhost:6006/\n",
      "Freezing layer 'model.23.dfl.conv.weight'\n",
      "\u001b[34m\u001b[1mAMP: \u001b[0mrunning Automatic Mixed Precision (AMP) checks...\n",
      "\u001b[34m\u001b[1mAMP: \u001b[0mchecks passed ✅\n"
     ]
    },
    {
     "name": "stderr",
     "output_type": "stream",
     "text": [
      "\u001b[34m\u001b[1mtrain: \u001b[0mScanning /home/jovyan/nazar/123/123/misis_chill/train_dataset/baseline/datasets/train_data/labels/train.cache... 164 images, 124 backgrounds, 0 corrupt: 100%|██████████| 164/164 [00:00<?, ?it/s]\n",
      "\u001b[34m\u001b[1mval: \u001b[0mScanning /home/jovyan/nazar/123/123/misis_chill/train_dataset/baseline/datasets/train_data/labels/val.cache... 62 images, 46 backgrounds, 0 corrupt: 100%|██████████| 62/62 [00:00<?, ?it/s]\n"
     ]
    },
    {
     "name": "stdout",
     "output_type": "stream",
     "text": [
      "Plotting labels to runs/segment/train3/labels.jpg... \n",
      "\u001b[34m\u001b[1moptimizer:\u001b[0m 'optimizer=auto' found, ignoring 'lr0=0.01' and 'momentum=0.937' and determining best 'optimizer', 'lr0' and 'momentum' automatically... \n",
      "\u001b[34m\u001b[1moptimizer:\u001b[0m AdamW(lr=0.002, momentum=0.9) with parameter groups 90 weight(decay=0.0), 101 weight(decay=0.0005), 100 bias(decay=0.0)\n",
      "\u001b[34m\u001b[1mTensorBoard: \u001b[0mmodel graph visualization added ✅\n",
      "Image sizes 640 train, 640 val\n",
      "Using 8 dataloader workers\n",
      "Logging results to \u001b[1mruns/segment/train3\u001b[0m\n",
      "Starting training for 15 epochs...\n",
      "\n",
      "      Epoch    GPU_mem   box_loss   seg_loss   cls_loss   dfl_loss  Instances       Size\n"
     ]
    },
    {
     "name": "stderr",
     "output_type": "stream",
     "text": [
      "       1/15      5.34G      1.492      5.589      12.48      1.883         14        640: 100%|██████████| 11/11 [00:01<00:00,  5.77it/s]\n",
      "                 Class     Images  Instances      Box(P          R      mAP50  mAP50-95)     Mask(P          R      mAP50  mAP50-95): 100%|██████████| 2/2 [00:00<00:00,  3.78it/s]"
     ]
    },
    {
     "name": "stdout",
     "output_type": "stream",
     "text": [
      "                   all         62         33      0.124      0.182     0.0401     0.0222     0.0823      0.121     0.0209    0.00805\n"
     ]
    },
    {
     "name": "stderr",
     "output_type": "stream",
     "text": [
      "\n"
     ]
    },
    {
     "name": "stdout",
     "output_type": "stream",
     "text": [
      "\n",
      "      Epoch    GPU_mem   box_loss   seg_loss   cls_loss   dfl_loss  Instances       Size\n"
     ]
    },
    {
     "name": "stderr",
     "output_type": "stream",
     "text": [
      "       2/15      5.33G      1.214      3.597       5.78      1.549         15        640: 100%|██████████| 11/11 [00:01<00:00,  6.15it/s]\n",
      "                 Class     Images  Instances      Box(P          R      mAP50  mAP50-95)     Mask(P          R      mAP50  mAP50-95): 100%|██████████| 2/2 [00:00<00:00,  5.66it/s]"
     ]
    },
    {
     "name": "stdout",
     "output_type": "stream",
     "text": [
      "                   all         62         33      0.188      0.394      0.174      0.135      0.188      0.394       0.17      0.089\n"
     ]
    },
    {
     "name": "stderr",
     "output_type": "stream",
     "text": [
      "\n"
     ]
    },
    {
     "name": "stdout",
     "output_type": "stream",
     "text": [
      "\n",
      "      Epoch    GPU_mem   box_loss   seg_loss   cls_loss   dfl_loss  Instances       Size\n"
     ]
    },
    {
     "name": "stderr",
     "output_type": "stream",
     "text": [
      "       3/15      5.39G       1.28      2.802      3.237      1.515          6        640: 100%|██████████| 11/11 [00:01<00:00,  6.14it/s]\n",
      "                 Class     Images  Instances      Box(P          R      mAP50  mAP50-95)     Mask(P          R      mAP50  mAP50-95): 100%|██████████| 2/2 [00:00<00:00,  5.33it/s]"
     ]
    },
    {
     "name": "stdout",
     "output_type": "stream",
     "text": [
      "                   all         62         33     0.0625      0.121      0.032    0.00915      0.102     0.0606     0.0178    0.00455\n"
     ]
    },
    {
     "name": "stderr",
     "output_type": "stream",
     "text": [
      "\n"
     ]
    },
    {
     "name": "stdout",
     "output_type": "stream",
     "text": [
      "\n",
      "      Epoch    GPU_mem   box_loss   seg_loss   cls_loss   dfl_loss  Instances       Size\n"
     ]
    },
    {
     "name": "stderr",
     "output_type": "stream",
     "text": [
      "       4/15      5.33G      1.286      2.601       2.99      1.495          2        640: 100%|██████████| 11/11 [00:01<00:00,  6.59it/s]\n",
      "                 Class     Images  Instances      Box(P          R      mAP50  mAP50-95)     Mask(P          R      mAP50  mAP50-95): 100%|██████████| 2/2 [00:00<00:00,  4.16it/s]"
     ]
    },
    {
     "name": "stdout",
     "output_type": "stream",
     "text": [
      "                   all         62         33       0.31      0.545      0.218     0.0938       0.31      0.515      0.196     0.0725\n"
     ]
    },
    {
     "name": "stderr",
     "output_type": "stream",
     "text": [
      "\n"
     ]
    },
    {
     "name": "stdout",
     "output_type": "stream",
     "text": [
      "\n",
      "      Epoch    GPU_mem   box_loss   seg_loss   cls_loss   dfl_loss  Instances       Size\n"
     ]
    },
    {
     "name": "stderr",
     "output_type": "stream",
     "text": [
      "       5/15      5.34G      1.622      2.761      2.787      1.739         20        640: 100%|██████████| 11/11 [00:01<00:00,  6.98it/s]\n",
      "                 Class     Images  Instances      Box(P          R      mAP50  mAP50-95)     Mask(P          R      mAP50  mAP50-95): 100%|██████████| 2/2 [00:00<00:00,  4.90it/s]"
     ]
    },
    {
     "name": "stdout",
     "output_type": "stream",
     "text": [
      "                   all         62         33     0.0627      0.212     0.0352     0.0117     0.0448      0.152     0.0243    0.00958\n"
     ]
    },
    {
     "name": "stderr",
     "output_type": "stream",
     "text": [
      "\n"
     ]
    },
    {
     "name": "stdout",
     "output_type": "stream",
     "text": [
      "Closing dataloader mosaic\n",
      "\n",
      "      Epoch    GPU_mem   box_loss   seg_loss   cls_loss   dfl_loss  Instances       Size\n"
     ]
    },
    {
     "name": "stderr",
     "output_type": "stream",
     "text": [
      "       6/15      5.39G      1.635      2.942       3.42      2.048          2        640: 100%|██████████| 11/11 [00:11<00:00,  1.03s/it]\n",
      "                 Class     Images  Instances      Box(P          R      mAP50  mAP50-95)     Mask(P          R      mAP50  mAP50-95): 100%|██████████| 2/2 [00:00<00:00,  6.67it/s]"
     ]
    },
    {
     "name": "stdout",
     "output_type": "stream",
     "text": [
      "                   all         62         33     0.0663      0.121     0.0281    0.00675     0.0496      0.303     0.0263    0.00767\n"
     ]
    },
    {
     "name": "stderr",
     "output_type": "stream",
     "text": [
      "\n"
     ]
    },
    {
     "name": "stdout",
     "output_type": "stream",
     "text": [
      "\n",
      "      Epoch    GPU_mem   box_loss   seg_loss   cls_loss   dfl_loss  Instances       Size\n"
     ]
    },
    {
     "name": "stderr",
     "output_type": "stream",
     "text": [
      "       7/15      5.35G      1.761      2.557      3.304      2.037          4        640: 100%|██████████| 11/11 [00:01<00:00,  7.17it/s]\n",
      "                 Class     Images  Instances      Box(P          R      mAP50  mAP50-95)     Mask(P          R      mAP50  mAP50-95): 100%|██████████| 2/2 [00:00<00:00,  6.55it/s]"
     ]
    },
    {
     "name": "stdout",
     "output_type": "stream",
     "text": [
      "                   all         62         33      0.272      0.152      0.114     0.0429      0.162      0.242      0.114     0.0406\n"
     ]
    },
    {
     "name": "stderr",
     "output_type": "stream",
     "text": [
      "\n"
     ]
    },
    {
     "name": "stdout",
     "output_type": "stream",
     "text": [
      "\n",
      "      Epoch    GPU_mem   box_loss   seg_loss   cls_loss   dfl_loss  Instances       Size\n"
     ]
    },
    {
     "name": "stderr",
     "output_type": "stream",
     "text": [
      "       8/15      5.36G      1.634      2.703      3.344       2.02          5        640: 100%|██████████| 11/11 [00:01<00:00,  7.54it/s]\n",
      "                 Class     Images  Instances      Box(P          R      mAP50  mAP50-95)     Mask(P          R      mAP50  mAP50-95): 100%|██████████| 2/2 [00:00<00:00,  6.36it/s]"
     ]
    },
    {
     "name": "stdout",
     "output_type": "stream",
     "text": [
      "                   all         62         33      0.419      0.121     0.0987     0.0514      0.134     0.0909      0.062     0.0307\n"
     ]
    },
    {
     "name": "stderr",
     "output_type": "stream",
     "text": [
      "\n"
     ]
    },
    {
     "name": "stdout",
     "output_type": "stream",
     "text": [
      "\n",
      "      Epoch    GPU_mem   box_loss   seg_loss   cls_loss   dfl_loss  Instances       Size\n"
     ]
    },
    {
     "name": "stderr",
     "output_type": "stream",
     "text": [
      "       9/15      5.35G      1.853      2.474      3.504      2.197          5        640: 100%|██████████| 11/11 [00:01<00:00,  7.56it/s]\n",
      "                 Class     Images  Instances      Box(P          R      mAP50  mAP50-95)     Mask(P          R      mAP50  mAP50-95): 100%|██████████| 2/2 [00:00<00:00,  6.04it/s]"
     ]
    },
    {
     "name": "stdout",
     "output_type": "stream",
     "text": [
      "                   all         62         33      0.019     0.0303    0.00708    0.00308      0.019     0.0303    0.00395    0.00151\n"
     ]
    },
    {
     "name": "stderr",
     "output_type": "stream",
     "text": [
      "\n"
     ]
    },
    {
     "name": "stdout",
     "output_type": "stream",
     "text": [
      "\n",
      "      Epoch    GPU_mem   box_loss   seg_loss   cls_loss   dfl_loss  Instances       Size\n"
     ]
    },
    {
     "name": "stderr",
     "output_type": "stream",
     "text": [
      "      10/15      5.38G      1.346      2.141      5.396      1.626          3        640: 100%|██████████| 11/11 [00:01<00:00,  8.20it/s]\n",
      "                 Class     Images  Instances      Box(P          R      mAP50  mAP50-95)     Mask(P          R      mAP50  mAP50-95): 100%|██████████| 2/2 [00:00<00:00,  6.75it/s]"
     ]
    },
    {
     "name": "stdout",
     "output_type": "stream",
     "text": [
      "                   all         62         33     0.0335     0.0631     0.0318     0.0149      0.118      0.121     0.0368     0.0168\n"
     ]
    },
    {
     "name": "stderr",
     "output_type": "stream",
     "text": [
      "\n"
     ]
    },
    {
     "name": "stdout",
     "output_type": "stream",
     "text": [
      "\n",
      "      Epoch    GPU_mem   box_loss   seg_loss   cls_loss   dfl_loss  Instances       Size\n"
     ]
    },
    {
     "name": "stderr",
     "output_type": "stream",
     "text": [
      "      11/15      5.34G      1.617      2.467      2.888      1.921          4        640: 100%|██████████| 11/11 [00:01<00:00,  8.86it/s]\n",
      "                 Class     Images  Instances      Box(P          R      mAP50  mAP50-95)     Mask(P          R      mAP50  mAP50-95): 100%|██████████| 2/2 [00:00<00:00,  8.32it/s]"
     ]
    },
    {
     "name": "stdout",
     "output_type": "stream",
     "text": [
      "                   all         62         33     0.0368      0.212     0.0354     0.0137     0.0368      0.212     0.0332     0.0135\n"
     ]
    },
    {
     "name": "stderr",
     "output_type": "stream",
     "text": [
      "\n"
     ]
    },
    {
     "name": "stdout",
     "output_type": "stream",
     "text": [
      "\n",
      "      Epoch    GPU_mem   box_loss   seg_loss   cls_loss   dfl_loss  Instances       Size\n"
     ]
    },
    {
     "name": "stderr",
     "output_type": "stream",
     "text": [
      "      12/15      5.37G      1.556      2.356      2.559      1.911          3        640: 100%|██████████| 11/11 [00:01<00:00,  8.10it/s]\n",
      "                 Class     Images  Instances      Box(P          R      mAP50  mAP50-95)     Mask(P          R      mAP50  mAP50-95): 100%|██████████| 2/2 [00:00<00:00,  7.91it/s]"
     ]
    },
    {
     "name": "stdout",
     "output_type": "stream",
     "text": [
      "                   all         62         33      0.189      0.212      0.146     0.0673      0.218      0.242      0.189     0.0743\n"
     ]
    },
    {
     "name": "stderr",
     "output_type": "stream",
     "text": [
      "\n"
     ]
    },
    {
     "name": "stdout",
     "output_type": "stream",
     "text": [
      "\n",
      "      Epoch    GPU_mem   box_loss   seg_loss   cls_loss   dfl_loss  Instances       Size\n"
     ]
    },
    {
     "name": "stderr",
     "output_type": "stream",
     "text": [
      "      13/15      5.35G      1.515      2.067      2.138      1.866          3        640: 100%|██████████| 11/11 [00:01<00:00,  8.99it/s]\n",
      "                 Class     Images  Instances      Box(P          R      mAP50  mAP50-95)     Mask(P          R      mAP50  mAP50-95): 100%|██████████| 2/2 [00:00<00:00,  8.30it/s]"
     ]
    },
    {
     "name": "stdout",
     "output_type": "stream",
     "text": [
      "                   all         62         33      0.461      0.303      0.358      0.194        0.8      0.212      0.293      0.187\n"
     ]
    },
    {
     "name": "stderr",
     "output_type": "stream",
     "text": [
      "\n"
     ]
    },
    {
     "name": "stdout",
     "output_type": "stream",
     "text": [
      "\n",
      "      Epoch    GPU_mem   box_loss   seg_loss   cls_loss   dfl_loss  Instances       Size\n"
     ]
    },
    {
     "name": "stderr",
     "output_type": "stream",
     "text": [
      "      14/15      5.36G      1.426      2.075      2.154      1.769          3        640: 100%|██████████| 11/11 [00:01<00:00,  8.32it/s]\n",
      "                 Class     Images  Instances      Box(P          R      mAP50  mAP50-95)     Mask(P          R      mAP50  mAP50-95): 100%|██████████| 2/2 [00:00<00:00,  8.63it/s]"
     ]
    },
    {
     "name": "stdout",
     "output_type": "stream",
     "text": [
      "                   all         62         33      0.344      0.303       0.31      0.186      0.344      0.303      0.281      0.157\n"
     ]
    },
    {
     "name": "stderr",
     "output_type": "stream",
     "text": [
      "\n"
     ]
    },
    {
     "name": "stdout",
     "output_type": "stream",
     "text": [
      "\n",
      "      Epoch    GPU_mem   box_loss   seg_loss   cls_loss   dfl_loss  Instances       Size\n"
     ]
    },
    {
     "name": "stderr",
     "output_type": "stream",
     "text": [
      "      15/15      5.33G      1.346      1.908      2.019      1.668          0        640: 100%|██████████| 11/11 [00:01<00:00,  8.93it/s]\n",
      "                 Class     Images  Instances      Box(P          R      mAP50  mAP50-95)     Mask(P          R      mAP50  mAP50-95): 100%|██████████| 2/2 [00:00<00:00,  7.91it/s]"
     ]
    },
    {
     "name": "stdout",
     "output_type": "stream",
     "text": [
      "                   all         62         33      0.616      0.424      0.467      0.315      0.616      0.424       0.43      0.268\n"
     ]
    },
    {
     "name": "stderr",
     "output_type": "stream",
     "text": [
      "\n"
     ]
    },
    {
     "name": "stdout",
     "output_type": "stream",
     "text": [
      "\n",
      "15 epochs completed in 0.027 hours.\n",
      "Optimizer stripped from runs/segment/train3/weights/last.pt, 20.5MB\n",
      "Optimizer stripped from runs/segment/train3/weights/best.pt, 20.5MB\n",
      "\n",
      "Validating runs/segment/train3/weights/best.pt...\n",
      "Ultralytics 8.3.44 🚀 Python-3.10.15 torch-2.5.1+cu124 CUDA:0 (A100 80GB PCIe, 81252MiB)\n",
      "YOLO11s-seg summary (fused): 265 layers, 10,067,203 parameters, 0 gradients, 35.3 GFLOPs\n"
     ]
    },
    {
     "name": "stderr",
     "output_type": "stream",
     "text": [
      "                 Class     Images  Instances      Box(P          R      mAP50  mAP50-95)     Mask(P          R      mAP50  mAP50-95): 100%|██████████| 2/2 [00:01<00:00,  1.34it/s]\n"
     ]
    },
    {
     "name": "stdout",
     "output_type": "stream",
     "text": [
      "                   all         62         33      0.615      0.424      0.466      0.314      0.615      0.424       0.43      0.268\n",
      "Speed: 0.1ms preprocess, 1.3ms inference, 0.0ms loss, 0.7ms postprocess per image\n",
      "Results saved to \u001b[1mruns/segment/train3\u001b[0m\n"
     ]
    }
   ],
   "source": [
    "train_results = model.train(\n",
    "    data=\"./data.yaml\",  # path to dataset YAML\n",
    "    epochs=15,  # number of training epochs\n",
    "    imgsz=640,  # training image size\n",
    "    device=\"0\",  # device to run on, i.e. device=0 or device=0,1,2,3 or device=cpu\n",
    "    \n",
    ")"
   ]
  },
  {
   "cell_type": "code",
   "execution_count": 14,
   "id": "2660d21c659b40fb",
   "metadata": {
    "collapsed": false,
    "jupyter": {
     "outputs_hidden": false
    },
    "scrolled": true
   },
   "outputs": [
    {
     "name": "stdout",
     "output_type": "stream",
     "text": [
      "Ultralytics 8.3.44 🚀 Python-3.10.15 torch-2.5.1+cu124 CUDA:0 (A100 80GB PCIe, 81252MiB)\n",
      "YOLO11s-seg summary (fused): 265 layers, 10,067,203 parameters, 0 gradients, 35.3 GFLOPs\n"
     ]
    },
    {
     "name": "stderr",
     "output_type": "stream",
     "text": [
      "\u001b[34m\u001b[1mval: \u001b[0mScanning /home/jovyan/nazar/123/123/misis_chill/train_dataset/baseline/datasets/train_data/labels/val.cache... 62 images, 46 backgrounds, 0 corrupt: 100%|██████████| 62/62 [00:00<?, ?it/s]\n",
      "                 Class     Images  Instances      Box(P          R      mAP50  mAP50-95)     Mask(P          R      mAP50  mAP50-95): 100%|██████████| 4/4 [00:13<00:00,  3.42s/it]\n"
     ]
    },
    {
     "name": "stdout",
     "output_type": "stream",
     "text": [
      "                   all         62         33      0.705      0.424      0.476      0.319      0.705      0.424       0.44      0.269\n",
      "Speed: 0.4ms preprocess, 159.7ms inference, 0.0ms loss, 1.8ms postprocess per image\n",
      "Results saved to \u001b[1mruns/segment/train32\u001b[0m\n",
      "ultralytics.utils.metrics.SegmentMetrics object with attributes:\n",
      "\n",
      "ap_class_index: array([0])\n",
      "box: ultralytics.utils.metrics.Metric object\n",
      "confusion_matrix: <ultralytics.utils.metrics.ConfusionMatrix object at 0x7f2a3c4a4130>\n",
      "curves: ['Precision-Recall(B)', 'F1-Confidence(B)', 'Precision-Confidence(B)', 'Recall-Confidence(B)', 'Precision-Recall(M)', 'F1-Confidence(M)', 'Precision-Confidence(M)', 'Recall-Confidence(M)']\n",
      "curves_results: [[array([          0,    0.001001,    0.002002,    0.003003,    0.004004,    0.005005,    0.006006,    0.007007,    0.008008,    0.009009,     0.01001,    0.011011,    0.012012,    0.013013,    0.014014,    0.015015,    0.016016,    0.017017,    0.018018,    0.019019,     0.02002,    0.021021,    0.022022,    0.023023,\n",
      "          0.024024,    0.025025,    0.026026,    0.027027,    0.028028,    0.029029,     0.03003,    0.031031,    0.032032,    0.033033,    0.034034,    0.035035,    0.036036,    0.037037,    0.038038,    0.039039,     0.04004,    0.041041,    0.042042,    0.043043,    0.044044,    0.045045,    0.046046,    0.047047,\n",
      "          0.048048,    0.049049,     0.05005,    0.051051,    0.052052,    0.053053,    0.054054,    0.055055,    0.056056,    0.057057,    0.058058,    0.059059,     0.06006,    0.061061,    0.062062,    0.063063,    0.064064,    0.065065,    0.066066,    0.067067,    0.068068,    0.069069,     0.07007,    0.071071,\n",
      "          0.072072,    0.073073,    0.074074,    0.075075,    0.076076,    0.077077,    0.078078,    0.079079,     0.08008,    0.081081,    0.082082,    0.083083,    0.084084,    0.085085,    0.086086,    0.087087,    0.088088,    0.089089,     0.09009,    0.091091,    0.092092,    0.093093,    0.094094,    0.095095,\n",
      "          0.096096,    0.097097,    0.098098,    0.099099,      0.1001,      0.1011,      0.1021,      0.1031,      0.1041,     0.10511,     0.10611,     0.10711,     0.10811,     0.10911,     0.11011,     0.11111,     0.11211,     0.11311,     0.11411,     0.11512,     0.11612,     0.11712,     0.11812,     0.11912,\n",
      "           0.12012,     0.12112,     0.12212,     0.12312,     0.12412,     0.12513,     0.12613,     0.12713,     0.12813,     0.12913,     0.13013,     0.13113,     0.13213,     0.13313,     0.13413,     0.13514,     0.13614,     0.13714,     0.13814,     0.13914,     0.14014,     0.14114,     0.14214,     0.14314,\n",
      "           0.14414,     0.14515,     0.14615,     0.14715,     0.14815,     0.14915,     0.15015,     0.15115,     0.15215,     0.15315,     0.15415,     0.15516,     0.15616,     0.15716,     0.15816,     0.15916,     0.16016,     0.16116,     0.16216,     0.16316,     0.16416,     0.16517,     0.16617,     0.16717,\n",
      "           0.16817,     0.16917,     0.17017,     0.17117,     0.17217,     0.17317,     0.17417,     0.17518,     0.17618,     0.17718,     0.17818,     0.17918,     0.18018,     0.18118,     0.18218,     0.18318,     0.18418,     0.18519,     0.18619,     0.18719,     0.18819,     0.18919,     0.19019,     0.19119,\n",
      "           0.19219,     0.19319,     0.19419,      0.1952,      0.1962,      0.1972,      0.1982,      0.1992,      0.2002,      0.2012,      0.2022,      0.2032,      0.2042,     0.20521,     0.20621,     0.20721,     0.20821,     0.20921,     0.21021,     0.21121,     0.21221,     0.21321,     0.21421,     0.21522,\n",
      "           0.21622,     0.21722,     0.21822,     0.21922,     0.22022,     0.22122,     0.22222,     0.22322,     0.22422,     0.22523,     0.22623,     0.22723,     0.22823,     0.22923,     0.23023,     0.23123,     0.23223,     0.23323,     0.23423,     0.23524,     0.23624,     0.23724,     0.23824,     0.23924,\n",
      "           0.24024,     0.24124,     0.24224,     0.24324,     0.24424,     0.24525,     0.24625,     0.24725,     0.24825,     0.24925,     0.25025,     0.25125,     0.25225,     0.25325,     0.25425,     0.25526,     0.25626,     0.25726,     0.25826,     0.25926,     0.26026,     0.26126,     0.26226,     0.26326,\n",
      "           0.26426,     0.26527,     0.26627,     0.26727,     0.26827,     0.26927,     0.27027,     0.27127,     0.27227,     0.27327,     0.27427,     0.27528,     0.27628,     0.27728,     0.27828,     0.27928,     0.28028,     0.28128,     0.28228,     0.28328,     0.28428,     0.28529,     0.28629,     0.28729,\n",
      "           0.28829,     0.28929,     0.29029,     0.29129,     0.29229,     0.29329,     0.29429,      0.2953,      0.2963,      0.2973,      0.2983,      0.2993,      0.3003,      0.3013,      0.3023,      0.3033,      0.3043,     0.30531,     0.30631,     0.30731,     0.30831,     0.30931,     0.31031,     0.31131,\n",
      "           0.31231,     0.31331,     0.31431,     0.31532,     0.31632,     0.31732,     0.31832,     0.31932,     0.32032,     0.32132,     0.32232,     0.32332,     0.32432,     0.32533,     0.32633,     0.32733,     0.32833,     0.32933,     0.33033,     0.33133,     0.33233,     0.33333,     0.33433,     0.33534,\n",
      "           0.33634,     0.33734,     0.33834,     0.33934,     0.34034,     0.34134,     0.34234,     0.34334,     0.34434,     0.34535,     0.34635,     0.34735,     0.34835,     0.34935,     0.35035,     0.35135,     0.35235,     0.35335,     0.35435,     0.35536,     0.35636,     0.35736,     0.35836,     0.35936,\n",
      "           0.36036,     0.36136,     0.36236,     0.36336,     0.36436,     0.36537,     0.36637,     0.36737,     0.36837,     0.36937,     0.37037,     0.37137,     0.37237,     0.37337,     0.37437,     0.37538,     0.37638,     0.37738,     0.37838,     0.37938,     0.38038,     0.38138,     0.38238,     0.38338,\n",
      "           0.38438,     0.38539,     0.38639,     0.38739,     0.38839,     0.38939,     0.39039,     0.39139,     0.39239,     0.39339,     0.39439,      0.3954,      0.3964,      0.3974,      0.3984,      0.3994,      0.4004,      0.4014,      0.4024,      0.4034,      0.4044,     0.40541,     0.40641,     0.40741,\n",
      "           0.40841,     0.40941,     0.41041,     0.41141,     0.41241,     0.41341,     0.41441,     0.41542,     0.41642,     0.41742,     0.41842,     0.41942,     0.42042,     0.42142,     0.42242,     0.42342,     0.42442,     0.42543,     0.42643,     0.42743,     0.42843,     0.42943,     0.43043,     0.43143,\n",
      "           0.43243,     0.43343,     0.43443,     0.43544,     0.43644,     0.43744,     0.43844,     0.43944,     0.44044,     0.44144,     0.44244,     0.44344,     0.44444,     0.44545,     0.44645,     0.44745,     0.44845,     0.44945,     0.45045,     0.45145,     0.45245,     0.45345,     0.45445,     0.45546,\n",
      "           0.45646,     0.45746,     0.45846,     0.45946,     0.46046,     0.46146,     0.46246,     0.46346,     0.46446,     0.46547,     0.46647,     0.46747,     0.46847,     0.46947,     0.47047,     0.47147,     0.47247,     0.47347,     0.47447,     0.47548,     0.47648,     0.47748,     0.47848,     0.47948,\n",
      "           0.48048,     0.48148,     0.48248,     0.48348,     0.48448,     0.48549,     0.48649,     0.48749,     0.48849,     0.48949,     0.49049,     0.49149,     0.49249,     0.49349,     0.49449,      0.4955,      0.4965,      0.4975,      0.4985,      0.4995,      0.5005,      0.5015,      0.5025,      0.5035,\n",
      "            0.5045,     0.50551,     0.50651,     0.50751,     0.50851,     0.50951,     0.51051,     0.51151,     0.51251,     0.51351,     0.51451,     0.51552,     0.51652,     0.51752,     0.51852,     0.51952,     0.52052,     0.52152,     0.52252,     0.52352,     0.52452,     0.52553,     0.52653,     0.52753,\n",
      "           0.52853,     0.52953,     0.53053,     0.53153,     0.53253,     0.53353,     0.53453,     0.53554,     0.53654,     0.53754,     0.53854,     0.53954,     0.54054,     0.54154,     0.54254,     0.54354,     0.54454,     0.54555,     0.54655,     0.54755,     0.54855,     0.54955,     0.55055,     0.55155,\n",
      "           0.55255,     0.55355,     0.55455,     0.55556,     0.55656,     0.55756,     0.55856,     0.55956,     0.56056,     0.56156,     0.56256,     0.56356,     0.56456,     0.56557,     0.56657,     0.56757,     0.56857,     0.56957,     0.57057,     0.57157,     0.57257,     0.57357,     0.57457,     0.57558,\n",
      "           0.57658,     0.57758,     0.57858,     0.57958,     0.58058,     0.58158,     0.58258,     0.58358,     0.58458,     0.58559,     0.58659,     0.58759,     0.58859,     0.58959,     0.59059,     0.59159,     0.59259,     0.59359,     0.59459,      0.5956,      0.5966,      0.5976,      0.5986,      0.5996,\n",
      "            0.6006,      0.6016,      0.6026,      0.6036,      0.6046,     0.60561,     0.60661,     0.60761,     0.60861,     0.60961,     0.61061,     0.61161,     0.61261,     0.61361,     0.61461,     0.61562,     0.61662,     0.61762,     0.61862,     0.61962,     0.62062,     0.62162,     0.62262,     0.62362,\n",
      "           0.62462,     0.62563,     0.62663,     0.62763,     0.62863,     0.62963,     0.63063,     0.63163,     0.63263,     0.63363,     0.63463,     0.63564,     0.63664,     0.63764,     0.63864,     0.63964,     0.64064,     0.64164,     0.64264,     0.64364,     0.64464,     0.64565,     0.64665,     0.64765,\n",
      "           0.64865,     0.64965,     0.65065,     0.65165,     0.65265,     0.65365,     0.65465,     0.65566,     0.65666,     0.65766,     0.65866,     0.65966,     0.66066,     0.66166,     0.66266,     0.66366,     0.66466,     0.66567,     0.66667,     0.66767,     0.66867,     0.66967,     0.67067,     0.67167,\n",
      "           0.67267,     0.67367,     0.67467,     0.67568,     0.67668,     0.67768,     0.67868,     0.67968,     0.68068,     0.68168,     0.68268,     0.68368,     0.68468,     0.68569,     0.68669,     0.68769,     0.68869,     0.68969,     0.69069,     0.69169,     0.69269,     0.69369,     0.69469,      0.6957,\n",
      "            0.6967,      0.6977,      0.6987,      0.6997,      0.7007,      0.7017,      0.7027,      0.7037,      0.7047,     0.70571,     0.70671,     0.70771,     0.70871,     0.70971,     0.71071,     0.71171,     0.71271,     0.71371,     0.71471,     0.71572,     0.71672,     0.71772,     0.71872,     0.71972,\n",
      "           0.72072,     0.72172,     0.72272,     0.72372,     0.72472,     0.72573,     0.72673,     0.72773,     0.72873,     0.72973,     0.73073,     0.73173,     0.73273,     0.73373,     0.73473,     0.73574,     0.73674,     0.73774,     0.73874,     0.73974,     0.74074,     0.74174,     0.74274,     0.74374,\n",
      "           0.74474,     0.74575,     0.74675,     0.74775,     0.74875,     0.74975,     0.75075,     0.75175,     0.75275,     0.75375,     0.75475,     0.75576,     0.75676,     0.75776,     0.75876,     0.75976,     0.76076,     0.76176,     0.76276,     0.76376,     0.76476,     0.76577,     0.76677,     0.76777,\n",
      "           0.76877,     0.76977,     0.77077,     0.77177,     0.77277,     0.77377,     0.77477,     0.77578,     0.77678,     0.77778,     0.77878,     0.77978,     0.78078,     0.78178,     0.78278,     0.78378,     0.78478,     0.78579,     0.78679,     0.78779,     0.78879,     0.78979,     0.79079,     0.79179,\n",
      "           0.79279,     0.79379,     0.79479,      0.7958,      0.7968,      0.7978,      0.7988,      0.7998,      0.8008,      0.8018,      0.8028,      0.8038,      0.8048,     0.80581,     0.80681,     0.80781,     0.80881,     0.80981,     0.81081,     0.81181,     0.81281,     0.81381,     0.81481,     0.81582,\n",
      "           0.81682,     0.81782,     0.81882,     0.81982,     0.82082,     0.82182,     0.82282,     0.82382,     0.82482,     0.82583,     0.82683,     0.82783,     0.82883,     0.82983,     0.83083,     0.83183,     0.83283,     0.83383,     0.83483,     0.83584,     0.83684,     0.83784,     0.83884,     0.83984,\n",
      "           0.84084,     0.84184,     0.84284,     0.84384,     0.84484,     0.84585,     0.84685,     0.84785,     0.84885,     0.84985,     0.85085,     0.85185,     0.85285,     0.85385,     0.85485,     0.85586,     0.85686,     0.85786,     0.85886,     0.85986,     0.86086,     0.86186,     0.86286,     0.86386,\n",
      "           0.86486,     0.86587,     0.86687,     0.86787,     0.86887,     0.86987,     0.87087,     0.87187,     0.87287,     0.87387,     0.87487,     0.87588,     0.87688,     0.87788,     0.87888,     0.87988,     0.88088,     0.88188,     0.88288,     0.88388,     0.88488,     0.88589,     0.88689,     0.88789,\n",
      "           0.88889,     0.88989,     0.89089,     0.89189,     0.89289,     0.89389,     0.89489,      0.8959,      0.8969,      0.8979,      0.8989,      0.8999,      0.9009,      0.9019,      0.9029,      0.9039,      0.9049,     0.90591,     0.90691,     0.90791,     0.90891,     0.90991,     0.91091,     0.91191,\n",
      "           0.91291,     0.91391,     0.91491,     0.91592,     0.91692,     0.91792,     0.91892,     0.91992,     0.92092,     0.92192,     0.92292,     0.92392,     0.92492,     0.92593,     0.92693,     0.92793,     0.92893,     0.92993,     0.93093,     0.93193,     0.93293,     0.93393,     0.93493,     0.93594,\n",
      "           0.93694,     0.93794,     0.93894,     0.93994,     0.94094,     0.94194,     0.94294,     0.94394,     0.94494,     0.94595,     0.94695,     0.94795,     0.94895,     0.94995,     0.95095,     0.95195,     0.95295,     0.95395,     0.95495,     0.95596,     0.95696,     0.95796,     0.95896,     0.95996,\n",
      "           0.96096,     0.96196,     0.96296,     0.96396,     0.96496,     0.96597,     0.96697,     0.96797,     0.96897,     0.96997,     0.97097,     0.97197,     0.97297,     0.97397,     0.97497,     0.97598,     0.97698,     0.97798,     0.97898,     0.97998,     0.98098,     0.98198,     0.98298,     0.98398,\n",
      "           0.98498,     0.98599,     0.98699,     0.98799,     0.98899,     0.98999,     0.99099,     0.99199,     0.99299,     0.99399,     0.99499,       0.996,       0.997,       0.998,       0.999,           1]), array([[          1,           1,           1,           1,           1,           1,           1,           1,           1,           1,           1,           1,           1,           1,           1,           1,           1,           1,           1,           1,           1,           1,           1,\n",
      "                  1,           1,           1,           1,           1,           1,           1,           1,           1,           1,           1,           1,           1,           1,           1,           1,           1,           1,           1,           1,           1,           1,           1,\n",
      "                  1,           1,           1,           1,           1,           1,           1,           1,           1,           1,           1,           1,           1,           1,           1,         0.9,         0.9,         0.9,         0.9,         0.9,         0.9,         0.9,         0.9,\n",
      "                0.9,         0.9,         0.9,         0.9,         0.9,         0.9,         0.9,         0.9,         0.9,         0.9,         0.9,         0.9,         0.9,         0.9,         0.9,         0.9,         0.9,         0.9,         0.9,         0.9,         0.9,         0.9,         0.9,\n",
      "                0.9,         0.9,         0.9,         0.9,         0.9,         0.9,         0.9,         0.9,         0.9,         0.9,         0.9,         0.9,         0.9,         0.9,         0.9,         0.9,         0.9,         0.9,         0.9,         0.9,         0.9,         0.9,         0.9,\n",
      "                0.9,         0.9,         0.9,         0.9,         0.9,         0.9,         0.9,         0.9,         0.9,         0.9,         0.9,         0.9,         0.9,         0.9,         0.9,         0.9,         0.9,         0.9,         0.9,         0.9,         0.9,         0.9,         0.9,\n",
      "                0.9,         0.9,         0.9,         0.9,         0.9,         0.9,         0.9,         0.9,         0.9,         0.9,         0.9,         0.9,         0.9,         0.9,         0.9,         0.9,         0.9,         0.9,         0.9,         0.9,         0.9,         0.9,         0.9,\n",
      "                0.9,         0.9,         0.9,         0.9,         0.9,         0.9,         0.9,         0.9,         0.9,         0.9,         0.9,         0.9,         0.9,         0.9,         0.9,         0.9,         0.9,         0.9,         0.9,         0.9,         0.9,         0.9,         0.9,\n",
      "                0.9,         0.9,         0.9,         0.9,         0.9,         0.9,         0.9,         0.9,         0.9,         0.9,         0.9,         0.9,         0.9,         0.9,         0.9,         0.9,         0.9,         0.9,         0.9,         0.9,         0.9,         0.9,         0.9,\n",
      "                0.9,         0.9,         0.9,         0.9,         0.9,         0.9,         0.9,         0.9,         0.9,         0.9,         0.9,         0.9,         0.9,         0.9,         0.9,         0.9,         0.9,         0.9,         0.9,         0.9,         0.9,         0.9,         0.9,\n",
      "                0.9,         0.9,         0.9,         0.9,         0.9,         0.9,         0.9,         0.9,         0.9,         0.9,         0.9,         0.9,         0.9,         0.9,         0.9,         0.9,         0.9,         0.9,         0.9,         0.9,         0.9,         0.9,         0.9,\n",
      "                0.9,         0.9,         0.9,         0.9,         0.9,         0.9,         0.9,         0.9,         0.9,         0.9,         0.9,         0.9,         0.9,         0.9,         0.9,         0.9,         0.9,         0.9,         0.9,         0.9,     0.84615,     0.84615,     0.84615,\n",
      "            0.84615,     0.84615,     0.84615,     0.84615,     0.84615,     0.84615,     0.84615,     0.84615,     0.84615,     0.84615,     0.84615,     0.84615,     0.84615,     0.84615,     0.84615,     0.84615,     0.84615,     0.84615,     0.84615,     0.84615,     0.84615,     0.84615,     0.84615,\n",
      "            0.84615,     0.84615,     0.84615,     0.84615,     0.84615,     0.84615,     0.84615,     0.84615,     0.84615,     0.84615,     0.84615,     0.84615,     0.84615,     0.84615,     0.84615,     0.84615,     0.84615,     0.84615,     0.84615,     0.84615,     0.84615,     0.84615,     0.84615,\n",
      "            0.84615,     0.84615,     0.84615,     0.84615,     0.84615,     0.84615,     0.84615,     0.84615,     0.84615,     0.84615,     0.84615,      0.8125,      0.8125,      0.8125,      0.8125,      0.8125,      0.8125,      0.8125,      0.8125,      0.8125,      0.8125,      0.8125,      0.8125,\n",
      "             0.8125,      0.8125,      0.8125,      0.8125,      0.8125,      0.8125,      0.8125,      0.8125,      0.8125,      0.8125,      0.8125,      0.8125,      0.8125,      0.8125,      0.8125,      0.8125,      0.8125,      0.8125,      0.8125,      0.8125,      0.8125,      0.8125,      0.8125,\n",
      "             0.8125,      0.8125,      0.8125,      0.8125,      0.8125,      0.8125,      0.8125,      0.8125,      0.8125,      0.8125,      0.8125,      0.8125,      0.8125,      0.8125,      0.8125,      0.8125,      0.8125,      0.8125,      0.8125,      0.8125,      0.8125,      0.8125,      0.8125,\n",
      "             0.8125,      0.8125,      0.8125,     0.73684,     0.73684,     0.73684,     0.73684,     0.73684,     0.73684,     0.73684,     0.73684,     0.73684,     0.73684,     0.73684,     0.73684,     0.73684,     0.73684,     0.73684,     0.73684,     0.73684,     0.73684,     0.73684,     0.73684,\n",
      "            0.73684,     0.73684,     0.73684,     0.73684,     0.73684,     0.73684,     0.73684,     0.73684,     0.73684,     0.73684,     0.57692,     0.57692,     0.57692,     0.57692,     0.57692,     0.57692,     0.57692,     0.57692,     0.57692,     0.57692,     0.57692,     0.57692,     0.57692,\n",
      "            0.57692,     0.57692,     0.57692,     0.57692,     0.57692,     0.57692,     0.57692,     0.57692,     0.57692,     0.57692,     0.57692,     0.57692,     0.57692,     0.57692,     0.57692,     0.57692,     0.57692,     0.57692,     0.31373,     0.31373,     0.31373,     0.31373,     0.31373,\n",
      "            0.31373,     0.31373,     0.31373,     0.31373,     0.31373,     0.31373,     0.31373,     0.31373,     0.31373,     0.31373,     0.31373,     0.31373,     0.31373,     0.31373,     0.31373,     0.31373,     0.31373,     0.31373,     0.31373,     0.31373,     0.31373,     0.31373,     0.31373,\n",
      "            0.31373,     0.31373,     0.30769,     0.30769,     0.30769,     0.30769,     0.30769,     0.30769,     0.30769,     0.30769,     0.30769,     0.30769,     0.30769,     0.30769,     0.30769,     0.30769,     0.30769,     0.30769,     0.30769,     0.30769,     0.30769,     0.30769,     0.30769,\n",
      "            0.30769,     0.30769,     0.30769,     0.30769,     0.30769,     0.30769,     0.30769,     0.30769,     0.30769,     0.30769,     0.30769,     0.30769,     0.30769,     0.30769,     0.30769,     0.30769,     0.30769,     0.30769,     0.30769,     0.30769,     0.30769,     0.30769,     0.30769,\n",
      "            0.30769,     0.30769,     0.30769,     0.30769,     0.30769,     0.30769,     0.30769,     0.30769,     0.30769,     0.30769,     0.30769,     0.30769,     0.30769,     0.30769,     0.30769,     0.30769,     0.30769,     0.30769,     0.30769,     0.30769,     0.30769,     0.30769,     0.30769,\n",
      "            0.30769,     0.30769,     0.30769,     0.30769,     0.30769,     0.30769,     0.30769,     0.30769,     0.30769,     0.30769,     0.30769,     0.30769,     0.30769,     0.30769,     0.30769,     0.30769,     0.30769,     0.30769,     0.30769,     0.30769,     0.30769,     0.30769,     0.30769,\n",
      "            0.30769,     0.30769,     0.30769,     0.30769,     0.30769,     0.30769,     0.30769,     0.30769,     0.30769,     0.30769,     0.30769,     0.30769,     0.30769,     0.30769,     0.30769,     0.30769,     0.30769,     0.30769,     0.30769,     0.30769,     0.30769,     0.30769,     0.30769,\n",
      "            0.30769,     0.30769,     0.30769,     0.30769,     0.30769,     0.30769,     0.30769,     0.30769,        0.28,        0.28,        0.28,        0.28,        0.28,        0.28,        0.28,        0.28,        0.28,        0.28,        0.28,        0.28,        0.28,        0.28,        0.28,\n",
      "               0.28,        0.28,        0.28,        0.28,        0.28,        0.28,        0.28,        0.28,        0.28,        0.28,        0.28,        0.28,        0.28,        0.28,        0.28,     0.25882,     0.25882,     0.25882,     0.25882,     0.25882,     0.25882,     0.25882,     0.25882,\n",
      "            0.25882,     0.25882,     0.25882,     0.25882,     0.25882,     0.25882,     0.25882,     0.25882,     0.25882,     0.25882,     0.25882,     0.25882,     0.25882,     0.25882,     0.25882,     0.25882,     0.25882,     0.25882,     0.25882,     0.25882,     0.25882,     0.25882,        0.25,\n",
      "               0.25,        0.25,        0.25,        0.25,        0.25,        0.25,        0.25,        0.25,        0.25,        0.25,        0.25,        0.25,        0.25,        0.25,        0.25,        0.25,        0.25,        0.25,        0.25,        0.25,        0.25,        0.25,        0.25,\n",
      "               0.25,        0.25,        0.25,        0.25,        0.25,        0.25,        0.25,     0.11364,     0.11364,     0.11364,     0.11364,     0.11364,     0.11364,     0.11364,     0.11364,     0.11364,     0.11364,     0.11364,     0.11364,     0.11364,     0.11364,     0.11364,     0.11364,\n",
      "            0.11364,     0.11364,     0.11364,     0.11364,     0.11364,     0.11364,     0.11364,     0.11364,     0.11364,     0.11364,     0.11364,     0.11364,     0.11364,     0.11364,     0.11364,     0.11364,     0.11364,     0.11364,     0.11364,     0.11364,     0.11364,     0.11364,     0.11364,\n",
      "            0.11364,     0.11364,     0.11364,     0.11364,     0.11364,     0.11364,     0.11364,     0.11364,     0.11364,     0.11364,     0.11364,     0.11364,     0.11364,     0.11364,     0.11364,     0.11364,     0.11364,     0.11364,     0.11364,     0.11364,     0.11364,    0.085809,    0.085809,\n",
      "           0.085809,    0.085809,    0.085809,    0.085809,    0.085809,    0.085809,    0.085809,    0.085809,    0.085809,    0.085809,    0.085809,    0.085809,    0.085809,    0.085809,    0.085809,    0.085809,    0.085809,    0.085809,    0.085809,    0.085809,    0.085809,    0.085809,    0.085809,\n",
      "           0.085809,    0.085809,    0.085809,    0.085809,    0.085809,    0.085809,       0.075,       0.075,       0.075,       0.075,       0.075,       0.075,       0.075,       0.075,       0.075,       0.075,       0.075,       0.075,       0.075,       0.075,       0.075,       0.075,       0.075,\n",
      "              0.075,       0.075,       0.075,       0.075,       0.075,       0.075,       0.075,       0.075,       0.075,       0.075,       0.075,       0.075,       0.075,    0.017726,    0.017726,    0.017726,    0.017726,    0.017726,    0.017726,    0.017726,    0.017726,    0.017726,    0.017726,\n",
      "           0.017726,    0.017726,    0.017726,    0.017726,    0.017726,    0.017726,    0.017726,    0.017726,    0.017726,    0.017726,    0.017726,    0.017726,    0.017726,    0.017726,    0.017726,    0.017726,    0.017726,    0.017726,    0.017726,    0.017726,    0.017726,    0.017726,    0.017726,\n",
      "           0.017726,    0.017726,    0.017726,    0.017726,    0.017726,    0.017726,    0.017726,    0.017726,    0.017726,    0.017726,    0.017726,    0.017726,    0.017726,    0.017726,    0.017726,    0.017726,    0.017726,    0.017726,    0.017726,    0.017726,    0.017726,    0.017726,    0.017726,\n",
      "           0.017726,    0.017726,    0.017726,    0.017726,     0.01228,     0.01228,     0.01228,     0.01228,     0.01228,     0.01228,     0.01228,     0.01228,     0.01228,     0.01228,     0.01228,     0.01228,     0.01228,     0.01228,     0.01228,     0.01228,     0.01228,     0.01228,     0.01228,\n",
      "            0.01228,     0.01228,     0.01228,     0.01228,     0.01228,     0.01228,     0.01228,     0.01228,     0.01228,     0.01228,     0.01228,     0.01228,   0.0052021,   0.0051443,   0.0050865,   0.0050287,   0.0049709,    0.004913,   0.0048552,   0.0047974,   0.0047396,   0.0046818,    0.004624,\n",
      "          0.0045662,   0.0045084,   0.0044506,   0.0043928,    0.004335,   0.0042772,   0.0042194,   0.0041616,   0.0041038,    0.004046,   0.0039882,   0.0039304,   0.0038726,   0.0038148,    0.003757,   0.0036992,   0.0036414,   0.0035836,   0.0035258,    0.003468,   0.0034102,   0.0033524,   0.0032946,\n",
      "          0.0032368,    0.003179,   0.0031212,   0.0030634,   0.0030056,   0.0029478,     0.00289,   0.0028322,   0.0027744,   0.0027166,   0.0026588,    0.002601,   0.0025432,   0.0024854,   0.0024276,   0.0023698,    0.002312,   0.0022542,   0.0021964,   0.0021386,   0.0020808,    0.002023,   0.0019652,\n",
      "          0.0019074,   0.0018496,   0.0017918,    0.001734,   0.0016762,   0.0016184,   0.0015606,   0.0015028,    0.001445,   0.0013872,   0.0013294,   0.0012716,   0.0012138,    0.001156,   0.0010982,   0.0010404,  0.00098261,  0.00092481,  0.00086701,  0.00080921,  0.00075141,  0.00069361,  0.00063581,\n",
      "         0.00057801,  0.00052021,   0.0004624,   0.0004046,   0.0003468,    0.000289,   0.0002312,   0.0001734,   0.0001156,  5.7801e-05,           0]]), 'Recall', 'Precision'], [array([          0,    0.001001,    0.002002,    0.003003,    0.004004,    0.005005,    0.006006,    0.007007,    0.008008,    0.009009,     0.01001,    0.011011,    0.012012,    0.013013,    0.014014,    0.015015,    0.016016,    0.017017,    0.018018,    0.019019,     0.02002,    0.021021,    0.022022,    0.023023,\n",
      "          0.024024,    0.025025,    0.026026,    0.027027,    0.028028,    0.029029,     0.03003,    0.031031,    0.032032,    0.033033,    0.034034,    0.035035,    0.036036,    0.037037,    0.038038,    0.039039,     0.04004,    0.041041,    0.042042,    0.043043,    0.044044,    0.045045,    0.046046,    0.047047,\n",
      "          0.048048,    0.049049,     0.05005,    0.051051,    0.052052,    0.053053,    0.054054,    0.055055,    0.056056,    0.057057,    0.058058,    0.059059,     0.06006,    0.061061,    0.062062,    0.063063,    0.064064,    0.065065,    0.066066,    0.067067,    0.068068,    0.069069,     0.07007,    0.071071,\n",
      "          0.072072,    0.073073,    0.074074,    0.075075,    0.076076,    0.077077,    0.078078,    0.079079,     0.08008,    0.081081,    0.082082,    0.083083,    0.084084,    0.085085,    0.086086,    0.087087,    0.088088,    0.089089,     0.09009,    0.091091,    0.092092,    0.093093,    0.094094,    0.095095,\n",
      "          0.096096,    0.097097,    0.098098,    0.099099,      0.1001,      0.1011,      0.1021,      0.1031,      0.1041,     0.10511,     0.10611,     0.10711,     0.10811,     0.10911,     0.11011,     0.11111,     0.11211,     0.11311,     0.11411,     0.11512,     0.11612,     0.11712,     0.11812,     0.11912,\n",
      "           0.12012,     0.12112,     0.12212,     0.12312,     0.12412,     0.12513,     0.12613,     0.12713,     0.12813,     0.12913,     0.13013,     0.13113,     0.13213,     0.13313,     0.13413,     0.13514,     0.13614,     0.13714,     0.13814,     0.13914,     0.14014,     0.14114,     0.14214,     0.14314,\n",
      "           0.14414,     0.14515,     0.14615,     0.14715,     0.14815,     0.14915,     0.15015,     0.15115,     0.15215,     0.15315,     0.15415,     0.15516,     0.15616,     0.15716,     0.15816,     0.15916,     0.16016,     0.16116,     0.16216,     0.16316,     0.16416,     0.16517,     0.16617,     0.16717,\n",
      "           0.16817,     0.16917,     0.17017,     0.17117,     0.17217,     0.17317,     0.17417,     0.17518,     0.17618,     0.17718,     0.17818,     0.17918,     0.18018,     0.18118,     0.18218,     0.18318,     0.18418,     0.18519,     0.18619,     0.18719,     0.18819,     0.18919,     0.19019,     0.19119,\n",
      "           0.19219,     0.19319,     0.19419,      0.1952,      0.1962,      0.1972,      0.1982,      0.1992,      0.2002,      0.2012,      0.2022,      0.2032,      0.2042,     0.20521,     0.20621,     0.20721,     0.20821,     0.20921,     0.21021,     0.21121,     0.21221,     0.21321,     0.21421,     0.21522,\n",
      "           0.21622,     0.21722,     0.21822,     0.21922,     0.22022,     0.22122,     0.22222,     0.22322,     0.22422,     0.22523,     0.22623,     0.22723,     0.22823,     0.22923,     0.23023,     0.23123,     0.23223,     0.23323,     0.23423,     0.23524,     0.23624,     0.23724,     0.23824,     0.23924,\n",
      "           0.24024,     0.24124,     0.24224,     0.24324,     0.24424,     0.24525,     0.24625,     0.24725,     0.24825,     0.24925,     0.25025,     0.25125,     0.25225,     0.25325,     0.25425,     0.25526,     0.25626,     0.25726,     0.25826,     0.25926,     0.26026,     0.26126,     0.26226,     0.26326,\n",
      "           0.26426,     0.26527,     0.26627,     0.26727,     0.26827,     0.26927,     0.27027,     0.27127,     0.27227,     0.27327,     0.27427,     0.27528,     0.27628,     0.27728,     0.27828,     0.27928,     0.28028,     0.28128,     0.28228,     0.28328,     0.28428,     0.28529,     0.28629,     0.28729,\n",
      "           0.28829,     0.28929,     0.29029,     0.29129,     0.29229,     0.29329,     0.29429,      0.2953,      0.2963,      0.2973,      0.2983,      0.2993,      0.3003,      0.3013,      0.3023,      0.3033,      0.3043,     0.30531,     0.30631,     0.30731,     0.30831,     0.30931,     0.31031,     0.31131,\n",
      "           0.31231,     0.31331,     0.31431,     0.31532,     0.31632,     0.31732,     0.31832,     0.31932,     0.32032,     0.32132,     0.32232,     0.32332,     0.32432,     0.32533,     0.32633,     0.32733,     0.32833,     0.32933,     0.33033,     0.33133,     0.33233,     0.33333,     0.33433,     0.33534,\n",
      "           0.33634,     0.33734,     0.33834,     0.33934,     0.34034,     0.34134,     0.34234,     0.34334,     0.34434,     0.34535,     0.34635,     0.34735,     0.34835,     0.34935,     0.35035,     0.35135,     0.35235,     0.35335,     0.35435,     0.35536,     0.35636,     0.35736,     0.35836,     0.35936,\n",
      "           0.36036,     0.36136,     0.36236,     0.36336,     0.36436,     0.36537,     0.36637,     0.36737,     0.36837,     0.36937,     0.37037,     0.37137,     0.37237,     0.37337,     0.37437,     0.37538,     0.37638,     0.37738,     0.37838,     0.37938,     0.38038,     0.38138,     0.38238,     0.38338,\n",
      "           0.38438,     0.38539,     0.38639,     0.38739,     0.38839,     0.38939,     0.39039,     0.39139,     0.39239,     0.39339,     0.39439,      0.3954,      0.3964,      0.3974,      0.3984,      0.3994,      0.4004,      0.4014,      0.4024,      0.4034,      0.4044,     0.40541,     0.40641,     0.40741,\n",
      "           0.40841,     0.40941,     0.41041,     0.41141,     0.41241,     0.41341,     0.41441,     0.41542,     0.41642,     0.41742,     0.41842,     0.41942,     0.42042,     0.42142,     0.42242,     0.42342,     0.42442,     0.42543,     0.42643,     0.42743,     0.42843,     0.42943,     0.43043,     0.43143,\n",
      "           0.43243,     0.43343,     0.43443,     0.43544,     0.43644,     0.43744,     0.43844,     0.43944,     0.44044,     0.44144,     0.44244,     0.44344,     0.44444,     0.44545,     0.44645,     0.44745,     0.44845,     0.44945,     0.45045,     0.45145,     0.45245,     0.45345,     0.45445,     0.45546,\n",
      "           0.45646,     0.45746,     0.45846,     0.45946,     0.46046,     0.46146,     0.46246,     0.46346,     0.46446,     0.46547,     0.46647,     0.46747,     0.46847,     0.46947,     0.47047,     0.47147,     0.47247,     0.47347,     0.47447,     0.47548,     0.47648,     0.47748,     0.47848,     0.47948,\n",
      "           0.48048,     0.48148,     0.48248,     0.48348,     0.48448,     0.48549,     0.48649,     0.48749,     0.48849,     0.48949,     0.49049,     0.49149,     0.49249,     0.49349,     0.49449,      0.4955,      0.4965,      0.4975,      0.4985,      0.4995,      0.5005,      0.5015,      0.5025,      0.5035,\n",
      "            0.5045,     0.50551,     0.50651,     0.50751,     0.50851,     0.50951,     0.51051,     0.51151,     0.51251,     0.51351,     0.51451,     0.51552,     0.51652,     0.51752,     0.51852,     0.51952,     0.52052,     0.52152,     0.52252,     0.52352,     0.52452,     0.52553,     0.52653,     0.52753,\n",
      "           0.52853,     0.52953,     0.53053,     0.53153,     0.53253,     0.53353,     0.53453,     0.53554,     0.53654,     0.53754,     0.53854,     0.53954,     0.54054,     0.54154,     0.54254,     0.54354,     0.54454,     0.54555,     0.54655,     0.54755,     0.54855,     0.54955,     0.55055,     0.55155,\n",
      "           0.55255,     0.55355,     0.55455,     0.55556,     0.55656,     0.55756,     0.55856,     0.55956,     0.56056,     0.56156,     0.56256,     0.56356,     0.56456,     0.56557,     0.56657,     0.56757,     0.56857,     0.56957,     0.57057,     0.57157,     0.57257,     0.57357,     0.57457,     0.57558,\n",
      "           0.57658,     0.57758,     0.57858,     0.57958,     0.58058,     0.58158,     0.58258,     0.58358,     0.58458,     0.58559,     0.58659,     0.58759,     0.58859,     0.58959,     0.59059,     0.59159,     0.59259,     0.59359,     0.59459,      0.5956,      0.5966,      0.5976,      0.5986,      0.5996,\n",
      "            0.6006,      0.6016,      0.6026,      0.6036,      0.6046,     0.60561,     0.60661,     0.60761,     0.60861,     0.60961,     0.61061,     0.61161,     0.61261,     0.61361,     0.61461,     0.61562,     0.61662,     0.61762,     0.61862,     0.61962,     0.62062,     0.62162,     0.62262,     0.62362,\n",
      "           0.62462,     0.62563,     0.62663,     0.62763,     0.62863,     0.62963,     0.63063,     0.63163,     0.63263,     0.63363,     0.63463,     0.63564,     0.63664,     0.63764,     0.63864,     0.63964,     0.64064,     0.64164,     0.64264,     0.64364,     0.64464,     0.64565,     0.64665,     0.64765,\n",
      "           0.64865,     0.64965,     0.65065,     0.65165,     0.65265,     0.65365,     0.65465,     0.65566,     0.65666,     0.65766,     0.65866,     0.65966,     0.66066,     0.66166,     0.66266,     0.66366,     0.66466,     0.66567,     0.66667,     0.66767,     0.66867,     0.66967,     0.67067,     0.67167,\n",
      "           0.67267,     0.67367,     0.67467,     0.67568,     0.67668,     0.67768,     0.67868,     0.67968,     0.68068,     0.68168,     0.68268,     0.68368,     0.68468,     0.68569,     0.68669,     0.68769,     0.68869,     0.68969,     0.69069,     0.69169,     0.69269,     0.69369,     0.69469,      0.6957,\n",
      "            0.6967,      0.6977,      0.6987,      0.6997,      0.7007,      0.7017,      0.7027,      0.7037,      0.7047,     0.70571,     0.70671,     0.70771,     0.70871,     0.70971,     0.71071,     0.71171,     0.71271,     0.71371,     0.71471,     0.71572,     0.71672,     0.71772,     0.71872,     0.71972,\n",
      "           0.72072,     0.72172,     0.72272,     0.72372,     0.72472,     0.72573,     0.72673,     0.72773,     0.72873,     0.72973,     0.73073,     0.73173,     0.73273,     0.73373,     0.73473,     0.73574,     0.73674,     0.73774,     0.73874,     0.73974,     0.74074,     0.74174,     0.74274,     0.74374,\n",
      "           0.74474,     0.74575,     0.74675,     0.74775,     0.74875,     0.74975,     0.75075,     0.75175,     0.75275,     0.75375,     0.75475,     0.75576,     0.75676,     0.75776,     0.75876,     0.75976,     0.76076,     0.76176,     0.76276,     0.76376,     0.76476,     0.76577,     0.76677,     0.76777,\n",
      "           0.76877,     0.76977,     0.77077,     0.77177,     0.77277,     0.77377,     0.77477,     0.77578,     0.77678,     0.77778,     0.77878,     0.77978,     0.78078,     0.78178,     0.78278,     0.78378,     0.78478,     0.78579,     0.78679,     0.78779,     0.78879,     0.78979,     0.79079,     0.79179,\n",
      "           0.79279,     0.79379,     0.79479,      0.7958,      0.7968,      0.7978,      0.7988,      0.7998,      0.8008,      0.8018,      0.8028,      0.8038,      0.8048,     0.80581,     0.80681,     0.80781,     0.80881,     0.80981,     0.81081,     0.81181,     0.81281,     0.81381,     0.81481,     0.81582,\n",
      "           0.81682,     0.81782,     0.81882,     0.81982,     0.82082,     0.82182,     0.82282,     0.82382,     0.82482,     0.82583,     0.82683,     0.82783,     0.82883,     0.82983,     0.83083,     0.83183,     0.83283,     0.83383,     0.83483,     0.83584,     0.83684,     0.83784,     0.83884,     0.83984,\n",
      "           0.84084,     0.84184,     0.84284,     0.84384,     0.84484,     0.84585,     0.84685,     0.84785,     0.84885,     0.84985,     0.85085,     0.85185,     0.85285,     0.85385,     0.85485,     0.85586,     0.85686,     0.85786,     0.85886,     0.85986,     0.86086,     0.86186,     0.86286,     0.86386,\n",
      "           0.86486,     0.86587,     0.86687,     0.86787,     0.86887,     0.86987,     0.87087,     0.87187,     0.87287,     0.87387,     0.87487,     0.87588,     0.87688,     0.87788,     0.87888,     0.87988,     0.88088,     0.88188,     0.88288,     0.88388,     0.88488,     0.88589,     0.88689,     0.88789,\n",
      "           0.88889,     0.88989,     0.89089,     0.89189,     0.89289,     0.89389,     0.89489,      0.8959,      0.8969,      0.8979,      0.8989,      0.8999,      0.9009,      0.9019,      0.9029,      0.9039,      0.9049,     0.90591,     0.90691,     0.90791,     0.90891,     0.90991,     0.91091,     0.91191,\n",
      "           0.91291,     0.91391,     0.91491,     0.91592,     0.91692,     0.91792,     0.91892,     0.91992,     0.92092,     0.92192,     0.92292,     0.92392,     0.92492,     0.92593,     0.92693,     0.92793,     0.92893,     0.92993,     0.93093,     0.93193,     0.93293,     0.93393,     0.93493,     0.93594,\n",
      "           0.93694,     0.93794,     0.93894,     0.93994,     0.94094,     0.94194,     0.94294,     0.94394,     0.94494,     0.94595,     0.94695,     0.94795,     0.94895,     0.94995,     0.95095,     0.95195,     0.95295,     0.95395,     0.95495,     0.95596,     0.95696,     0.95796,     0.95896,     0.95996,\n",
      "           0.96096,     0.96196,     0.96296,     0.96396,     0.96496,     0.96597,     0.96697,     0.96797,     0.96897,     0.96997,     0.97097,     0.97197,     0.97297,     0.97397,     0.97497,     0.97598,     0.97698,     0.97798,     0.97898,     0.97998,     0.98098,     0.98198,     0.98298,     0.98398,\n",
      "           0.98498,     0.98599,     0.98699,     0.98799,     0.98899,     0.98999,     0.99099,     0.99199,     0.99299,     0.99399,     0.99499,       0.996,       0.997,       0.998,       0.999,           1]), array([[   0.010438,    0.010443,     0.01628,    0.021094,     0.02445,    0.027811,    0.031078,    0.034221,    0.035014,     0.03829,    0.041019,    0.043733,    0.046257,    0.049047,    0.051208,    0.053779,    0.057407,    0.060574,    0.063217,    0.066062,    0.069384,    0.072793,    0.076244,\n",
      "           0.078976,    0.081736,    0.084771,    0.086731,    0.088866,    0.091714,    0.094672,    0.097148,     0.10036,     0.10249,     0.10396,     0.10825,     0.11121,     0.11371,     0.11643,     0.11849,      0.1217,     0.12381,     0.12632,     0.12919,     0.13307,     0.13506,     0.13706,\n",
      "            0.13535,     0.13879,     0.14089,     0.14479,     0.14918,     0.15268,      0.1547,     0.15137,     0.15474,     0.15776,     0.16059,     0.16204,     0.16399,     0.16629,     0.16719,     0.16775,     0.17074,     0.17325,     0.17506,     0.17623,     0.17718,     0.17977,     0.18177,\n",
      "            0.18233,     0.18541,     0.18832,     0.19157,     0.19328,     0.19476,     0.19685,     0.19735,     0.19171,     0.18612,     0.18952,     0.19167,     0.19262,     0.19287,     0.19312,     0.19548,     0.19993,     0.20353,     0.20553,     0.20644,     0.20852,     0.21037,     0.21222,\n",
      "            0.21333,     0.21556,     0.21643,     0.21721,      0.2178,     0.21948,     0.22092,     0.22329,     0.22477,     0.22541,      0.2282,     0.22917,     0.23248,     0.23399,     0.23671,     0.23779,       0.239,     0.24219,     0.24374,     0.24535,     0.24811,     0.24902,     0.24942,\n",
      "            0.24983,     0.25118,     0.25282,     0.25422,     0.25474,     0.25526,     0.25594,     0.25683,      0.2576,     0.25834,     0.26019,     0.26067,     0.26115,     0.26528,     0.26706,     0.27063,     0.27252,     0.27571,     0.27643,     0.27717,     0.27849,     0.28219,     0.28387,\n",
      "             0.2862,     0.28675,      0.2873,     0.28809,       0.289,     0.29151,     0.29322,     0.29397,     0.29471,      0.2984,     0.30166,     0.30389,     0.30509,     0.30568,     0.30627,     0.30824,     0.30945,     0.31026,     0.31099,     0.31158,     0.31217,     0.31275,     0.31338,\n",
      "            0.31402,     0.31466,     0.31535,     0.31615,     0.31694,     0.31804,     0.31931,     0.32095,     0.32288,     0.32458,     0.32588,     0.32802,     0.33175,     0.33292,     0.33455,     0.33731,     0.34128,     0.34262,     0.34641,     0.34754,     0.34857,     0.34913,     0.34968,\n",
      "            0.35024,     0.35079,     0.35124,     0.35152,      0.3518,     0.35207,     0.35235,     0.35262,      0.3529,     0.35318,     0.35345,     0.35373,     0.35702,      0.3581,     0.35919,      0.3655,     0.36776,     0.36713,      0.3665,     0.36586,     0.36523,     0.36459,     0.36396,\n",
      "            0.36332,     0.36269,     0.36206,     0.36142,     0.36079,     0.36015,     0.35952,     0.35888,     0.35825,     0.35761,     0.35698,     0.35634,     0.35571,     0.35507,     0.35778,     0.36101,      0.3635,     0.36992,     0.37088,     0.37183,     0.37279,      0.3691,     0.36491,\n",
      "            0.36072,      0.3604,     0.36243,      0.3636,     0.36476,     0.36912,     0.37116,     0.37517,     0.37609,       0.377,     0.37792,     0.38557,     0.37428,      0.3758,     0.37731,     0.37884,     0.38036,     0.38139,     0.38212,     0.38284,     0.38356,     0.38428,     0.38498,\n",
      "            0.38566,     0.38635,     0.38703,     0.38771,     0.38995,     0.39284,     0.39359,     0.39433,     0.39507,     0.39582,     0.39654,     0.39725,     0.39796,     0.39866,     0.39937,     0.40004,     0.40044,     0.40083,     0.40122,     0.40161,       0.402,     0.40239,     0.40278,\n",
      "            0.40317,     0.40356,     0.40395,      0.3933,     0.39039,     0.38893,     0.38746,       0.386,     0.38454,     0.38307,     0.38161,     0.38014,     0.37868,     0.37721,     0.37575,     0.37415,     0.37241,     0.37068,     0.36894,      0.3672,     0.36546,     0.36372,     0.36198,\n",
      "            0.36024,      0.3585,     0.36185,     0.36273,     0.36361,     0.36449,     0.36536,     0.36613,     0.36687,      0.3676,     0.36833,     0.36906,     0.36854,     0.36518,     0.36181,     0.35844,     0.35506,     0.35169,     0.35215,     0.35265,     0.35315,     0.35366,     0.35416,\n",
      "            0.35466,     0.35516,     0.35578,     0.35686,     0.35793,       0.359,     0.36172,     0.36387,     0.36428,     0.36469,      0.3651,     0.36551,     0.36591,     0.36632,     0.36673,     0.36713,     0.36754,     0.36873,     0.37165,     0.37268,     0.37338,     0.37407,     0.37476,\n",
      "            0.37545,     0.37614,     0.37736,     0.37905,     0.38074,     0.37237,     0.36254,      0.3633,     0.36537,      0.3743,     0.37755,     0.38002,     0.38149,     0.38295,     0.38441,     0.39066,     0.39251,     0.39435,     0.39542,     0.39629,     0.39715,     0.39802,     0.39887,\n",
      "            0.39973,      0.4031,     0.40613,     0.40763,     0.40912,     0.41061,     0.41133,     0.41182,     0.41232,      0.4128,     0.41329,     0.41378,     0.41427,     0.41475,     0.41524,     0.41572,      0.4162,     0.41669,     0.41727,     0.41784,     0.41842,       0.419,     0.41957,\n",
      "            0.42014,     0.42071,     0.42128,     0.42185,     0.42242,     0.42344,     0.42457,      0.4257,     0.42683,     0.42795,     0.43506,     0.43774,     0.44039,     0.44272,     0.44491,     0.44709,     0.45114,     0.45763,     0.46442,     0.46892,     0.47193,      0.4749,     0.47662,\n",
      "            0.47737,     0.47812,     0.47887,     0.47962,     0.48036,      0.4811,     0.48184,     0.48258,     0.48331,     0.48481,      0.4888,     0.49189,     0.49225,      0.4926,     0.49296,     0.49332,     0.49367,     0.49403,     0.49438,     0.49474,     0.49509,     0.49544,      0.4958,\n",
      "            0.49615,      0.4965,     0.49685,      0.4972,     0.49755,      0.4979,     0.49824,     0.49859,     0.49894,     0.49928,     0.49963,     0.49997,     0.50124,     0.50256,     0.50388,     0.50518,     0.50648,     0.50777,     0.50729,      0.5047,      0.5021,      0.4995,     0.49689,\n",
      "            0.49428,     0.49166,     0.48904,     0.48642,     0.48379,     0.48802,     0.49165,     0.49232,     0.49298,     0.49365,     0.49431,     0.49497,     0.49563,     0.49628,     0.49694,     0.49759,     0.49824,     0.49888,     0.49952,     0.50047,     0.50229,     0.50408,     0.50586,\n",
      "            0.50762,     0.50917,     0.50967,     0.51017,     0.51067,     0.51117,     0.51167,     0.51216,     0.51266,     0.51315,     0.51364,     0.51413,     0.51462,      0.5151,     0.51559,     0.51607,     0.51656,     0.51704,     0.51752,       0.518,     0.51847,     0.51887,     0.51926,\n",
      "            0.51966,     0.52004,     0.52043,     0.52082,     0.52121,     0.52159,     0.52198,     0.52236,     0.52275,     0.52313,     0.52351,     0.52389,     0.52427,     0.52465,     0.52503,      0.5254,     0.52578,     0.52616,     0.52653,      0.5269,     0.52728,     0.52765,     0.52802,\n",
      "            0.52836,     0.52858,     0.52881,     0.52903,     0.52925,     0.52948,      0.5297,     0.52993,     0.53015,     0.53037,     0.53059,     0.53082,     0.53104,     0.53126,     0.53148,      0.5317,     0.53192,     0.53214,     0.53236,     0.53258,      0.5328,     0.53302,     0.53324,\n",
      "            0.53346,     0.53368,     0.53389,     0.53411,     0.53433,     0.53455,     0.53476,     0.53498,     0.53519,     0.53541,     0.53563,     0.53584,     0.53606,     0.53627,     0.53648,      0.5367,     0.53691,     0.53713,     0.53734,     0.53755,     0.53776,     0.53798,     0.53819,\n",
      "             0.5384,      0.5349,     0.52984,     0.52476,     0.51965,     0.51453,     0.51075,      0.5216,     0.53024,     0.52318,     0.51608,     0.50892,     0.50172,     0.49834,     0.49617,     0.49399,      0.4918,     0.48961,     0.48742,     0.48522,     0.48302,     0.48081,      0.4786,\n",
      "            0.47638,     0.47416,     0.47193,      0.4697,     0.46831,     0.46912,     0.46993,     0.47073,     0.47152,      0.4723,     0.47308,     0.47385,     0.47462,     0.47538,     0.47614,     0.47688,     0.47763,     0.47782,     0.47468,     0.47152,     0.46835,     0.46518,     0.46199,\n",
      "            0.45879,     0.45559,     0.45237,     0.44914,      0.4459,     0.44114,     0.43514,     0.42909,     0.42301,     0.41689,     0.41074,     0.41145,     0.41454,     0.41749,     0.41811,      0.4173,     0.41649,     0.41568,     0.41487,     0.41406,     0.41324,     0.41243,     0.41161,\n",
      "             0.4108,     0.40998,     0.40917,     0.40835,     0.40753,     0.40671,     0.40589,     0.40507,     0.40425,     0.40343,      0.4026,     0.40178,     0.40096,     0.40013,     0.39931,     0.39848,     0.39765,     0.39683,       0.396,     0.39517,     0.39434,     0.39351,     0.39267,\n",
      "            0.39184,     0.39101,     0.39018,     0.38934,     0.38851,     0.38767,     0.38683,     0.38599,     0.38516,     0.38432,     0.38348,     0.38264,     0.38179,     0.38095,     0.37903,     0.37711,     0.37518,     0.37325,     0.37131,     0.36937,     0.36743,     0.36548,     0.36353,\n",
      "            0.36158,     0.35962,     0.35765,     0.35569,     0.35371,     0.35174,     0.34976,     0.34777,     0.34579,     0.34379,      0.3418,     0.33497,     0.32712,      0.3192,     0.31123,     0.30318,     0.29873,     0.29662,     0.29451,      0.2924,     0.29028,     0.28816,     0.28603,\n",
      "             0.2839,     0.28177,     0.27963,     0.27748,     0.27534,     0.27318,     0.27103,     0.26887,      0.2667,     0.26453,     0.26236,     0.26018,     0.25799,     0.25479,     0.24892,     0.24302,     0.23709,     0.23113,     0.22514,     0.21912,     0.21306,     0.15876,     0.13002,\n",
      "            0.11116,     0.11128,      0.1114,     0.11152,     0.11164,     0.11175,     0.11186,     0.11197,     0.11208,     0.11218,     0.11228,     0.11238,     0.11248,     0.11257,     0.11267,     0.11276,     0.11285,     0.11293,     0.11302,      0.1131,     0.11318,     0.11326,     0.11334,\n",
      "            0.11342,     0.11349,     0.11357,     0.11364,     0.11371,     0.11378,     0.11385,     0.11392,     0.11398,     0.11405,     0.11411,     0.11418,     0.11424,     0.11354,     0.10988,      0.1062,      0.1025,    0.098795,    0.095072,    0.091335,    0.087583,    0.083816,    0.080035,\n",
      "           0.076238,    0.072426,      0.0686,    0.064758,      0.0609,           0,           0,           0,           0,           0,           0,           0,           0,           0,           0,           0,           0,           0,           0,           0,           0,           0,           0,\n",
      "                  0,           0,           0,           0,           0,           0,           0,           0,           0,           0,           0,           0,           0,           0,           0,           0,           0,           0,           0,           0,           0,           0,           0,\n",
      "                  0,           0,           0,           0,           0,           0,           0,           0,           0,           0,           0,           0,           0,           0,           0,           0,           0,           0,           0,           0,           0,           0,           0,\n",
      "                  0,           0,           0,           0,           0,           0,           0,           0,           0,           0,           0,           0,           0,           0,           0,           0,           0,           0,           0,           0,           0,           0,           0,\n",
      "                  0,           0,           0,           0,           0,           0,           0,           0,           0,           0,           0,           0,           0,           0,           0,           0,           0,           0,           0,           0,           0,           0,           0,\n",
      "                  0,           0,           0,           0,           0,           0,           0,           0,           0,           0,           0,           0,           0,           0,           0,           0,           0,           0,           0,           0,           0,           0,           0,\n",
      "                  0,           0,           0,           0,           0,           0,           0,           0,           0,           0,           0,           0,           0,           0,           0,           0,           0,           0,           0,           0,           0,           0,           0,\n",
      "                  0,           0,           0,           0,           0,           0,           0,           0,           0,           0,           0,           0,           0,           0,           0,           0,           0,           0,           0,           0,           0,           0,           0,\n",
      "                  0,           0,           0,           0,           0,           0,           0,           0,           0,           0,           0,           0,           0,           0,           0,           0,           0,           0,           0,           0,           0,           0,           0,\n",
      "                  0,           0,           0,           0,           0,           0,           0,           0,           0,           0,           0]]), 'Confidence', 'F1'], [array([          0,    0.001001,    0.002002,    0.003003,    0.004004,    0.005005,    0.006006,    0.007007,    0.008008,    0.009009,     0.01001,    0.011011,    0.012012,    0.013013,    0.014014,    0.015015,    0.016016,    0.017017,    0.018018,    0.019019,     0.02002,    0.021021,    0.022022,    0.023023,\n",
      "          0.024024,    0.025025,    0.026026,    0.027027,    0.028028,    0.029029,     0.03003,    0.031031,    0.032032,    0.033033,    0.034034,    0.035035,    0.036036,    0.037037,    0.038038,    0.039039,     0.04004,    0.041041,    0.042042,    0.043043,    0.044044,    0.045045,    0.046046,    0.047047,\n",
      "          0.048048,    0.049049,     0.05005,    0.051051,    0.052052,    0.053053,    0.054054,    0.055055,    0.056056,    0.057057,    0.058058,    0.059059,     0.06006,    0.061061,    0.062062,    0.063063,    0.064064,    0.065065,    0.066066,    0.067067,    0.068068,    0.069069,     0.07007,    0.071071,\n",
      "          0.072072,    0.073073,    0.074074,    0.075075,    0.076076,    0.077077,    0.078078,    0.079079,     0.08008,    0.081081,    0.082082,    0.083083,    0.084084,    0.085085,    0.086086,    0.087087,    0.088088,    0.089089,     0.09009,    0.091091,    0.092092,    0.093093,    0.094094,    0.095095,\n",
      "          0.096096,    0.097097,    0.098098,    0.099099,      0.1001,      0.1011,      0.1021,      0.1031,      0.1041,     0.10511,     0.10611,     0.10711,     0.10811,     0.10911,     0.11011,     0.11111,     0.11211,     0.11311,     0.11411,     0.11512,     0.11612,     0.11712,     0.11812,     0.11912,\n",
      "           0.12012,     0.12112,     0.12212,     0.12312,     0.12412,     0.12513,     0.12613,     0.12713,     0.12813,     0.12913,     0.13013,     0.13113,     0.13213,     0.13313,     0.13413,     0.13514,     0.13614,     0.13714,     0.13814,     0.13914,     0.14014,     0.14114,     0.14214,     0.14314,\n",
      "           0.14414,     0.14515,     0.14615,     0.14715,     0.14815,     0.14915,     0.15015,     0.15115,     0.15215,     0.15315,     0.15415,     0.15516,     0.15616,     0.15716,     0.15816,     0.15916,     0.16016,     0.16116,     0.16216,     0.16316,     0.16416,     0.16517,     0.16617,     0.16717,\n",
      "           0.16817,     0.16917,     0.17017,     0.17117,     0.17217,     0.17317,     0.17417,     0.17518,     0.17618,     0.17718,     0.17818,     0.17918,     0.18018,     0.18118,     0.18218,     0.18318,     0.18418,     0.18519,     0.18619,     0.18719,     0.18819,     0.18919,     0.19019,     0.19119,\n",
      "           0.19219,     0.19319,     0.19419,      0.1952,      0.1962,      0.1972,      0.1982,      0.1992,      0.2002,      0.2012,      0.2022,      0.2032,      0.2042,     0.20521,     0.20621,     0.20721,     0.20821,     0.20921,     0.21021,     0.21121,     0.21221,     0.21321,     0.21421,     0.21522,\n",
      "           0.21622,     0.21722,     0.21822,     0.21922,     0.22022,     0.22122,     0.22222,     0.22322,     0.22422,     0.22523,     0.22623,     0.22723,     0.22823,     0.22923,     0.23023,     0.23123,     0.23223,     0.23323,     0.23423,     0.23524,     0.23624,     0.23724,     0.23824,     0.23924,\n",
      "           0.24024,     0.24124,     0.24224,     0.24324,     0.24424,     0.24525,     0.24625,     0.24725,     0.24825,     0.24925,     0.25025,     0.25125,     0.25225,     0.25325,     0.25425,     0.25526,     0.25626,     0.25726,     0.25826,     0.25926,     0.26026,     0.26126,     0.26226,     0.26326,\n",
      "           0.26426,     0.26527,     0.26627,     0.26727,     0.26827,     0.26927,     0.27027,     0.27127,     0.27227,     0.27327,     0.27427,     0.27528,     0.27628,     0.27728,     0.27828,     0.27928,     0.28028,     0.28128,     0.28228,     0.28328,     0.28428,     0.28529,     0.28629,     0.28729,\n",
      "           0.28829,     0.28929,     0.29029,     0.29129,     0.29229,     0.29329,     0.29429,      0.2953,      0.2963,      0.2973,      0.2983,      0.2993,      0.3003,      0.3013,      0.3023,      0.3033,      0.3043,     0.30531,     0.30631,     0.30731,     0.30831,     0.30931,     0.31031,     0.31131,\n",
      "           0.31231,     0.31331,     0.31431,     0.31532,     0.31632,     0.31732,     0.31832,     0.31932,     0.32032,     0.32132,     0.32232,     0.32332,     0.32432,     0.32533,     0.32633,     0.32733,     0.32833,     0.32933,     0.33033,     0.33133,     0.33233,     0.33333,     0.33433,     0.33534,\n",
      "           0.33634,     0.33734,     0.33834,     0.33934,     0.34034,     0.34134,     0.34234,     0.34334,     0.34434,     0.34535,     0.34635,     0.34735,     0.34835,     0.34935,     0.35035,     0.35135,     0.35235,     0.35335,     0.35435,     0.35536,     0.35636,     0.35736,     0.35836,     0.35936,\n",
      "           0.36036,     0.36136,     0.36236,     0.36336,     0.36436,     0.36537,     0.36637,     0.36737,     0.36837,     0.36937,     0.37037,     0.37137,     0.37237,     0.37337,     0.37437,     0.37538,     0.37638,     0.37738,     0.37838,     0.37938,     0.38038,     0.38138,     0.38238,     0.38338,\n",
      "           0.38438,     0.38539,     0.38639,     0.38739,     0.38839,     0.38939,     0.39039,     0.39139,     0.39239,     0.39339,     0.39439,      0.3954,      0.3964,      0.3974,      0.3984,      0.3994,      0.4004,      0.4014,      0.4024,      0.4034,      0.4044,     0.40541,     0.40641,     0.40741,\n",
      "           0.40841,     0.40941,     0.41041,     0.41141,     0.41241,     0.41341,     0.41441,     0.41542,     0.41642,     0.41742,     0.41842,     0.41942,     0.42042,     0.42142,     0.42242,     0.42342,     0.42442,     0.42543,     0.42643,     0.42743,     0.42843,     0.42943,     0.43043,     0.43143,\n",
      "           0.43243,     0.43343,     0.43443,     0.43544,     0.43644,     0.43744,     0.43844,     0.43944,     0.44044,     0.44144,     0.44244,     0.44344,     0.44444,     0.44545,     0.44645,     0.44745,     0.44845,     0.44945,     0.45045,     0.45145,     0.45245,     0.45345,     0.45445,     0.45546,\n",
      "           0.45646,     0.45746,     0.45846,     0.45946,     0.46046,     0.46146,     0.46246,     0.46346,     0.46446,     0.46547,     0.46647,     0.46747,     0.46847,     0.46947,     0.47047,     0.47147,     0.47247,     0.47347,     0.47447,     0.47548,     0.47648,     0.47748,     0.47848,     0.47948,\n",
      "           0.48048,     0.48148,     0.48248,     0.48348,     0.48448,     0.48549,     0.48649,     0.48749,     0.48849,     0.48949,     0.49049,     0.49149,     0.49249,     0.49349,     0.49449,      0.4955,      0.4965,      0.4975,      0.4985,      0.4995,      0.5005,      0.5015,      0.5025,      0.5035,\n",
      "            0.5045,     0.50551,     0.50651,     0.50751,     0.50851,     0.50951,     0.51051,     0.51151,     0.51251,     0.51351,     0.51451,     0.51552,     0.51652,     0.51752,     0.51852,     0.51952,     0.52052,     0.52152,     0.52252,     0.52352,     0.52452,     0.52553,     0.52653,     0.52753,\n",
      "           0.52853,     0.52953,     0.53053,     0.53153,     0.53253,     0.53353,     0.53453,     0.53554,     0.53654,     0.53754,     0.53854,     0.53954,     0.54054,     0.54154,     0.54254,     0.54354,     0.54454,     0.54555,     0.54655,     0.54755,     0.54855,     0.54955,     0.55055,     0.55155,\n",
      "           0.55255,     0.55355,     0.55455,     0.55556,     0.55656,     0.55756,     0.55856,     0.55956,     0.56056,     0.56156,     0.56256,     0.56356,     0.56456,     0.56557,     0.56657,     0.56757,     0.56857,     0.56957,     0.57057,     0.57157,     0.57257,     0.57357,     0.57457,     0.57558,\n",
      "           0.57658,     0.57758,     0.57858,     0.57958,     0.58058,     0.58158,     0.58258,     0.58358,     0.58458,     0.58559,     0.58659,     0.58759,     0.58859,     0.58959,     0.59059,     0.59159,     0.59259,     0.59359,     0.59459,      0.5956,      0.5966,      0.5976,      0.5986,      0.5996,\n",
      "            0.6006,      0.6016,      0.6026,      0.6036,      0.6046,     0.60561,     0.60661,     0.60761,     0.60861,     0.60961,     0.61061,     0.61161,     0.61261,     0.61361,     0.61461,     0.61562,     0.61662,     0.61762,     0.61862,     0.61962,     0.62062,     0.62162,     0.62262,     0.62362,\n",
      "           0.62462,     0.62563,     0.62663,     0.62763,     0.62863,     0.62963,     0.63063,     0.63163,     0.63263,     0.63363,     0.63463,     0.63564,     0.63664,     0.63764,     0.63864,     0.63964,     0.64064,     0.64164,     0.64264,     0.64364,     0.64464,     0.64565,     0.64665,     0.64765,\n",
      "           0.64865,     0.64965,     0.65065,     0.65165,     0.65265,     0.65365,     0.65465,     0.65566,     0.65666,     0.65766,     0.65866,     0.65966,     0.66066,     0.66166,     0.66266,     0.66366,     0.66466,     0.66567,     0.66667,     0.66767,     0.66867,     0.66967,     0.67067,     0.67167,\n",
      "           0.67267,     0.67367,     0.67467,     0.67568,     0.67668,     0.67768,     0.67868,     0.67968,     0.68068,     0.68168,     0.68268,     0.68368,     0.68468,     0.68569,     0.68669,     0.68769,     0.68869,     0.68969,     0.69069,     0.69169,     0.69269,     0.69369,     0.69469,      0.6957,\n",
      "            0.6967,      0.6977,      0.6987,      0.6997,      0.7007,      0.7017,      0.7027,      0.7037,      0.7047,     0.70571,     0.70671,     0.70771,     0.70871,     0.70971,     0.71071,     0.71171,     0.71271,     0.71371,     0.71471,     0.71572,     0.71672,     0.71772,     0.71872,     0.71972,\n",
      "           0.72072,     0.72172,     0.72272,     0.72372,     0.72472,     0.72573,     0.72673,     0.72773,     0.72873,     0.72973,     0.73073,     0.73173,     0.73273,     0.73373,     0.73473,     0.73574,     0.73674,     0.73774,     0.73874,     0.73974,     0.74074,     0.74174,     0.74274,     0.74374,\n",
      "           0.74474,     0.74575,     0.74675,     0.74775,     0.74875,     0.74975,     0.75075,     0.75175,     0.75275,     0.75375,     0.75475,     0.75576,     0.75676,     0.75776,     0.75876,     0.75976,     0.76076,     0.76176,     0.76276,     0.76376,     0.76476,     0.76577,     0.76677,     0.76777,\n",
      "           0.76877,     0.76977,     0.77077,     0.77177,     0.77277,     0.77377,     0.77477,     0.77578,     0.77678,     0.77778,     0.77878,     0.77978,     0.78078,     0.78178,     0.78278,     0.78378,     0.78478,     0.78579,     0.78679,     0.78779,     0.78879,     0.78979,     0.79079,     0.79179,\n",
      "           0.79279,     0.79379,     0.79479,      0.7958,      0.7968,      0.7978,      0.7988,      0.7998,      0.8008,      0.8018,      0.8028,      0.8038,      0.8048,     0.80581,     0.80681,     0.80781,     0.80881,     0.80981,     0.81081,     0.81181,     0.81281,     0.81381,     0.81481,     0.81582,\n",
      "           0.81682,     0.81782,     0.81882,     0.81982,     0.82082,     0.82182,     0.82282,     0.82382,     0.82482,     0.82583,     0.82683,     0.82783,     0.82883,     0.82983,     0.83083,     0.83183,     0.83283,     0.83383,     0.83483,     0.83584,     0.83684,     0.83784,     0.83884,     0.83984,\n",
      "           0.84084,     0.84184,     0.84284,     0.84384,     0.84484,     0.84585,     0.84685,     0.84785,     0.84885,     0.84985,     0.85085,     0.85185,     0.85285,     0.85385,     0.85485,     0.85586,     0.85686,     0.85786,     0.85886,     0.85986,     0.86086,     0.86186,     0.86286,     0.86386,\n",
      "           0.86486,     0.86587,     0.86687,     0.86787,     0.86887,     0.86987,     0.87087,     0.87187,     0.87287,     0.87387,     0.87487,     0.87588,     0.87688,     0.87788,     0.87888,     0.87988,     0.88088,     0.88188,     0.88288,     0.88388,     0.88488,     0.88589,     0.88689,     0.88789,\n",
      "           0.88889,     0.88989,     0.89089,     0.89189,     0.89289,     0.89389,     0.89489,      0.8959,      0.8969,      0.8979,      0.8989,      0.8999,      0.9009,      0.9019,      0.9029,      0.9039,      0.9049,     0.90591,     0.90691,     0.90791,     0.90891,     0.90991,     0.91091,     0.91191,\n",
      "           0.91291,     0.91391,     0.91491,     0.91592,     0.91692,     0.91792,     0.91892,     0.91992,     0.92092,     0.92192,     0.92292,     0.92392,     0.92492,     0.92593,     0.92693,     0.92793,     0.92893,     0.92993,     0.93093,     0.93193,     0.93293,     0.93393,     0.93493,     0.93594,\n",
      "           0.93694,     0.93794,     0.93894,     0.93994,     0.94094,     0.94194,     0.94294,     0.94394,     0.94494,     0.94595,     0.94695,     0.94795,     0.94895,     0.94995,     0.95095,     0.95195,     0.95295,     0.95395,     0.95495,     0.95596,     0.95696,     0.95796,     0.95896,     0.95996,\n",
      "           0.96096,     0.96196,     0.96296,     0.96396,     0.96496,     0.96597,     0.96697,     0.96797,     0.96897,     0.96997,     0.97097,     0.97197,     0.97297,     0.97397,     0.97497,     0.97598,     0.97698,     0.97798,     0.97898,     0.97998,     0.98098,     0.98198,     0.98298,     0.98398,\n",
      "           0.98498,     0.98599,     0.98699,     0.98799,     0.98899,     0.98999,     0.99099,     0.99199,     0.99299,     0.99399,     0.99499,       0.996,       0.997,       0.998,       0.999,           1]), array([[  0.0052493,   0.0052517,   0.0082133,    0.010671,    0.012397,    0.014129,    0.015819,     0.01745,     0.01789,    0.019604,    0.021037,    0.022467,    0.023801,    0.025282,    0.026431,    0.027803,    0.029747,    0.031451,    0.032879,     0.03442,    0.036228,    0.038091,    0.039985,\n",
      "            0.04149,    0.043017,    0.044701,    0.045792,    0.046985,     0.04858,    0.050243,     0.05164,    0.053459,    0.054671,    0.055506,     0.05796,     0.05966,    0.061099,    0.062676,    0.063872,    0.065741,     0.06697,    0.068446,    0.070132,    0.072424,    0.073603,    0.074796,\n",
      "           0.074035,    0.076096,    0.077363,    0.079719,     0.08239,    0.084528,    0.085773,    0.084088,    0.086168,    0.088047,    0.089817,    0.090724,    0.091949,    0.093395,    0.093965,    0.094319,    0.096209,     0.09781,    0.098965,     0.09971,     0.10032,     0.10198,     0.10327,\n",
      "            0.10364,     0.10563,     0.10753,     0.10965,     0.11077,     0.11175,     0.11312,     0.11345,     0.11041,      0.1074,     0.10967,     0.11112,     0.11175,     0.11192,     0.11209,     0.11369,     0.11671,     0.11917,     0.12053,     0.12117,      0.1226,     0.12388,     0.12516,\n",
      "            0.12594,     0.12749,     0.12811,     0.12865,     0.12907,     0.13025,     0.13126,     0.13294,     0.13399,     0.13445,     0.13644,     0.13713,     0.13951,      0.1406,     0.14256,     0.14335,     0.14423,     0.14656,      0.1477,     0.14888,     0.15092,     0.15159,     0.15189,\n",
      "            0.15219,      0.1532,     0.15442,     0.15547,     0.15585,     0.15624,     0.15675,     0.15742,       0.158,     0.15856,     0.15995,     0.16031,     0.16068,     0.16382,     0.16517,     0.16792,     0.16937,     0.17184,      0.1724,     0.17298,     0.17401,     0.17691,     0.17823,\n",
      "            0.18007,     0.18051,     0.18095,     0.18157,     0.18229,      0.1843,     0.18567,     0.18627,     0.18686,     0.18984,     0.19249,     0.19431,     0.19529,     0.19577,     0.19626,     0.19788,     0.19887,     0.19954,     0.20015,     0.20064,     0.20112,     0.20161,     0.20213,\n",
      "            0.20266,      0.2032,     0.20378,     0.20444,     0.20511,     0.20602,     0.20709,     0.20848,     0.21011,     0.21155,     0.21265,     0.21448,     0.21768,     0.21869,      0.2201,      0.2225,     0.22596,     0.22714,     0.23048,     0.23148,      0.2324,     0.23289,     0.23339,\n",
      "            0.23388,     0.23438,     0.23478,     0.23503,     0.23528,     0.23552,     0.23577,     0.23602,     0.23626,     0.23651,     0.23676,     0.23701,     0.23997,     0.24095,     0.24194,      0.2477,     0.24985,     0.24945,     0.24906,     0.24866,     0.24826,     0.24787,     0.24747,\n",
      "            0.24707,     0.24667,     0.24628,     0.24588,     0.24548,     0.24508,     0.24469,     0.24429,     0.24389,     0.24349,      0.2431,      0.2427,      0.2423,     0.24191,     0.24449,     0.24752,     0.24987,     0.25597,     0.25689,     0.25781,     0.25874,     0.25642,     0.25376,\n",
      "            0.25111,     0.25138,     0.25337,     0.25451,     0.25564,     0.25996,     0.26198,     0.26599,     0.26692,     0.26784,     0.26876,     0.27657,     0.27074,     0.27233,     0.27392,     0.27553,     0.27715,     0.27825,     0.27902,     0.27979,     0.28056,     0.28133,     0.28208,\n",
      "            0.28281,     0.28355,     0.28429,     0.28502,     0.28745,      0.2906,     0.29142,     0.29224,     0.29305,     0.29387,     0.29467,     0.29545,     0.29624,     0.29702,     0.29781,     0.29856,     0.29899,     0.29943,     0.29987,      0.3003,     0.30074,     0.30118,     0.30161,\n",
      "            0.30205,     0.30249,     0.30293,     0.29789,     0.29597,     0.29499,     0.29402,     0.29304,     0.29206,     0.29109,     0.29011,     0.28914,     0.28816,     0.28719,     0.28621,     0.28514,     0.28397,      0.2828,     0.28163,     0.28046,     0.27929,     0.27811,     0.27694,\n",
      "            0.27577,      0.2746,     0.27886,     0.27991,     0.28096,     0.28201,     0.28306,     0.28398,     0.28487,     0.28575,     0.28664,     0.28752,     0.28743,     0.28513,     0.28282,     0.28051,      0.2782,     0.27589,     0.27648,      0.2771,     0.27772,     0.27834,     0.27897,\n",
      "            0.27959,     0.28021,     0.28098,     0.28233,     0.28367,     0.28502,     0.28847,     0.29121,     0.29174,     0.29226,     0.29279,     0.29331,     0.29384,     0.29436,     0.29489,     0.29541,     0.29594,     0.29749,     0.30131,     0.30266,     0.30358,      0.3045,     0.30542,\n",
      "            0.30633,     0.30725,     0.30888,     0.31116,     0.31344,     0.30768,     0.30077,     0.30256,     0.30545,     0.31814,     0.32286,     0.32648,     0.32866,     0.33084,     0.33302,     0.34252,     0.34537,     0.34823,     0.34991,     0.35127,     0.35263,     0.35399,     0.35535,\n",
      "            0.35671,     0.36211,     0.36704,      0.3695,     0.37196,     0.37441,     0.37562,     0.37644,     0.37726,     0.37808,      0.3789,     0.37972,     0.38055,     0.38137,     0.38219,     0.38301,     0.38383,     0.38465,     0.38564,     0.38663,     0.38762,      0.3886,     0.38959,\n",
      "            0.39058,     0.39157,     0.39255,     0.39354,     0.39453,     0.39631,     0.39831,      0.4003,      0.4023,      0.4043,     0.41718,     0.42214,     0.42709,      0.4315,     0.43568,     0.43987,     0.44778,     0.46076,     0.47474,     0.48424,      0.4907,     0.49717,     0.50094,\n",
      "            0.50261,     0.50428,     0.50594,     0.50761,     0.50928,     0.51095,     0.51262,     0.51429,     0.51596,     0.51938,     0.52864,     0.53592,     0.53677,     0.53762,     0.53847,     0.53932,     0.54017,     0.54102,     0.54187,     0.54273,     0.54358,     0.54443,     0.54528,\n",
      "            0.54613,     0.54698,     0.54783,     0.54868,     0.54953,     0.55039,     0.55124,     0.55209,     0.55294,     0.55379,     0.55464,     0.55549,     0.55862,     0.56192,     0.56522,     0.56852,     0.57182,     0.57512,     0.57614,     0.57442,      0.5727,     0.57099,     0.56927,\n",
      "            0.56755,     0.56583,     0.56411,     0.56239,     0.56068,     0.57437,     0.58451,     0.58641,     0.58831,     0.59021,      0.5921,       0.594,      0.5959,      0.5978,      0.5997,     0.60159,     0.60349,     0.60539,     0.60729,      0.6101,     0.61552,     0.62094,     0.62636,\n",
      "            0.63178,     0.63661,     0.63818,     0.63975,     0.64133,      0.6429,     0.64448,     0.64605,     0.64763,      0.6492,     0.65077,     0.65235,     0.65392,      0.6555,     0.65707,     0.65864,     0.66022,     0.66179,     0.66337,     0.66494,     0.66652,     0.66784,     0.66914,\n",
      "            0.67044,     0.67174,     0.67304,     0.67433,     0.67563,     0.67693,     0.67823,     0.67953,     0.68083,     0.68213,     0.68342,     0.68472,     0.68602,     0.68732,     0.68862,     0.68992,     0.69122,     0.69251,     0.69381,     0.69511,     0.69641,     0.69771,     0.69901,\n",
      "            0.70019,     0.70098,     0.70177,     0.70256,     0.70335,     0.70415,     0.70494,     0.70573,     0.70652,     0.70731,      0.7081,      0.7089,     0.70969,     0.71048,     0.71127,     0.71206,     0.71286,     0.71365,     0.71444,     0.71523,     0.71602,     0.71681,     0.71761,\n",
      "             0.7184,     0.71919,     0.71998,     0.72077,     0.72157,     0.72236,     0.72315,     0.72394,     0.72473,     0.72552,     0.72632,     0.72711,      0.7279,     0.72869,     0.72948,     0.73028,     0.73107,     0.73186,     0.73265,     0.73344,     0.73423,     0.73503,     0.73582,\n",
      "            0.73661,     0.73501,     0.73241,     0.72981,     0.72721,     0.72461,     0.72603,     0.77168,     0.81235,     0.80943,     0.80652,      0.8036,     0.80069,     0.79925,     0.79826,     0.79727,     0.79629,      0.7953,     0.79432,     0.79333,     0.79234,     0.79136,     0.79037,\n",
      "            0.78939,      0.7884,     0.78741,     0.78643,     0.78699,     0.79159,     0.79619,     0.80079,     0.80539,        0.81,      0.8146,      0.8192,      0.8238,      0.8284,       0.833,      0.8376,      0.8422,     0.84598,     0.84477,     0.84356,     0.84235,     0.84114,     0.83993,\n",
      "            0.83872,     0.83751,      0.8363,     0.83509,     0.83388,      0.8319,     0.82929,     0.82669,     0.82408,     0.82148,     0.81888,     0.83739,     0.86358,     0.88976,     0.89985,     0.89961,     0.89936,     0.89912,     0.89888,     0.89863,     0.89839,     0.89815,      0.8979,\n",
      "            0.89766,     0.89742,     0.89717,     0.89693,     0.89668,     0.89644,      0.8962,     0.89595,     0.89571,     0.89547,     0.89522,     0.89498,     0.89474,     0.89449,     0.89425,       0.894,     0.89376,     0.89352,     0.89327,     0.89303,     0.89279,     0.89254,      0.8923,\n",
      "            0.89206,     0.89181,     0.89157,     0.89133,     0.89108,     0.89084,     0.89059,     0.89035,     0.89011,     0.88986,     0.88962,     0.88938,     0.88913,     0.88889,      0.8882,     0.88751,     0.88682,     0.88613,     0.88545,     0.88476,     0.88407,     0.88338,     0.88269,\n",
      "              0.882,     0.88131,     0.88062,     0.87994,     0.87925,     0.87856,     0.87787,     0.87718,     0.87649,      0.8758,     0.87512,     0.87216,     0.86874,     0.86532,      0.8619,     0.85849,     0.85643,     0.85526,     0.85409,     0.85292,     0.85175,     0.85058,     0.84941,\n",
      "            0.84823,     0.84706,     0.84589,     0.84472,     0.84355,     0.84238,     0.84121,     0.84004,     0.83886,     0.83769,     0.83652,     0.83535,     0.83418,     0.83213,      0.8278,     0.82347,     0.81913,      0.8148,     0.81047,     0.80614,      0.8018,     0.74435,     0.69716,\n",
      "            0.66993,     0.67915,     0.68837,     0.69759,     0.70681,     0.71603,     0.72525,     0.73448,      0.7437,     0.75292,     0.76214,     0.77136,     0.78058,      0.7898,     0.79902,     0.80824,     0.81746,     0.82668,      0.8359,     0.84512,     0.85434,     0.86357,     0.87279,\n",
      "            0.88201,     0.89123,     0.90045,     0.90967,     0.91889,     0.92811,     0.93733,     0.94655,     0.95577,     0.96499,     0.97421,     0.98344,     0.99266,           1,           1,           1,           1,           1,           1,           1,           1,           1,           1,\n",
      "                  1,           1,           1,           1,           1,           1,           1,           1,           1,           1,           1,           1,           1,           1,           1,           1,           1,           1,           1,           1,           1,           1,           1,\n",
      "                  1,           1,           1,           1,           1,           1,           1,           1,           1,           1,           1,           1,           1,           1,           1,           1,           1,           1,           1,           1,           1,           1,           1,\n",
      "                  1,           1,           1,           1,           1,           1,           1,           1,           1,           1,           1,           1,           1,           1,           1,           1,           1,           1,           1,           1,           1,           1,           1,\n",
      "                  1,           1,           1,           1,           1,           1,           1,           1,           1,           1,           1,           1,           1,           1,           1,           1,           1,           1,           1,           1,           1,           1,           1,\n",
      "                  1,           1,           1,           1,           1,           1,           1,           1,           1,           1,           1,           1,           1,           1,           1,           1,           1,           1,           1,           1,           1,           1,           1,\n",
      "                  1,           1,           1,           1,           1,           1,           1,           1,           1,           1,           1,           1,           1,           1,           1,           1,           1,           1,           1,           1,           1,           1,           1,\n",
      "                  1,           1,           1,           1,           1,           1,           1,           1,           1,           1,           1,           1,           1,           1,           1,           1,           1,           1,           1,           1,           1,           1,           1,\n",
      "                  1,           1,           1,           1,           1,           1,           1,           1,           1,           1,           1,           1,           1,           1,           1,           1,           1,           1,           1,           1,           1,           1,           1,\n",
      "                  1,           1,           1,           1,           1,           1,           1,           1,           1,           1,           1,           1,           1,           1,           1,           1,           1,           1,           1,           1,           1,           1,           1,\n",
      "                  1,           1,           1,           1,           1,           1,           1,           1,           1,           1,           1]]), 'Confidence', 'Precision'], [array([          0,    0.001001,    0.002002,    0.003003,    0.004004,    0.005005,    0.006006,    0.007007,    0.008008,    0.009009,     0.01001,    0.011011,    0.012012,    0.013013,    0.014014,    0.015015,    0.016016,    0.017017,    0.018018,    0.019019,     0.02002,    0.021021,    0.022022,    0.023023,\n",
      "          0.024024,    0.025025,    0.026026,    0.027027,    0.028028,    0.029029,     0.03003,    0.031031,    0.032032,    0.033033,    0.034034,    0.035035,    0.036036,    0.037037,    0.038038,    0.039039,     0.04004,    0.041041,    0.042042,    0.043043,    0.044044,    0.045045,    0.046046,    0.047047,\n",
      "          0.048048,    0.049049,     0.05005,    0.051051,    0.052052,    0.053053,    0.054054,    0.055055,    0.056056,    0.057057,    0.058058,    0.059059,     0.06006,    0.061061,    0.062062,    0.063063,    0.064064,    0.065065,    0.066066,    0.067067,    0.068068,    0.069069,     0.07007,    0.071071,\n",
      "          0.072072,    0.073073,    0.074074,    0.075075,    0.076076,    0.077077,    0.078078,    0.079079,     0.08008,    0.081081,    0.082082,    0.083083,    0.084084,    0.085085,    0.086086,    0.087087,    0.088088,    0.089089,     0.09009,    0.091091,    0.092092,    0.093093,    0.094094,    0.095095,\n",
      "          0.096096,    0.097097,    0.098098,    0.099099,      0.1001,      0.1011,      0.1021,      0.1031,      0.1041,     0.10511,     0.10611,     0.10711,     0.10811,     0.10911,     0.11011,     0.11111,     0.11211,     0.11311,     0.11411,     0.11512,     0.11612,     0.11712,     0.11812,     0.11912,\n",
      "           0.12012,     0.12112,     0.12212,     0.12312,     0.12412,     0.12513,     0.12613,     0.12713,     0.12813,     0.12913,     0.13013,     0.13113,     0.13213,     0.13313,     0.13413,     0.13514,     0.13614,     0.13714,     0.13814,     0.13914,     0.14014,     0.14114,     0.14214,     0.14314,\n",
      "           0.14414,     0.14515,     0.14615,     0.14715,     0.14815,     0.14915,     0.15015,     0.15115,     0.15215,     0.15315,     0.15415,     0.15516,     0.15616,     0.15716,     0.15816,     0.15916,     0.16016,     0.16116,     0.16216,     0.16316,     0.16416,     0.16517,     0.16617,     0.16717,\n",
      "           0.16817,     0.16917,     0.17017,     0.17117,     0.17217,     0.17317,     0.17417,     0.17518,     0.17618,     0.17718,     0.17818,     0.17918,     0.18018,     0.18118,     0.18218,     0.18318,     0.18418,     0.18519,     0.18619,     0.18719,     0.18819,     0.18919,     0.19019,     0.19119,\n",
      "           0.19219,     0.19319,     0.19419,      0.1952,      0.1962,      0.1972,      0.1982,      0.1992,      0.2002,      0.2012,      0.2022,      0.2032,      0.2042,     0.20521,     0.20621,     0.20721,     0.20821,     0.20921,     0.21021,     0.21121,     0.21221,     0.21321,     0.21421,     0.21522,\n",
      "           0.21622,     0.21722,     0.21822,     0.21922,     0.22022,     0.22122,     0.22222,     0.22322,     0.22422,     0.22523,     0.22623,     0.22723,     0.22823,     0.22923,     0.23023,     0.23123,     0.23223,     0.23323,     0.23423,     0.23524,     0.23624,     0.23724,     0.23824,     0.23924,\n",
      "           0.24024,     0.24124,     0.24224,     0.24324,     0.24424,     0.24525,     0.24625,     0.24725,     0.24825,     0.24925,     0.25025,     0.25125,     0.25225,     0.25325,     0.25425,     0.25526,     0.25626,     0.25726,     0.25826,     0.25926,     0.26026,     0.26126,     0.26226,     0.26326,\n",
      "           0.26426,     0.26527,     0.26627,     0.26727,     0.26827,     0.26927,     0.27027,     0.27127,     0.27227,     0.27327,     0.27427,     0.27528,     0.27628,     0.27728,     0.27828,     0.27928,     0.28028,     0.28128,     0.28228,     0.28328,     0.28428,     0.28529,     0.28629,     0.28729,\n",
      "           0.28829,     0.28929,     0.29029,     0.29129,     0.29229,     0.29329,     0.29429,      0.2953,      0.2963,      0.2973,      0.2983,      0.2993,      0.3003,      0.3013,      0.3023,      0.3033,      0.3043,     0.30531,     0.30631,     0.30731,     0.30831,     0.30931,     0.31031,     0.31131,\n",
      "           0.31231,     0.31331,     0.31431,     0.31532,     0.31632,     0.31732,     0.31832,     0.31932,     0.32032,     0.32132,     0.32232,     0.32332,     0.32432,     0.32533,     0.32633,     0.32733,     0.32833,     0.32933,     0.33033,     0.33133,     0.33233,     0.33333,     0.33433,     0.33534,\n",
      "           0.33634,     0.33734,     0.33834,     0.33934,     0.34034,     0.34134,     0.34234,     0.34334,     0.34434,     0.34535,     0.34635,     0.34735,     0.34835,     0.34935,     0.35035,     0.35135,     0.35235,     0.35335,     0.35435,     0.35536,     0.35636,     0.35736,     0.35836,     0.35936,\n",
      "           0.36036,     0.36136,     0.36236,     0.36336,     0.36436,     0.36537,     0.36637,     0.36737,     0.36837,     0.36937,     0.37037,     0.37137,     0.37237,     0.37337,     0.37437,     0.37538,     0.37638,     0.37738,     0.37838,     0.37938,     0.38038,     0.38138,     0.38238,     0.38338,\n",
      "           0.38438,     0.38539,     0.38639,     0.38739,     0.38839,     0.38939,     0.39039,     0.39139,     0.39239,     0.39339,     0.39439,      0.3954,      0.3964,      0.3974,      0.3984,      0.3994,      0.4004,      0.4014,      0.4024,      0.4034,      0.4044,     0.40541,     0.40641,     0.40741,\n",
      "           0.40841,     0.40941,     0.41041,     0.41141,     0.41241,     0.41341,     0.41441,     0.41542,     0.41642,     0.41742,     0.41842,     0.41942,     0.42042,     0.42142,     0.42242,     0.42342,     0.42442,     0.42543,     0.42643,     0.42743,     0.42843,     0.42943,     0.43043,     0.43143,\n",
      "           0.43243,     0.43343,     0.43443,     0.43544,     0.43644,     0.43744,     0.43844,     0.43944,     0.44044,     0.44144,     0.44244,     0.44344,     0.44444,     0.44545,     0.44645,     0.44745,     0.44845,     0.44945,     0.45045,     0.45145,     0.45245,     0.45345,     0.45445,     0.45546,\n",
      "           0.45646,     0.45746,     0.45846,     0.45946,     0.46046,     0.46146,     0.46246,     0.46346,     0.46446,     0.46547,     0.46647,     0.46747,     0.46847,     0.46947,     0.47047,     0.47147,     0.47247,     0.47347,     0.47447,     0.47548,     0.47648,     0.47748,     0.47848,     0.47948,\n",
      "           0.48048,     0.48148,     0.48248,     0.48348,     0.48448,     0.48549,     0.48649,     0.48749,     0.48849,     0.48949,     0.49049,     0.49149,     0.49249,     0.49349,     0.49449,      0.4955,      0.4965,      0.4975,      0.4985,      0.4995,      0.5005,      0.5015,      0.5025,      0.5035,\n",
      "            0.5045,     0.50551,     0.50651,     0.50751,     0.50851,     0.50951,     0.51051,     0.51151,     0.51251,     0.51351,     0.51451,     0.51552,     0.51652,     0.51752,     0.51852,     0.51952,     0.52052,     0.52152,     0.52252,     0.52352,     0.52452,     0.52553,     0.52653,     0.52753,\n",
      "           0.52853,     0.52953,     0.53053,     0.53153,     0.53253,     0.53353,     0.53453,     0.53554,     0.53654,     0.53754,     0.53854,     0.53954,     0.54054,     0.54154,     0.54254,     0.54354,     0.54454,     0.54555,     0.54655,     0.54755,     0.54855,     0.54955,     0.55055,     0.55155,\n",
      "           0.55255,     0.55355,     0.55455,     0.55556,     0.55656,     0.55756,     0.55856,     0.55956,     0.56056,     0.56156,     0.56256,     0.56356,     0.56456,     0.56557,     0.56657,     0.56757,     0.56857,     0.56957,     0.57057,     0.57157,     0.57257,     0.57357,     0.57457,     0.57558,\n",
      "           0.57658,     0.57758,     0.57858,     0.57958,     0.58058,     0.58158,     0.58258,     0.58358,     0.58458,     0.58559,     0.58659,     0.58759,     0.58859,     0.58959,     0.59059,     0.59159,     0.59259,     0.59359,     0.59459,      0.5956,      0.5966,      0.5976,      0.5986,      0.5996,\n",
      "            0.6006,      0.6016,      0.6026,      0.6036,      0.6046,     0.60561,     0.60661,     0.60761,     0.60861,     0.60961,     0.61061,     0.61161,     0.61261,     0.61361,     0.61461,     0.61562,     0.61662,     0.61762,     0.61862,     0.61962,     0.62062,     0.62162,     0.62262,     0.62362,\n",
      "           0.62462,     0.62563,     0.62663,     0.62763,     0.62863,     0.62963,     0.63063,     0.63163,     0.63263,     0.63363,     0.63463,     0.63564,     0.63664,     0.63764,     0.63864,     0.63964,     0.64064,     0.64164,     0.64264,     0.64364,     0.64464,     0.64565,     0.64665,     0.64765,\n",
      "           0.64865,     0.64965,     0.65065,     0.65165,     0.65265,     0.65365,     0.65465,     0.65566,     0.65666,     0.65766,     0.65866,     0.65966,     0.66066,     0.66166,     0.66266,     0.66366,     0.66466,     0.66567,     0.66667,     0.66767,     0.66867,     0.66967,     0.67067,     0.67167,\n",
      "           0.67267,     0.67367,     0.67467,     0.67568,     0.67668,     0.67768,     0.67868,     0.67968,     0.68068,     0.68168,     0.68268,     0.68368,     0.68468,     0.68569,     0.68669,     0.68769,     0.68869,     0.68969,     0.69069,     0.69169,     0.69269,     0.69369,     0.69469,      0.6957,\n",
      "            0.6967,      0.6977,      0.6987,      0.6997,      0.7007,      0.7017,      0.7027,      0.7037,      0.7047,     0.70571,     0.70671,     0.70771,     0.70871,     0.70971,     0.71071,     0.71171,     0.71271,     0.71371,     0.71471,     0.71572,     0.71672,     0.71772,     0.71872,     0.71972,\n",
      "           0.72072,     0.72172,     0.72272,     0.72372,     0.72472,     0.72573,     0.72673,     0.72773,     0.72873,     0.72973,     0.73073,     0.73173,     0.73273,     0.73373,     0.73473,     0.73574,     0.73674,     0.73774,     0.73874,     0.73974,     0.74074,     0.74174,     0.74274,     0.74374,\n",
      "           0.74474,     0.74575,     0.74675,     0.74775,     0.74875,     0.74975,     0.75075,     0.75175,     0.75275,     0.75375,     0.75475,     0.75576,     0.75676,     0.75776,     0.75876,     0.75976,     0.76076,     0.76176,     0.76276,     0.76376,     0.76476,     0.76577,     0.76677,     0.76777,\n",
      "           0.76877,     0.76977,     0.77077,     0.77177,     0.77277,     0.77377,     0.77477,     0.77578,     0.77678,     0.77778,     0.77878,     0.77978,     0.78078,     0.78178,     0.78278,     0.78378,     0.78478,     0.78579,     0.78679,     0.78779,     0.78879,     0.78979,     0.79079,     0.79179,\n",
      "           0.79279,     0.79379,     0.79479,      0.7958,      0.7968,      0.7978,      0.7988,      0.7998,      0.8008,      0.8018,      0.8028,      0.8038,      0.8048,     0.80581,     0.80681,     0.80781,     0.80881,     0.80981,     0.81081,     0.81181,     0.81281,     0.81381,     0.81481,     0.81582,\n",
      "           0.81682,     0.81782,     0.81882,     0.81982,     0.82082,     0.82182,     0.82282,     0.82382,     0.82482,     0.82583,     0.82683,     0.82783,     0.82883,     0.82983,     0.83083,     0.83183,     0.83283,     0.83383,     0.83483,     0.83584,     0.83684,     0.83784,     0.83884,     0.83984,\n",
      "           0.84084,     0.84184,     0.84284,     0.84384,     0.84484,     0.84585,     0.84685,     0.84785,     0.84885,     0.84985,     0.85085,     0.85185,     0.85285,     0.85385,     0.85485,     0.85586,     0.85686,     0.85786,     0.85886,     0.85986,     0.86086,     0.86186,     0.86286,     0.86386,\n",
      "           0.86486,     0.86587,     0.86687,     0.86787,     0.86887,     0.86987,     0.87087,     0.87187,     0.87287,     0.87387,     0.87487,     0.87588,     0.87688,     0.87788,     0.87888,     0.87988,     0.88088,     0.88188,     0.88288,     0.88388,     0.88488,     0.88589,     0.88689,     0.88789,\n",
      "           0.88889,     0.88989,     0.89089,     0.89189,     0.89289,     0.89389,     0.89489,      0.8959,      0.8969,      0.8979,      0.8989,      0.8999,      0.9009,      0.9019,      0.9029,      0.9039,      0.9049,     0.90591,     0.90691,     0.90791,     0.90891,     0.90991,     0.91091,     0.91191,\n",
      "           0.91291,     0.91391,     0.91491,     0.91592,     0.91692,     0.91792,     0.91892,     0.91992,     0.92092,     0.92192,     0.92292,     0.92392,     0.92492,     0.92593,     0.92693,     0.92793,     0.92893,     0.92993,     0.93093,     0.93193,     0.93293,     0.93393,     0.93493,     0.93594,\n",
      "           0.93694,     0.93794,     0.93894,     0.93994,     0.94094,     0.94194,     0.94294,     0.94394,     0.94494,     0.94595,     0.94695,     0.94795,     0.94895,     0.94995,     0.95095,     0.95195,     0.95295,     0.95395,     0.95495,     0.95596,     0.95696,     0.95796,     0.95896,     0.95996,\n",
      "           0.96096,     0.96196,     0.96296,     0.96396,     0.96496,     0.96597,     0.96697,     0.96797,     0.96897,     0.96997,     0.97097,     0.97197,     0.97297,     0.97397,     0.97497,     0.97598,     0.97698,     0.97798,     0.97898,     0.97998,     0.98098,     0.98198,     0.98298,     0.98398,\n",
      "           0.98498,     0.98599,     0.98699,     0.98799,     0.98899,     0.98999,     0.99099,     0.99199,     0.99299,     0.99399,     0.99499,       0.996,       0.997,       0.998,       0.999,           1]), array([[    0.90909,     0.90909,     0.90909,     0.90909,     0.87879,     0.87879,     0.87879,     0.87879,     0.81818,     0.81818,     0.81818,     0.81818,     0.81818,     0.81818,     0.81818,     0.81818,     0.81818,     0.81818,     0.81818,     0.81818,     0.81818,     0.81818,     0.81818,\n",
      "            0.81818,     0.81818,     0.81818,     0.81818,     0.81818,     0.81818,     0.81818,     0.81818,     0.81818,     0.81818,     0.81818,     0.81818,     0.81818,     0.81818,     0.81818,     0.81818,     0.81818,     0.81818,     0.81818,     0.81818,     0.81818,     0.81818,     0.81818,\n",
      "            0.78788,     0.78788,     0.78788,     0.78788,     0.78788,     0.78788,     0.78788,     0.75758,     0.75758,     0.75758,     0.75758,     0.75758,     0.75758,     0.75758,     0.75758,     0.75758,     0.75758,     0.75758,     0.75758,     0.75758,     0.75758,     0.75758,     0.75758,\n",
      "            0.75758,     0.75758,     0.75758,     0.75758,     0.75758,     0.75758,     0.75758,     0.75758,     0.72727,     0.69697,     0.69697,     0.69697,     0.69697,     0.69697,     0.69697,     0.69697,     0.69697,     0.69697,     0.69697,     0.69697,     0.69697,     0.69697,     0.69697,\n",
      "            0.69697,     0.69697,     0.69697,     0.69697,     0.69697,     0.69697,     0.69697,     0.69697,     0.69697,     0.69697,     0.69697,     0.69697,     0.69697,     0.69697,     0.69697,     0.69697,     0.69697,     0.69697,     0.69697,     0.69697,     0.69697,     0.69697,     0.69697,\n",
      "            0.69697,     0.69697,     0.69697,     0.69697,     0.69697,     0.69697,     0.69697,     0.69697,     0.69697,     0.69697,     0.69697,     0.69697,     0.69697,     0.69697,     0.69697,     0.69697,     0.69697,     0.69697,     0.69697,     0.69697,     0.69697,     0.69697,     0.69697,\n",
      "            0.69697,     0.69697,     0.69697,     0.69697,     0.69697,     0.69697,     0.69697,     0.69697,     0.69697,     0.69697,     0.69697,     0.69697,     0.69697,     0.69697,     0.69697,     0.69697,     0.69697,     0.69697,     0.69697,     0.69697,     0.69697,     0.69697,     0.69697,\n",
      "            0.69697,     0.69697,     0.69697,     0.69697,     0.69697,     0.69697,     0.69697,     0.69697,     0.69697,     0.69697,     0.69697,     0.69697,     0.69697,     0.69697,     0.69697,     0.69697,     0.69697,     0.69697,     0.69697,     0.69697,     0.69697,     0.69697,     0.69697,\n",
      "            0.69697,     0.69697,     0.69697,     0.69697,     0.69697,     0.69697,     0.69697,     0.69697,     0.69697,     0.69697,     0.69697,     0.69697,     0.69697,     0.69697,     0.69697,     0.69697,     0.69643,     0.69497,      0.6935,     0.69204,     0.69058,     0.68912,     0.68766,\n",
      "             0.6862,     0.68474,     0.68328,     0.68182,     0.68036,      0.6789,     0.67743,     0.67597,     0.67451,     0.67305,     0.67159,     0.67013,     0.66867,     0.66721,     0.66667,     0.66667,     0.66667,     0.66667,     0.66667,     0.66667,     0.66667,     0.65842,     0.64929,\n",
      "            0.64016,     0.63636,     0.63636,     0.63636,     0.63636,     0.63636,     0.63636,     0.63636,     0.63636,     0.63636,     0.63636,     0.63636,     0.60606,     0.60606,     0.60606,     0.60606,     0.60606,     0.60606,     0.60606,     0.60606,     0.60606,     0.60606,     0.60606,\n",
      "            0.60606,     0.60606,     0.60606,     0.60606,     0.60606,     0.60606,     0.60606,     0.60606,     0.60606,     0.60606,     0.60606,     0.60606,     0.60606,     0.60606,     0.60606,     0.60606,     0.60606,     0.60606,     0.60606,     0.60606,     0.60606,     0.60606,     0.60606,\n",
      "            0.60606,     0.60606,     0.60606,     0.57861,     0.57329,     0.57064,     0.56799,     0.56535,      0.5627,     0.56005,      0.5574,     0.55475,      0.5521,     0.54945,     0.54681,     0.54395,     0.54087,     0.53779,     0.53471,     0.53163,     0.52854,     0.52546,     0.52238,\n",
      "             0.5193,     0.51622,     0.51515,     0.51515,     0.51515,     0.51515,     0.51515,     0.51515,     0.51515,     0.51515,     0.51515,     0.51515,     0.51342,     0.50772,     0.50202,     0.49632,     0.49062,     0.48492,     0.48485,     0.48485,     0.48485,     0.48485,     0.48485,\n",
      "            0.48485,     0.48485,     0.48485,     0.48485,     0.48485,     0.48485,     0.48485,     0.48485,     0.48485,     0.48485,     0.48485,     0.48485,     0.48485,     0.48485,     0.48485,     0.48485,     0.48485,     0.48485,     0.48485,     0.48485,     0.48485,     0.48485,     0.48485,\n",
      "            0.48485,     0.48485,     0.48485,     0.48485,     0.48485,      0.4715,     0.45624,     0.45455,     0.45455,     0.45455,     0.45455,     0.45455,     0.45455,     0.45455,     0.45455,     0.45455,     0.45455,     0.45455,     0.45455,     0.45455,     0.45455,     0.45455,     0.45455,\n",
      "            0.45455,     0.45455,     0.45455,     0.45455,     0.45455,     0.45455,     0.45455,     0.45455,     0.45455,     0.45455,     0.45455,     0.45455,     0.45455,     0.45455,     0.45455,     0.45455,     0.45455,     0.45455,     0.45455,     0.45455,     0.45455,     0.45455,     0.45455,\n",
      "            0.45455,     0.45455,     0.45455,     0.45455,     0.45455,     0.45455,     0.45455,     0.45455,     0.45455,     0.45455,     0.45455,     0.45455,     0.45455,     0.45455,     0.45455,     0.45455,     0.45455,     0.45455,     0.45455,     0.45455,     0.45455,     0.45455,     0.45455,\n",
      "            0.45455,     0.45455,     0.45455,     0.45455,     0.45455,     0.45455,     0.45455,     0.45455,     0.45455,     0.45455,     0.45455,     0.45455,     0.45455,     0.45455,     0.45455,     0.45455,     0.45455,     0.45455,     0.45455,     0.45455,     0.45455,     0.45455,     0.45455,\n",
      "            0.45455,     0.45455,     0.45455,     0.45455,     0.45455,     0.45455,     0.45455,     0.45455,     0.45455,     0.45455,     0.45455,     0.45455,     0.45455,     0.45455,     0.45455,     0.45455,     0.45455,     0.45455,     0.45315,     0.45007,     0.44699,     0.44391,     0.44084,\n",
      "            0.43776,     0.43468,     0.43161,     0.42853,     0.42545,     0.42424,     0.42424,     0.42424,     0.42424,     0.42424,     0.42424,     0.42424,     0.42424,     0.42424,     0.42424,     0.42424,     0.42424,     0.42424,     0.42424,     0.42424,     0.42424,     0.42424,     0.42424,\n",
      "            0.42424,     0.42424,     0.42424,     0.42424,     0.42424,     0.42424,     0.42424,     0.42424,     0.42424,     0.42424,     0.42424,     0.42424,     0.42424,     0.42424,     0.42424,     0.42424,     0.42424,     0.42424,     0.42424,     0.42424,     0.42424,     0.42424,     0.42424,\n",
      "            0.42424,     0.42424,     0.42424,     0.42424,     0.42424,     0.42424,     0.42424,     0.42424,     0.42424,     0.42424,     0.42424,     0.42424,     0.42424,     0.42424,     0.42424,     0.42424,     0.42424,     0.42424,     0.42424,     0.42424,     0.42424,     0.42424,     0.42424,\n",
      "            0.42424,     0.42424,     0.42424,     0.42424,     0.42424,     0.42424,     0.42424,     0.42424,     0.42424,     0.42424,     0.42424,     0.42424,     0.42424,     0.42424,     0.42424,     0.42424,     0.42424,     0.42424,     0.42424,     0.42424,     0.42424,     0.42424,     0.42424,\n",
      "            0.42424,     0.42424,     0.42424,     0.42424,     0.42424,     0.42424,     0.42424,     0.42424,     0.42424,     0.42424,     0.42424,     0.42424,     0.42424,     0.42424,     0.42424,     0.42424,     0.42424,     0.42424,     0.42424,     0.42424,     0.42424,     0.42424,     0.42424,\n",
      "            0.42424,     0.42043,     0.41505,     0.40966,     0.40427,     0.39888,     0.39394,     0.39394,     0.39357,      0.3865,     0.37944,     0.37237,     0.36531,     0.36204,     0.35995,     0.35786,     0.35576,     0.35367,     0.35158,     0.34949,      0.3474,      0.3453,     0.34321,\n",
      "            0.34112,     0.33903,     0.33694,     0.33484,     0.33333,     0.33333,     0.33333,     0.33333,     0.33333,     0.33333,     0.33333,     0.33333,     0.33333,     0.33333,     0.33333,     0.33333,     0.33333,     0.33293,     0.33007,     0.32721,     0.32435,     0.32148,     0.31862,\n",
      "            0.31576,      0.3129,     0.31004,     0.30718,     0.30431,     0.30016,     0.29495,     0.28974,     0.28453,     0.27932,     0.27412,     0.27273,     0.27273,     0.27273,     0.27232,     0.27166,     0.27099,     0.27033,     0.26966,       0.269,     0.26834,     0.26767,     0.26701,\n",
      "            0.26634,     0.26568,     0.26501,     0.26435,     0.26369,     0.26302,     0.26236,     0.26169,     0.26103,     0.26036,      0.2597,     0.25903,     0.25837,     0.25771,     0.25704,     0.25638,     0.25571,     0.25505,     0.25438,     0.25372,     0.25305,     0.25239,     0.25173,\n",
      "            0.25106,      0.2504,     0.24973,     0.24907,      0.2484,     0.24774,     0.24708,     0.24641,     0.24575,     0.24508,     0.24442,     0.24375,     0.24309,     0.24242,     0.24092,     0.23942,     0.23792,     0.23641,     0.23491,     0.23341,     0.23191,      0.2304,      0.2289,\n",
      "             0.2274,      0.2259,     0.22439,     0.22289,     0.22139,     0.21989,     0.21838,     0.21688,     0.21538,     0.21388,     0.21237,     0.20729,      0.2015,      0.1957,      0.1899,      0.1841,     0.18091,     0.17942,     0.17793,     0.17644,     0.17495,     0.17346,     0.17197,\n",
      "            0.17048,     0.16899,      0.1675,     0.16601,     0.16452,     0.16303,     0.16154,     0.16005,     0.15856,     0.15706,     0.15557,     0.15408,     0.15259,     0.15042,     0.14648,     0.14255,     0.13861,     0.13467,     0.13073,     0.12679,     0.12285,    0.088856,    0.071694,\n",
      "           0.060606,    0.060606,    0.060606,    0.060606,    0.060606,    0.060606,    0.060606,    0.060606,    0.060606,    0.060606,    0.060606,    0.060606,    0.060606,    0.060606,    0.060606,    0.060606,    0.060606,    0.060606,    0.060606,    0.060606,    0.060606,    0.060606,    0.060606,\n",
      "           0.060606,    0.060606,    0.060606,    0.060606,    0.060606,    0.060606,    0.060606,    0.060606,    0.060606,    0.060606,    0.060606,    0.060606,    0.060606,    0.060188,    0.058132,    0.056076,     0.05402,    0.051964,    0.049909,    0.047853,    0.045797,    0.043741,    0.041685,\n",
      "            0.03963,    0.037574,    0.035518,    0.033462,    0.031406,           0,           0,           0,           0,           0,           0,           0,           0,           0,           0,           0,           0,           0,           0,           0,           0,           0,           0,\n",
      "                  0,           0,           0,           0,           0,           0,           0,           0,           0,           0,           0,           0,           0,           0,           0,           0,           0,           0,           0,           0,           0,           0,           0,\n",
      "                  0,           0,           0,           0,           0,           0,           0,           0,           0,           0,           0,           0,           0,           0,           0,           0,           0,           0,           0,           0,           0,           0,           0,\n",
      "                  0,           0,           0,           0,           0,           0,           0,           0,           0,           0,           0,           0,           0,           0,           0,           0,           0,           0,           0,           0,           0,           0,           0,\n",
      "                  0,           0,           0,           0,           0,           0,           0,           0,           0,           0,           0,           0,           0,           0,           0,           0,           0,           0,           0,           0,           0,           0,           0,\n",
      "                  0,           0,           0,           0,           0,           0,           0,           0,           0,           0,           0,           0,           0,           0,           0,           0,           0,           0,           0,           0,           0,           0,           0,\n",
      "                  0,           0,           0,           0,           0,           0,           0,           0,           0,           0,           0,           0,           0,           0,           0,           0,           0,           0,           0,           0,           0,           0,           0,\n",
      "                  0,           0,           0,           0,           0,           0,           0,           0,           0,           0,           0,           0,           0,           0,           0,           0,           0,           0,           0,           0,           0,           0,           0,\n",
      "                  0,           0,           0,           0,           0,           0,           0,           0,           0,           0,           0,           0,           0,           0,           0,           0,           0,           0,           0,           0,           0,           0,           0,\n",
      "                  0,           0,           0,           0,           0,           0,           0,           0,           0,           0,           0]]), 'Confidence', 'Recall'], [array([          0,    0.001001,    0.002002,    0.003003,    0.004004,    0.005005,    0.006006,    0.007007,    0.008008,    0.009009,     0.01001,    0.011011,    0.012012,    0.013013,    0.014014,    0.015015,    0.016016,    0.017017,    0.018018,    0.019019,     0.02002,    0.021021,    0.022022,    0.023023,\n",
      "          0.024024,    0.025025,    0.026026,    0.027027,    0.028028,    0.029029,     0.03003,    0.031031,    0.032032,    0.033033,    0.034034,    0.035035,    0.036036,    0.037037,    0.038038,    0.039039,     0.04004,    0.041041,    0.042042,    0.043043,    0.044044,    0.045045,    0.046046,    0.047047,\n",
      "          0.048048,    0.049049,     0.05005,    0.051051,    0.052052,    0.053053,    0.054054,    0.055055,    0.056056,    0.057057,    0.058058,    0.059059,     0.06006,    0.061061,    0.062062,    0.063063,    0.064064,    0.065065,    0.066066,    0.067067,    0.068068,    0.069069,     0.07007,    0.071071,\n",
      "          0.072072,    0.073073,    0.074074,    0.075075,    0.076076,    0.077077,    0.078078,    0.079079,     0.08008,    0.081081,    0.082082,    0.083083,    0.084084,    0.085085,    0.086086,    0.087087,    0.088088,    0.089089,     0.09009,    0.091091,    0.092092,    0.093093,    0.094094,    0.095095,\n",
      "          0.096096,    0.097097,    0.098098,    0.099099,      0.1001,      0.1011,      0.1021,      0.1031,      0.1041,     0.10511,     0.10611,     0.10711,     0.10811,     0.10911,     0.11011,     0.11111,     0.11211,     0.11311,     0.11411,     0.11512,     0.11612,     0.11712,     0.11812,     0.11912,\n",
      "           0.12012,     0.12112,     0.12212,     0.12312,     0.12412,     0.12513,     0.12613,     0.12713,     0.12813,     0.12913,     0.13013,     0.13113,     0.13213,     0.13313,     0.13413,     0.13514,     0.13614,     0.13714,     0.13814,     0.13914,     0.14014,     0.14114,     0.14214,     0.14314,\n",
      "           0.14414,     0.14515,     0.14615,     0.14715,     0.14815,     0.14915,     0.15015,     0.15115,     0.15215,     0.15315,     0.15415,     0.15516,     0.15616,     0.15716,     0.15816,     0.15916,     0.16016,     0.16116,     0.16216,     0.16316,     0.16416,     0.16517,     0.16617,     0.16717,\n",
      "           0.16817,     0.16917,     0.17017,     0.17117,     0.17217,     0.17317,     0.17417,     0.17518,     0.17618,     0.17718,     0.17818,     0.17918,     0.18018,     0.18118,     0.18218,     0.18318,     0.18418,     0.18519,     0.18619,     0.18719,     0.18819,     0.18919,     0.19019,     0.19119,\n",
      "           0.19219,     0.19319,     0.19419,      0.1952,      0.1962,      0.1972,      0.1982,      0.1992,      0.2002,      0.2012,      0.2022,      0.2032,      0.2042,     0.20521,     0.20621,     0.20721,     0.20821,     0.20921,     0.21021,     0.21121,     0.21221,     0.21321,     0.21421,     0.21522,\n",
      "           0.21622,     0.21722,     0.21822,     0.21922,     0.22022,     0.22122,     0.22222,     0.22322,     0.22422,     0.22523,     0.22623,     0.22723,     0.22823,     0.22923,     0.23023,     0.23123,     0.23223,     0.23323,     0.23423,     0.23524,     0.23624,     0.23724,     0.23824,     0.23924,\n",
      "           0.24024,     0.24124,     0.24224,     0.24324,     0.24424,     0.24525,     0.24625,     0.24725,     0.24825,     0.24925,     0.25025,     0.25125,     0.25225,     0.25325,     0.25425,     0.25526,     0.25626,     0.25726,     0.25826,     0.25926,     0.26026,     0.26126,     0.26226,     0.26326,\n",
      "           0.26426,     0.26527,     0.26627,     0.26727,     0.26827,     0.26927,     0.27027,     0.27127,     0.27227,     0.27327,     0.27427,     0.27528,     0.27628,     0.27728,     0.27828,     0.27928,     0.28028,     0.28128,     0.28228,     0.28328,     0.28428,     0.28529,     0.28629,     0.28729,\n",
      "           0.28829,     0.28929,     0.29029,     0.29129,     0.29229,     0.29329,     0.29429,      0.2953,      0.2963,      0.2973,      0.2983,      0.2993,      0.3003,      0.3013,      0.3023,      0.3033,      0.3043,     0.30531,     0.30631,     0.30731,     0.30831,     0.30931,     0.31031,     0.31131,\n",
      "           0.31231,     0.31331,     0.31431,     0.31532,     0.31632,     0.31732,     0.31832,     0.31932,     0.32032,     0.32132,     0.32232,     0.32332,     0.32432,     0.32533,     0.32633,     0.32733,     0.32833,     0.32933,     0.33033,     0.33133,     0.33233,     0.33333,     0.33433,     0.33534,\n",
      "           0.33634,     0.33734,     0.33834,     0.33934,     0.34034,     0.34134,     0.34234,     0.34334,     0.34434,     0.34535,     0.34635,     0.34735,     0.34835,     0.34935,     0.35035,     0.35135,     0.35235,     0.35335,     0.35435,     0.35536,     0.35636,     0.35736,     0.35836,     0.35936,\n",
      "           0.36036,     0.36136,     0.36236,     0.36336,     0.36436,     0.36537,     0.36637,     0.36737,     0.36837,     0.36937,     0.37037,     0.37137,     0.37237,     0.37337,     0.37437,     0.37538,     0.37638,     0.37738,     0.37838,     0.37938,     0.38038,     0.38138,     0.38238,     0.38338,\n",
      "           0.38438,     0.38539,     0.38639,     0.38739,     0.38839,     0.38939,     0.39039,     0.39139,     0.39239,     0.39339,     0.39439,      0.3954,      0.3964,      0.3974,      0.3984,      0.3994,      0.4004,      0.4014,      0.4024,      0.4034,      0.4044,     0.40541,     0.40641,     0.40741,\n",
      "           0.40841,     0.40941,     0.41041,     0.41141,     0.41241,     0.41341,     0.41441,     0.41542,     0.41642,     0.41742,     0.41842,     0.41942,     0.42042,     0.42142,     0.42242,     0.42342,     0.42442,     0.42543,     0.42643,     0.42743,     0.42843,     0.42943,     0.43043,     0.43143,\n",
      "           0.43243,     0.43343,     0.43443,     0.43544,     0.43644,     0.43744,     0.43844,     0.43944,     0.44044,     0.44144,     0.44244,     0.44344,     0.44444,     0.44545,     0.44645,     0.44745,     0.44845,     0.44945,     0.45045,     0.45145,     0.45245,     0.45345,     0.45445,     0.45546,\n",
      "           0.45646,     0.45746,     0.45846,     0.45946,     0.46046,     0.46146,     0.46246,     0.46346,     0.46446,     0.46547,     0.46647,     0.46747,     0.46847,     0.46947,     0.47047,     0.47147,     0.47247,     0.47347,     0.47447,     0.47548,     0.47648,     0.47748,     0.47848,     0.47948,\n",
      "           0.48048,     0.48148,     0.48248,     0.48348,     0.48448,     0.48549,     0.48649,     0.48749,     0.48849,     0.48949,     0.49049,     0.49149,     0.49249,     0.49349,     0.49449,      0.4955,      0.4965,      0.4975,      0.4985,      0.4995,      0.5005,      0.5015,      0.5025,      0.5035,\n",
      "            0.5045,     0.50551,     0.50651,     0.50751,     0.50851,     0.50951,     0.51051,     0.51151,     0.51251,     0.51351,     0.51451,     0.51552,     0.51652,     0.51752,     0.51852,     0.51952,     0.52052,     0.52152,     0.52252,     0.52352,     0.52452,     0.52553,     0.52653,     0.52753,\n",
      "           0.52853,     0.52953,     0.53053,     0.53153,     0.53253,     0.53353,     0.53453,     0.53554,     0.53654,     0.53754,     0.53854,     0.53954,     0.54054,     0.54154,     0.54254,     0.54354,     0.54454,     0.54555,     0.54655,     0.54755,     0.54855,     0.54955,     0.55055,     0.55155,\n",
      "           0.55255,     0.55355,     0.55455,     0.55556,     0.55656,     0.55756,     0.55856,     0.55956,     0.56056,     0.56156,     0.56256,     0.56356,     0.56456,     0.56557,     0.56657,     0.56757,     0.56857,     0.56957,     0.57057,     0.57157,     0.57257,     0.57357,     0.57457,     0.57558,\n",
      "           0.57658,     0.57758,     0.57858,     0.57958,     0.58058,     0.58158,     0.58258,     0.58358,     0.58458,     0.58559,     0.58659,     0.58759,     0.58859,     0.58959,     0.59059,     0.59159,     0.59259,     0.59359,     0.59459,      0.5956,      0.5966,      0.5976,      0.5986,      0.5996,\n",
      "            0.6006,      0.6016,      0.6026,      0.6036,      0.6046,     0.60561,     0.60661,     0.60761,     0.60861,     0.60961,     0.61061,     0.61161,     0.61261,     0.61361,     0.61461,     0.61562,     0.61662,     0.61762,     0.61862,     0.61962,     0.62062,     0.62162,     0.62262,     0.62362,\n",
      "           0.62462,     0.62563,     0.62663,     0.62763,     0.62863,     0.62963,     0.63063,     0.63163,     0.63263,     0.63363,     0.63463,     0.63564,     0.63664,     0.63764,     0.63864,     0.63964,     0.64064,     0.64164,     0.64264,     0.64364,     0.64464,     0.64565,     0.64665,     0.64765,\n",
      "           0.64865,     0.64965,     0.65065,     0.65165,     0.65265,     0.65365,     0.65465,     0.65566,     0.65666,     0.65766,     0.65866,     0.65966,     0.66066,     0.66166,     0.66266,     0.66366,     0.66466,     0.66567,     0.66667,     0.66767,     0.66867,     0.66967,     0.67067,     0.67167,\n",
      "           0.67267,     0.67367,     0.67467,     0.67568,     0.67668,     0.67768,     0.67868,     0.67968,     0.68068,     0.68168,     0.68268,     0.68368,     0.68468,     0.68569,     0.68669,     0.68769,     0.68869,     0.68969,     0.69069,     0.69169,     0.69269,     0.69369,     0.69469,      0.6957,\n",
      "            0.6967,      0.6977,      0.6987,      0.6997,      0.7007,      0.7017,      0.7027,      0.7037,      0.7047,     0.70571,     0.70671,     0.70771,     0.70871,     0.70971,     0.71071,     0.71171,     0.71271,     0.71371,     0.71471,     0.71572,     0.71672,     0.71772,     0.71872,     0.71972,\n",
      "           0.72072,     0.72172,     0.72272,     0.72372,     0.72472,     0.72573,     0.72673,     0.72773,     0.72873,     0.72973,     0.73073,     0.73173,     0.73273,     0.73373,     0.73473,     0.73574,     0.73674,     0.73774,     0.73874,     0.73974,     0.74074,     0.74174,     0.74274,     0.74374,\n",
      "           0.74474,     0.74575,     0.74675,     0.74775,     0.74875,     0.74975,     0.75075,     0.75175,     0.75275,     0.75375,     0.75475,     0.75576,     0.75676,     0.75776,     0.75876,     0.75976,     0.76076,     0.76176,     0.76276,     0.76376,     0.76476,     0.76577,     0.76677,     0.76777,\n",
      "           0.76877,     0.76977,     0.77077,     0.77177,     0.77277,     0.77377,     0.77477,     0.77578,     0.77678,     0.77778,     0.77878,     0.77978,     0.78078,     0.78178,     0.78278,     0.78378,     0.78478,     0.78579,     0.78679,     0.78779,     0.78879,     0.78979,     0.79079,     0.79179,\n",
      "           0.79279,     0.79379,     0.79479,      0.7958,      0.7968,      0.7978,      0.7988,      0.7998,      0.8008,      0.8018,      0.8028,      0.8038,      0.8048,     0.80581,     0.80681,     0.80781,     0.80881,     0.80981,     0.81081,     0.81181,     0.81281,     0.81381,     0.81481,     0.81582,\n",
      "           0.81682,     0.81782,     0.81882,     0.81982,     0.82082,     0.82182,     0.82282,     0.82382,     0.82482,     0.82583,     0.82683,     0.82783,     0.82883,     0.82983,     0.83083,     0.83183,     0.83283,     0.83383,     0.83483,     0.83584,     0.83684,     0.83784,     0.83884,     0.83984,\n",
      "           0.84084,     0.84184,     0.84284,     0.84384,     0.84484,     0.84585,     0.84685,     0.84785,     0.84885,     0.84985,     0.85085,     0.85185,     0.85285,     0.85385,     0.85485,     0.85586,     0.85686,     0.85786,     0.85886,     0.85986,     0.86086,     0.86186,     0.86286,     0.86386,\n",
      "           0.86486,     0.86587,     0.86687,     0.86787,     0.86887,     0.86987,     0.87087,     0.87187,     0.87287,     0.87387,     0.87487,     0.87588,     0.87688,     0.87788,     0.87888,     0.87988,     0.88088,     0.88188,     0.88288,     0.88388,     0.88488,     0.88589,     0.88689,     0.88789,\n",
      "           0.88889,     0.88989,     0.89089,     0.89189,     0.89289,     0.89389,     0.89489,      0.8959,      0.8969,      0.8979,      0.8989,      0.8999,      0.9009,      0.9019,      0.9029,      0.9039,      0.9049,     0.90591,     0.90691,     0.90791,     0.90891,     0.90991,     0.91091,     0.91191,\n",
      "           0.91291,     0.91391,     0.91491,     0.91592,     0.91692,     0.91792,     0.91892,     0.91992,     0.92092,     0.92192,     0.92292,     0.92392,     0.92492,     0.92593,     0.92693,     0.92793,     0.92893,     0.92993,     0.93093,     0.93193,     0.93293,     0.93393,     0.93493,     0.93594,\n",
      "           0.93694,     0.93794,     0.93894,     0.93994,     0.94094,     0.94194,     0.94294,     0.94394,     0.94494,     0.94595,     0.94695,     0.94795,     0.94895,     0.94995,     0.95095,     0.95195,     0.95295,     0.95395,     0.95495,     0.95596,     0.95696,     0.95796,     0.95896,     0.95996,\n",
      "           0.96096,     0.96196,     0.96296,     0.96396,     0.96496,     0.96597,     0.96697,     0.96797,     0.96897,     0.96997,     0.97097,     0.97197,     0.97297,     0.97397,     0.97497,     0.97598,     0.97698,     0.97798,     0.97898,     0.97998,     0.98098,     0.98198,     0.98298,     0.98398,\n",
      "           0.98498,     0.98599,     0.98699,     0.98799,     0.98899,     0.98999,     0.99099,     0.99199,     0.99299,     0.99399,     0.99499,       0.996,       0.997,       0.998,       0.999,           1]), array([[          1,           1,           1,           1,           1,           1,           1,           1,           1,           1,           1,           1,           1,           1,           1,           1,           1,           1,           1,           1,           1,           1,           1,\n",
      "                  1,           1,           1,           1,           1,           1,           1,           1,           1,           1,           1,           1,           1,           1,           1,           1,           1,           1,           1,           1,           1,           1,           1,\n",
      "                  1,           1,           1,           1,           1,           1,           1,           1,           1,           1,           1,           1,           1,           1,           1,         0.9,         0.9,         0.9,         0.9,         0.9,         0.9,         0.9,         0.9,\n",
      "                0.9,         0.9,         0.9,         0.9,         0.9,         0.9,         0.9,         0.9,         0.9,         0.9,         0.9,         0.9,         0.9,         0.9,         0.9,         0.9,         0.9,         0.9,         0.9,         0.9,         0.9,         0.9,         0.9,\n",
      "                0.9,         0.9,         0.9,         0.9,         0.9,         0.9,         0.9,         0.9,         0.9,         0.9,         0.9,         0.9,         0.9,         0.9,         0.9,         0.9,         0.9,         0.9,         0.9,         0.9,         0.9,         0.9,         0.9,\n",
      "                0.9,         0.9,         0.9,         0.9,         0.9,         0.9,         0.9,         0.9,         0.9,         0.9,         0.9,         0.9,         0.9,         0.9,         0.9,         0.9,         0.9,         0.9,         0.9,         0.9,         0.9,         0.9,         0.9,\n",
      "                0.9,         0.9,         0.9,         0.9,         0.9,         0.9,         0.9,         0.9,         0.9,         0.9,         0.9,         0.9,         0.9,         0.9,         0.9,         0.9,         0.9,         0.9,         0.9,         0.9,         0.9,         0.9,         0.9,\n",
      "                0.9,         0.9,         0.9,         0.9,         0.9,         0.9,         0.9,         0.9,         0.9,         0.9,         0.9,         0.9,         0.9,         0.9,         0.9,         0.9,         0.9,         0.9,         0.9,         0.9,         0.9,         0.9,         0.9,\n",
      "                0.9,         0.9,         0.9,         0.9,         0.9,         0.9,         0.9,         0.9,         0.9,         0.9,         0.9,         0.9,         0.9,         0.9,         0.9,         0.9,         0.9,         0.9,         0.9,         0.9,         0.9,         0.9,         0.9,\n",
      "                0.9,         0.9,         0.9,         0.9,         0.9,         0.9,         0.9,         0.9,         0.9,         0.9,         0.9,         0.9,         0.9,         0.9,         0.9,         0.9,         0.9,         0.9,         0.9,         0.9,         0.9,         0.9,         0.9,\n",
      "                0.9,         0.9,         0.9,         0.9,         0.9,         0.9,         0.9,         0.9,         0.9,         0.9,         0.9,         0.9,         0.9,         0.9,         0.9,         0.9,         0.9,         0.9,         0.9,         0.9,         0.9,         0.9,         0.9,\n",
      "                0.9,         0.9,         0.9,         0.9,         0.9,         0.9,         0.9,         0.9,         0.9,         0.9,         0.9,         0.9,         0.9,         0.9,         0.9,         0.9,         0.9,         0.9,         0.9,         0.9,     0.84615,     0.84615,     0.84615,\n",
      "            0.84615,     0.84615,     0.84615,     0.84615,     0.84615,     0.84615,     0.84615,     0.84615,     0.84615,     0.84615,     0.84615,     0.84615,     0.84615,     0.84615,     0.84615,     0.84615,     0.84615,     0.84615,     0.84615,     0.84615,     0.84615,     0.84615,     0.84615,\n",
      "            0.84615,     0.84615,     0.84615,     0.84615,     0.84615,     0.84615,     0.84615,     0.84615,     0.84615,     0.84615,     0.84615,     0.84615,     0.84615,     0.84615,     0.84615,     0.84615,     0.84615,     0.84615,     0.84615,     0.84615,     0.84615,     0.84615,     0.84615,\n",
      "            0.84615,     0.84615,     0.84615,     0.84615,     0.84615,     0.84615,     0.84615,     0.84615,     0.84615,     0.84615,     0.84615,      0.8125,      0.8125,      0.8125,      0.8125,      0.8125,      0.8125,      0.8125,      0.8125,      0.8125,      0.8125,      0.8125,      0.8125,\n",
      "             0.8125,      0.8125,      0.8125,      0.8125,      0.8125,      0.8125,      0.8125,      0.8125,      0.8125,      0.8125,      0.8125,      0.8125,      0.8125,      0.8125,      0.8125,      0.8125,      0.8125,      0.8125,      0.8125,      0.8125,      0.8125,      0.8125,      0.8125,\n",
      "             0.8125,      0.8125,      0.8125,      0.8125,      0.8125,      0.8125,      0.8125,      0.8125,      0.8125,      0.8125,      0.8125,      0.8125,      0.8125,      0.8125,      0.8125,      0.8125,      0.8125,      0.8125,      0.8125,      0.8125,      0.8125,      0.8125,      0.8125,\n",
      "             0.8125,      0.8125,      0.8125,     0.73684,     0.73684,     0.73684,     0.73684,     0.73684,     0.73684,     0.73684,     0.73684,     0.73684,     0.73684,     0.73684,     0.73684,     0.73684,     0.73684,     0.73684,     0.73684,     0.73684,     0.73684,     0.73684,     0.73684,\n",
      "            0.73684,     0.73684,     0.73684,     0.73684,     0.73684,     0.73684,     0.73684,     0.73684,     0.73684,     0.73684,     0.28788,     0.28788,     0.28788,     0.28788,     0.28788,     0.28788,     0.28788,     0.28788,     0.28788,     0.28788,     0.28788,     0.28788,     0.28788,\n",
      "            0.28788,     0.28788,     0.28788,     0.28788,     0.28788,     0.28788,     0.28788,     0.28788,     0.28788,     0.28788,     0.28788,     0.28788,     0.28788,     0.28788,     0.28788,     0.28788,     0.28788,     0.28788,     0.28788,     0.28788,     0.28788,     0.28788,     0.28788,\n",
      "            0.28788,     0.28788,     0.28788,     0.28788,     0.28788,     0.28788,     0.28788,     0.28788,     0.28788,     0.28788,     0.28788,     0.28788,     0.28788,     0.28788,     0.28788,     0.28788,     0.28788,     0.28788,     0.28788,     0.28788,     0.28788,     0.28788,     0.28788,\n",
      "            0.28788,     0.28788,     0.28788,     0.28788,     0.28788,     0.28788,     0.28788,     0.28788,     0.28788,     0.28788,     0.28788,     0.28788,     0.28788,     0.28788,     0.28788,     0.28788,     0.28788,     0.28788,     0.28788,     0.28788,     0.28788,     0.28788,     0.28788,\n",
      "            0.28788,     0.28788,     0.28788,     0.28788,     0.28788,     0.28788,     0.28788,     0.28788,     0.28788,     0.28788,     0.28788,     0.28788,     0.28788,     0.28788,     0.28788,     0.28788,     0.28788,     0.28788,     0.28788,     0.28788,     0.28788,     0.28788,     0.28788,\n",
      "            0.28788,     0.28788,     0.28788,     0.28788,     0.28788,     0.28788,     0.28788,     0.28788,     0.28788,     0.28788,     0.28788,     0.28788,     0.28788,     0.28788,     0.28788,     0.28788,     0.28788,     0.28788,     0.28788,     0.28788,     0.28788,     0.28788,     0.28788,\n",
      "            0.28788,     0.28788,     0.28788,     0.28788,     0.28788,     0.28788,     0.28788,     0.28788,     0.28788,     0.28788,     0.28788,     0.28788,     0.28788,     0.28788,     0.28788,     0.28788,     0.28788,     0.28788,     0.28788,     0.28788,     0.28788,     0.28788,     0.28788,\n",
      "            0.28788,     0.26667,     0.26667,     0.26667,     0.26667,     0.26667,     0.26667,     0.26667,     0.26667,     0.26667,     0.26667,     0.26667,     0.26667,     0.26667,     0.26667,     0.26667,     0.26667,     0.26667,     0.26667,     0.26667,     0.26667,     0.26667,     0.26667,\n",
      "            0.26667,     0.26667,     0.26667,     0.26667,     0.26667,     0.26667,     0.26667,     0.26667,     0.13291,     0.13291,     0.13291,     0.13291,     0.13291,     0.13291,     0.13291,     0.13291,     0.13291,     0.13291,     0.13291,     0.13291,     0.13291,     0.13291,     0.13291,\n",
      "            0.13291,     0.13291,     0.13291,     0.13291,     0.13291,     0.13291,     0.13291,     0.13291,     0.13291,     0.13291,     0.13291,     0.13291,     0.13291,     0.13291,     0.13291,     0.10455,     0.10455,     0.10455,     0.10455,     0.10455,     0.10455,     0.10455,     0.10455,\n",
      "            0.10455,     0.10455,     0.10455,     0.10455,     0.10455,     0.10455,     0.10455,     0.10455,     0.10455,     0.10455,     0.10455,     0.10455,     0.10455,     0.10455,     0.10455,     0.10455,     0.10455,     0.10455,     0.10455,     0.10455,     0.10455,     0.10455,     0.10455,\n",
      "            0.10455,     0.10455,     0.10455,     0.10455,     0.10455,     0.10455,     0.10455,     0.10455,     0.10455,     0.10455,     0.10455,     0.10455,     0.10455,     0.10455,     0.10455,     0.10455,     0.10455,     0.10455,     0.10455,     0.10455,     0.10455,     0.10455,     0.10455,\n",
      "            0.10455,     0.10455,     0.10455,     0.10455,     0.10455,     0.10455,     0.10455,    0.026876,    0.026876,    0.026876,    0.026876,    0.026876,    0.026876,    0.026876,    0.026876,    0.026876,    0.026876,    0.026876,    0.026876,    0.026876,    0.026876,    0.026876,    0.026876,\n",
      "           0.026876,    0.026876,    0.026876,    0.026876,    0.026876,    0.026876,    0.026876,    0.026876,    0.026876,    0.026876,    0.026876,    0.026876,    0.026876,    0.026876,    0.015489,    0.015489,    0.015489,    0.015489,    0.015489,    0.015489,    0.015489,    0.015489,    0.015489,\n",
      "           0.015489,    0.015489,    0.015489,    0.015489,    0.015489,    0.015489,    0.015489,    0.015489,    0.015489,    0.015489,    0.015489,    0.015489,    0.015489,    0.015489,    0.015489,    0.015489,    0.015489,    0.015489,    0.015489,    0.015489,    0.015489,    0.014806,    0.014806,\n",
      "           0.014806,    0.014806,    0.014806,    0.014806,    0.014806,    0.014806,    0.014806,    0.014806,    0.014806,    0.014806,    0.014806,    0.014806,    0.014806,    0.014806,    0.014806,    0.014806,    0.014806,    0.014806,    0.014806,    0.014806,    0.014806,    0.014806,    0.014806,\n",
      "           0.014806,    0.014806,    0.014806,    0.014806,    0.014806,    0.014806,    0.013678,    0.013678,    0.013678,    0.013678,    0.013678,    0.013678,    0.013678,    0.013678,    0.013678,    0.013678,    0.013678,    0.013678,    0.013678,    0.013678,    0.013678,    0.013678,    0.013678,\n",
      "           0.013678,    0.013678,    0.013678,    0.013678,    0.013678,    0.013678,    0.013678,    0.013678,    0.013678,    0.013678,    0.013678,    0.013678,    0.013678,    0.011461,    0.011461,    0.011461,    0.011461,    0.011461,    0.011461,    0.011461,    0.011461,    0.011461,    0.011461,\n",
      "           0.011461,    0.011461,    0.011461,    0.011461,    0.011461,    0.011461,    0.011461,    0.011461,    0.011461,    0.011461,    0.011461,    0.011461,    0.011461,    0.011461,    0.011461,    0.011461,    0.011461,    0.011461,    0.011461,    0.011461,   0.0048876,   0.0048552,   0.0048229,\n",
      "          0.0047905,   0.0047581,   0.0047258,   0.0046934,    0.004661,   0.0046287,   0.0045963,   0.0045639,   0.0045316,   0.0044992,   0.0044668,   0.0044345,   0.0044021,   0.0043697,   0.0043374,    0.004305,   0.0042726,   0.0042403,   0.0042079,   0.0041755,   0.0041431,   0.0041108,   0.0040784,\n",
      "           0.004046,   0.0040137,   0.0039813,   0.0039489,   0.0039166,   0.0038842,   0.0038518,   0.0038195,   0.0037871,   0.0037547,   0.0037224,     0.00369,   0.0036576,   0.0036253,   0.0035929,   0.0035605,   0.0035281,   0.0034958,   0.0034634,    0.003431,   0.0033987,   0.0033663,   0.0033339,\n",
      "          0.0033016,   0.0032692,   0.0032368,   0.0032045,   0.0031721,   0.0031397,   0.0031074,    0.003075,   0.0030426,   0.0030103,   0.0029779,   0.0029455,   0.0029131,   0.0028808,   0.0028484,    0.002816,   0.0027837,   0.0027513,   0.0027189,   0.0026866,   0.0026542,   0.0026218,   0.0025895,\n",
      "          0.0025571,   0.0025247,   0.0024924,     0.00246,   0.0024276,   0.0023953,   0.0023629,   0.0023305,   0.0022982,   0.0022658,   0.0022334,    0.002201,   0.0021687,   0.0021363,   0.0021039,   0.0020716,   0.0020392,   0.0020068,   0.0019745,   0.0019421,   0.0019097,   0.0018774,    0.001845,\n",
      "          0.0018126,   0.0017803,   0.0017479,   0.0017155,   0.0016832,   0.0016508,   0.0016184,    0.001586,   0.0015537,   0.0015213,   0.0014889,   0.0014566,   0.0014242,   0.0013918,   0.0013595,   0.0013271,   0.0012947,   0.0012624,     0.00123,   0.0011976,   0.0011653,   0.0011329,   0.0011005,\n",
      "          0.0010682,   0.0010358,   0.0010034,  0.00097105,  0.00093868,  0.00090631,  0.00087394,  0.00084158,  0.00080921,  0.00077684,  0.00074447,   0.0007121,  0.00067973,  0.00064737,    0.000615,  0.00058263,  0.00055026,  0.00051789,  0.00048552,  0.00045316,  0.00042079,  0.00038842,  0.00035605,\n",
      "         0.00032368,  0.00029131,  0.00025895,  0.00022658,  0.00019421,  0.00016184,  0.00012947,  9.7105e-05,  6.4737e-05,  3.2368e-05,           0]]), 'Recall', 'Precision'], [array([          0,    0.001001,    0.002002,    0.003003,    0.004004,    0.005005,    0.006006,    0.007007,    0.008008,    0.009009,     0.01001,    0.011011,    0.012012,    0.013013,    0.014014,    0.015015,    0.016016,    0.017017,    0.018018,    0.019019,     0.02002,    0.021021,    0.022022,    0.023023,\n",
      "          0.024024,    0.025025,    0.026026,    0.027027,    0.028028,    0.029029,     0.03003,    0.031031,    0.032032,    0.033033,    0.034034,    0.035035,    0.036036,    0.037037,    0.038038,    0.039039,     0.04004,    0.041041,    0.042042,    0.043043,    0.044044,    0.045045,    0.046046,    0.047047,\n",
      "          0.048048,    0.049049,     0.05005,    0.051051,    0.052052,    0.053053,    0.054054,    0.055055,    0.056056,    0.057057,    0.058058,    0.059059,     0.06006,    0.061061,    0.062062,    0.063063,    0.064064,    0.065065,    0.066066,    0.067067,    0.068068,    0.069069,     0.07007,    0.071071,\n",
      "          0.072072,    0.073073,    0.074074,    0.075075,    0.076076,    0.077077,    0.078078,    0.079079,     0.08008,    0.081081,    0.082082,    0.083083,    0.084084,    0.085085,    0.086086,    0.087087,    0.088088,    0.089089,     0.09009,    0.091091,    0.092092,    0.093093,    0.094094,    0.095095,\n",
      "          0.096096,    0.097097,    0.098098,    0.099099,      0.1001,      0.1011,      0.1021,      0.1031,      0.1041,     0.10511,     0.10611,     0.10711,     0.10811,     0.10911,     0.11011,     0.11111,     0.11211,     0.11311,     0.11411,     0.11512,     0.11612,     0.11712,     0.11812,     0.11912,\n",
      "           0.12012,     0.12112,     0.12212,     0.12312,     0.12412,     0.12513,     0.12613,     0.12713,     0.12813,     0.12913,     0.13013,     0.13113,     0.13213,     0.13313,     0.13413,     0.13514,     0.13614,     0.13714,     0.13814,     0.13914,     0.14014,     0.14114,     0.14214,     0.14314,\n",
      "           0.14414,     0.14515,     0.14615,     0.14715,     0.14815,     0.14915,     0.15015,     0.15115,     0.15215,     0.15315,     0.15415,     0.15516,     0.15616,     0.15716,     0.15816,     0.15916,     0.16016,     0.16116,     0.16216,     0.16316,     0.16416,     0.16517,     0.16617,     0.16717,\n",
      "           0.16817,     0.16917,     0.17017,     0.17117,     0.17217,     0.17317,     0.17417,     0.17518,     0.17618,     0.17718,     0.17818,     0.17918,     0.18018,     0.18118,     0.18218,     0.18318,     0.18418,     0.18519,     0.18619,     0.18719,     0.18819,     0.18919,     0.19019,     0.19119,\n",
      "           0.19219,     0.19319,     0.19419,      0.1952,      0.1962,      0.1972,      0.1982,      0.1992,      0.2002,      0.2012,      0.2022,      0.2032,      0.2042,     0.20521,     0.20621,     0.20721,     0.20821,     0.20921,     0.21021,     0.21121,     0.21221,     0.21321,     0.21421,     0.21522,\n",
      "           0.21622,     0.21722,     0.21822,     0.21922,     0.22022,     0.22122,     0.22222,     0.22322,     0.22422,     0.22523,     0.22623,     0.22723,     0.22823,     0.22923,     0.23023,     0.23123,     0.23223,     0.23323,     0.23423,     0.23524,     0.23624,     0.23724,     0.23824,     0.23924,\n",
      "           0.24024,     0.24124,     0.24224,     0.24324,     0.24424,     0.24525,     0.24625,     0.24725,     0.24825,     0.24925,     0.25025,     0.25125,     0.25225,     0.25325,     0.25425,     0.25526,     0.25626,     0.25726,     0.25826,     0.25926,     0.26026,     0.26126,     0.26226,     0.26326,\n",
      "           0.26426,     0.26527,     0.26627,     0.26727,     0.26827,     0.26927,     0.27027,     0.27127,     0.27227,     0.27327,     0.27427,     0.27528,     0.27628,     0.27728,     0.27828,     0.27928,     0.28028,     0.28128,     0.28228,     0.28328,     0.28428,     0.28529,     0.28629,     0.28729,\n",
      "           0.28829,     0.28929,     0.29029,     0.29129,     0.29229,     0.29329,     0.29429,      0.2953,      0.2963,      0.2973,      0.2983,      0.2993,      0.3003,      0.3013,      0.3023,      0.3033,      0.3043,     0.30531,     0.30631,     0.30731,     0.30831,     0.30931,     0.31031,     0.31131,\n",
      "           0.31231,     0.31331,     0.31431,     0.31532,     0.31632,     0.31732,     0.31832,     0.31932,     0.32032,     0.32132,     0.32232,     0.32332,     0.32432,     0.32533,     0.32633,     0.32733,     0.32833,     0.32933,     0.33033,     0.33133,     0.33233,     0.33333,     0.33433,     0.33534,\n",
      "           0.33634,     0.33734,     0.33834,     0.33934,     0.34034,     0.34134,     0.34234,     0.34334,     0.34434,     0.34535,     0.34635,     0.34735,     0.34835,     0.34935,     0.35035,     0.35135,     0.35235,     0.35335,     0.35435,     0.35536,     0.35636,     0.35736,     0.35836,     0.35936,\n",
      "           0.36036,     0.36136,     0.36236,     0.36336,     0.36436,     0.36537,     0.36637,     0.36737,     0.36837,     0.36937,     0.37037,     0.37137,     0.37237,     0.37337,     0.37437,     0.37538,     0.37638,     0.37738,     0.37838,     0.37938,     0.38038,     0.38138,     0.38238,     0.38338,\n",
      "           0.38438,     0.38539,     0.38639,     0.38739,     0.38839,     0.38939,     0.39039,     0.39139,     0.39239,     0.39339,     0.39439,      0.3954,      0.3964,      0.3974,      0.3984,      0.3994,      0.4004,      0.4014,      0.4024,      0.4034,      0.4044,     0.40541,     0.40641,     0.40741,\n",
      "           0.40841,     0.40941,     0.41041,     0.41141,     0.41241,     0.41341,     0.41441,     0.41542,     0.41642,     0.41742,     0.41842,     0.41942,     0.42042,     0.42142,     0.42242,     0.42342,     0.42442,     0.42543,     0.42643,     0.42743,     0.42843,     0.42943,     0.43043,     0.43143,\n",
      "           0.43243,     0.43343,     0.43443,     0.43544,     0.43644,     0.43744,     0.43844,     0.43944,     0.44044,     0.44144,     0.44244,     0.44344,     0.44444,     0.44545,     0.44645,     0.44745,     0.44845,     0.44945,     0.45045,     0.45145,     0.45245,     0.45345,     0.45445,     0.45546,\n",
      "           0.45646,     0.45746,     0.45846,     0.45946,     0.46046,     0.46146,     0.46246,     0.46346,     0.46446,     0.46547,     0.46647,     0.46747,     0.46847,     0.46947,     0.47047,     0.47147,     0.47247,     0.47347,     0.47447,     0.47548,     0.47648,     0.47748,     0.47848,     0.47948,\n",
      "           0.48048,     0.48148,     0.48248,     0.48348,     0.48448,     0.48549,     0.48649,     0.48749,     0.48849,     0.48949,     0.49049,     0.49149,     0.49249,     0.49349,     0.49449,      0.4955,      0.4965,      0.4975,      0.4985,      0.4995,      0.5005,      0.5015,      0.5025,      0.5035,\n",
      "            0.5045,     0.50551,     0.50651,     0.50751,     0.50851,     0.50951,     0.51051,     0.51151,     0.51251,     0.51351,     0.51451,     0.51552,     0.51652,     0.51752,     0.51852,     0.51952,     0.52052,     0.52152,     0.52252,     0.52352,     0.52452,     0.52553,     0.52653,     0.52753,\n",
      "           0.52853,     0.52953,     0.53053,     0.53153,     0.53253,     0.53353,     0.53453,     0.53554,     0.53654,     0.53754,     0.53854,     0.53954,     0.54054,     0.54154,     0.54254,     0.54354,     0.54454,     0.54555,     0.54655,     0.54755,     0.54855,     0.54955,     0.55055,     0.55155,\n",
      "           0.55255,     0.55355,     0.55455,     0.55556,     0.55656,     0.55756,     0.55856,     0.55956,     0.56056,     0.56156,     0.56256,     0.56356,     0.56456,     0.56557,     0.56657,     0.56757,     0.56857,     0.56957,     0.57057,     0.57157,     0.57257,     0.57357,     0.57457,     0.57558,\n",
      "           0.57658,     0.57758,     0.57858,     0.57958,     0.58058,     0.58158,     0.58258,     0.58358,     0.58458,     0.58559,     0.58659,     0.58759,     0.58859,     0.58959,     0.59059,     0.59159,     0.59259,     0.59359,     0.59459,      0.5956,      0.5966,      0.5976,      0.5986,      0.5996,\n",
      "            0.6006,      0.6016,      0.6026,      0.6036,      0.6046,     0.60561,     0.60661,     0.60761,     0.60861,     0.60961,     0.61061,     0.61161,     0.61261,     0.61361,     0.61461,     0.61562,     0.61662,     0.61762,     0.61862,     0.61962,     0.62062,     0.62162,     0.62262,     0.62362,\n",
      "           0.62462,     0.62563,     0.62663,     0.62763,     0.62863,     0.62963,     0.63063,     0.63163,     0.63263,     0.63363,     0.63463,     0.63564,     0.63664,     0.63764,     0.63864,     0.63964,     0.64064,     0.64164,     0.64264,     0.64364,     0.64464,     0.64565,     0.64665,     0.64765,\n",
      "           0.64865,     0.64965,     0.65065,     0.65165,     0.65265,     0.65365,     0.65465,     0.65566,     0.65666,     0.65766,     0.65866,     0.65966,     0.66066,     0.66166,     0.66266,     0.66366,     0.66466,     0.66567,     0.66667,     0.66767,     0.66867,     0.66967,     0.67067,     0.67167,\n",
      "           0.67267,     0.67367,     0.67467,     0.67568,     0.67668,     0.67768,     0.67868,     0.67968,     0.68068,     0.68168,     0.68268,     0.68368,     0.68468,     0.68569,     0.68669,     0.68769,     0.68869,     0.68969,     0.69069,     0.69169,     0.69269,     0.69369,     0.69469,      0.6957,\n",
      "            0.6967,      0.6977,      0.6987,      0.6997,      0.7007,      0.7017,      0.7027,      0.7037,      0.7047,     0.70571,     0.70671,     0.70771,     0.70871,     0.70971,     0.71071,     0.71171,     0.71271,     0.71371,     0.71471,     0.71572,     0.71672,     0.71772,     0.71872,     0.71972,\n",
      "           0.72072,     0.72172,     0.72272,     0.72372,     0.72472,     0.72573,     0.72673,     0.72773,     0.72873,     0.72973,     0.73073,     0.73173,     0.73273,     0.73373,     0.73473,     0.73574,     0.73674,     0.73774,     0.73874,     0.73974,     0.74074,     0.74174,     0.74274,     0.74374,\n",
      "           0.74474,     0.74575,     0.74675,     0.74775,     0.74875,     0.74975,     0.75075,     0.75175,     0.75275,     0.75375,     0.75475,     0.75576,     0.75676,     0.75776,     0.75876,     0.75976,     0.76076,     0.76176,     0.76276,     0.76376,     0.76476,     0.76577,     0.76677,     0.76777,\n",
      "           0.76877,     0.76977,     0.77077,     0.77177,     0.77277,     0.77377,     0.77477,     0.77578,     0.77678,     0.77778,     0.77878,     0.77978,     0.78078,     0.78178,     0.78278,     0.78378,     0.78478,     0.78579,     0.78679,     0.78779,     0.78879,     0.78979,     0.79079,     0.79179,\n",
      "           0.79279,     0.79379,     0.79479,      0.7958,      0.7968,      0.7978,      0.7988,      0.7998,      0.8008,      0.8018,      0.8028,      0.8038,      0.8048,     0.80581,     0.80681,     0.80781,     0.80881,     0.80981,     0.81081,     0.81181,     0.81281,     0.81381,     0.81481,     0.81582,\n",
      "           0.81682,     0.81782,     0.81882,     0.81982,     0.82082,     0.82182,     0.82282,     0.82382,     0.82482,     0.82583,     0.82683,     0.82783,     0.82883,     0.82983,     0.83083,     0.83183,     0.83283,     0.83383,     0.83483,     0.83584,     0.83684,     0.83784,     0.83884,     0.83984,\n",
      "           0.84084,     0.84184,     0.84284,     0.84384,     0.84484,     0.84585,     0.84685,     0.84785,     0.84885,     0.84985,     0.85085,     0.85185,     0.85285,     0.85385,     0.85485,     0.85586,     0.85686,     0.85786,     0.85886,     0.85986,     0.86086,     0.86186,     0.86286,     0.86386,\n",
      "           0.86486,     0.86587,     0.86687,     0.86787,     0.86887,     0.86987,     0.87087,     0.87187,     0.87287,     0.87387,     0.87487,     0.87588,     0.87688,     0.87788,     0.87888,     0.87988,     0.88088,     0.88188,     0.88288,     0.88388,     0.88488,     0.88589,     0.88689,     0.88789,\n",
      "           0.88889,     0.88989,     0.89089,     0.89189,     0.89289,     0.89389,     0.89489,      0.8959,      0.8969,      0.8979,      0.8989,      0.8999,      0.9009,      0.9019,      0.9029,      0.9039,      0.9049,     0.90591,     0.90691,     0.90791,     0.90891,     0.90991,     0.91091,     0.91191,\n",
      "           0.91291,     0.91391,     0.91491,     0.91592,     0.91692,     0.91792,     0.91892,     0.91992,     0.92092,     0.92192,     0.92292,     0.92392,     0.92492,     0.92593,     0.92693,     0.92793,     0.92893,     0.92993,     0.93093,     0.93193,     0.93293,     0.93393,     0.93493,     0.93594,\n",
      "           0.93694,     0.93794,     0.93894,     0.93994,     0.94094,     0.94194,     0.94294,     0.94394,     0.94494,     0.94595,     0.94695,     0.94795,     0.94895,     0.94995,     0.95095,     0.95195,     0.95295,     0.95395,     0.95495,     0.95596,     0.95696,     0.95796,     0.95896,     0.95996,\n",
      "           0.96096,     0.96196,     0.96296,     0.96396,     0.96496,     0.96597,     0.96697,     0.96797,     0.96897,     0.96997,     0.97097,     0.97197,     0.97297,     0.97397,     0.97497,     0.97598,     0.97698,     0.97798,     0.97898,     0.97998,     0.98098,     0.98198,     0.98298,     0.98398,\n",
      "           0.98498,     0.98599,     0.98699,     0.98799,     0.98899,     0.98999,     0.99099,     0.99199,     0.99299,     0.99399,     0.99499,       0.996,       0.997,       0.998,       0.999,           1]), array([[  0.0097425,   0.0097468,    0.015194,    0.019688,    0.022764,    0.025893,    0.027863,    0.029501,    0.031124,    0.034035,    0.036461,    0.038874,    0.041117,    0.043598,    0.045518,    0.047804,    0.051029,      0.0516,    0.053852,    0.056275,    0.059105,    0.062009,    0.064949,\n",
      "           0.067275,    0.069627,    0.072213,    0.073882,    0.075701,    0.078127,    0.080647,    0.082756,    0.085492,    0.087309,    0.088558,    0.092215,    0.094735,    0.096861,    0.099184,     0.10094,     0.10367,     0.10546,     0.10761,     0.11005,     0.11335,     0.11505,     0.11676,\n",
      "            0.11973,     0.12277,     0.12463,     0.12808,     0.13197,     0.13506,     0.13685,     0.13926,     0.14236,     0.14514,     0.14775,     0.14908,     0.15087,     0.15299,     0.15382,     0.15433,     0.15708,     0.15939,     0.16106,     0.16213,       0.163,     0.16539,     0.16722,\n",
      "            0.16775,     0.17058,     0.17326,     0.17624,     0.17782,     0.17918,      0.1811,     0.18156,     0.17574,     0.16994,     0.17304,     0.17501,     0.17587,      0.1761,     0.17633,     0.17849,     0.18255,     0.18583,     0.18765,     0.18849,     0.19039,     0.19207,     0.19376,\n",
      "            0.19478,     0.19681,     0.19761,     0.19832,     0.19886,     0.20039,     0.20171,     0.20387,     0.20522,     0.20581,     0.20836,     0.20924,     0.21226,     0.21364,     0.21612,     0.21711,     0.21821,      0.2106,     0.21195,     0.21335,     0.21575,     0.21654,     0.21689,\n",
      "            0.21724,     0.21842,     0.21985,     0.22106,     0.22152,     0.22197,     0.22256,     0.22333,       0.224,     0.22464,     0.22626,     0.22667,     0.22708,     0.23068,     0.23223,     0.23533,     0.23697,     0.23975,     0.24037,     0.24102,     0.24217,     0.24538,     0.24684,\n",
      "            0.24887,     0.24935,     0.24983,     0.25051,      0.2513,     0.25349,     0.25498,     0.25563,     0.25627,     0.25948,     0.26232,     0.26425,     0.26529,     0.26581,     0.26633,     0.26804,     0.26909,     0.26979,     0.27043,     0.27094,     0.27145,     0.27196,      0.2725,\n",
      "            0.27306,     0.27361,     0.27422,     0.27491,      0.2756,     0.27655,     0.27766,     0.27909,     0.28076,     0.28225,     0.28337,     0.28524,     0.28847,     0.28949,     0.29091,     0.29331,     0.29676,     0.29793,     0.30123,      0.3022,      0.3031,     0.30359,     0.30407,\n",
      "            0.30455,     0.30503,     0.30543,     0.30567,     0.30591,     0.30615,     0.30639,     0.30663,     0.30687,     0.30711,     0.30735,     0.30759,     0.31045,      0.3114,     0.31234,     0.31783,     0.32005,     0.32017,      0.3203,     0.32042,     0.32055,     0.32067,     0.32079,\n",
      "            0.32092,     0.32104,     0.32117,     0.32129,     0.32142,     0.32154,     0.32167,     0.32179,     0.32191,     0.32204,     0.32216,     0.32229,     0.32241,     0.32253,     0.32525,     0.32819,     0.33045,     0.33629,     0.33716,     0.33803,      0.3389,     0.33977,     0.34065,\n",
      "            0.34152,     0.34324,     0.34517,     0.34628,     0.34739,     0.35155,     0.35349,     0.35731,     0.35818,     0.35905,     0.35992,     0.36721,     0.35556,     0.35701,     0.35845,      0.3599,     0.36134,     0.36232,     0.36301,     0.36369,     0.36438,     0.36506,     0.36573,\n",
      "            0.36638,     0.36703,     0.36768,     0.36833,     0.37045,      0.3732,     0.37391,     0.37461,     0.37532,     0.37602,     0.37671,     0.37738,     0.37806,     0.37873,      0.3794,     0.38004,     0.38041,     0.38079,     0.38116,     0.38153,      0.3819,     0.38227,     0.38264,\n",
      "            0.38301,     0.38338,     0.38375,      0.3521,     0.35081,     0.35113,     0.35145,     0.35177,     0.35209,     0.35241,     0.35273,     0.35305,     0.35337,     0.35369,       0.354,     0.35331,     0.35155,     0.34979,     0.34803,     0.34627,      0.3445,     0.34274,     0.34098,\n",
      "            0.33922,     0.33746,     0.34056,     0.34139,     0.34222,     0.34305,     0.34387,     0.34165,     0.33834,     0.33502,     0.33171,      0.3284,     0.32504,     0.32158,     0.31812,     0.31466,      0.3112,     0.30774,     0.30813,     0.30857,     0.30901,     0.30945,     0.30989,\n",
      "            0.31033,     0.31077,     0.31131,     0.31225,     0.31319,     0.31412,     0.31651,     0.31839,     0.31875,      0.3191,     0.31946,     0.31982,     0.32017,     0.32053,     0.32089,     0.32124,      0.3216,     0.32264,      0.3252,      0.3261,     0.32671,     0.32731,     0.32792,\n",
      "            0.32852,     0.32912,     0.33019,     0.33167,     0.33315,     0.33511,     0.33713,     0.33908,     0.34101,     0.34935,     0.35238,     0.35468,     0.35605,     0.35742,     0.35878,     0.36462,     0.36634,     0.36806,     0.36906,     0.36987,     0.37068,     0.37148,     0.37228,\n",
      "            0.37308,     0.37623,     0.37906,     0.38046,     0.38185,     0.38323,     0.38391,     0.38437,     0.38483,     0.38528,     0.38574,     0.38619,     0.38665,      0.3871,     0.38755,     0.38801,     0.38846,     0.38891,     0.38945,     0.38999,     0.39053,     0.39106,      0.3916,\n",
      "            0.39213,     0.39266,      0.3932,     0.39373,     0.39425,     0.39521,     0.39627,     0.39732,     0.39838,     0.39942,     0.40606,     0.40856,     0.41103,     0.41321,     0.41525,     0.41728,     0.42106,     0.42712,     0.43346,     0.43766,     0.44047,     0.44324,     0.44484,\n",
      "            0.44554,     0.44625,     0.44694,     0.44764,     0.44834,     0.44903,     0.44972,      0.4504,     0.45109,     0.45249,     0.45622,      0.4591,     0.45943,     0.45976,      0.4601,     0.46043,     0.46076,     0.46109,     0.46142,     0.46175,     0.46208,     0.46241,     0.46274,\n",
      "            0.46307,      0.4634,     0.46372,     0.46405,     0.46438,      0.4647,     0.46503,     0.46535,     0.46568,       0.466,     0.46632,     0.46664,     0.46782,     0.46906,     0.47028,     0.47151,     0.47272,     0.47392,     0.47496,     0.47581,     0.47665,     0.47749,     0.47832,\n",
      "            0.47915,     0.47998,      0.4808,     0.48162,     0.48244,     0.48802,     0.49165,     0.49232,     0.49298,     0.49365,     0.49431,     0.49497,     0.49563,     0.49628,     0.49694,     0.49759,     0.49824,     0.49888,     0.49952,     0.50047,     0.50229,     0.50408,     0.50586,\n",
      "            0.50762,     0.50917,     0.50967,     0.51017,     0.51067,     0.51117,     0.51167,     0.51216,     0.51266,     0.51315,     0.51364,     0.51413,     0.51462,      0.5151,     0.51559,     0.51607,     0.51656,     0.51704,     0.51752,       0.518,     0.51847,     0.51887,     0.51926,\n",
      "            0.51966,     0.52004,     0.52043,     0.52082,     0.52121,     0.52159,     0.52198,     0.52236,     0.52275,     0.52313,     0.52351,     0.52389,     0.52427,     0.52465,     0.52503,      0.5254,     0.52578,     0.52616,     0.52653,      0.5269,     0.52728,     0.52765,     0.52802,\n",
      "            0.52836,     0.52858,     0.52881,     0.52903,     0.52925,     0.52948,      0.5297,     0.52993,     0.53015,     0.53037,     0.53059,     0.53082,     0.53104,     0.53126,     0.53148,      0.5317,     0.53192,     0.53214,     0.53236,     0.53258,      0.5328,     0.53302,     0.53324,\n",
      "            0.53346,     0.53368,     0.53389,     0.53411,     0.53433,     0.53455,     0.53476,     0.53498,     0.53519,     0.53541,     0.53563,     0.53584,     0.53606,     0.53627,     0.53648,      0.5367,     0.53691,     0.53713,     0.53734,     0.53755,     0.53776,     0.53798,     0.53819,\n",
      "             0.5384,      0.5349,     0.52984,     0.52476,     0.51965,     0.51453,     0.51075,      0.5216,     0.53024,     0.52318,     0.51608,     0.50892,     0.50172,     0.49834,     0.49617,     0.49399,      0.4918,     0.48961,     0.48742,     0.48522,     0.48302,     0.48081,      0.4786,\n",
      "            0.47638,     0.47416,     0.47193,      0.4697,     0.46831,     0.46912,     0.46993,     0.47073,     0.47152,      0.4723,     0.47308,     0.47385,     0.47462,     0.47538,     0.47614,     0.47688,     0.47763,     0.47782,     0.47468,     0.47152,     0.46835,     0.46518,     0.46199,\n",
      "            0.45879,     0.45559,     0.45237,     0.44914,      0.4459,     0.44114,     0.43514,     0.42909,     0.42301,     0.41689,     0.41074,     0.41145,     0.41454,     0.41749,     0.41811,      0.4173,     0.41649,     0.41568,     0.41487,     0.41406,     0.41324,     0.41243,     0.41161,\n",
      "             0.4108,     0.40998,     0.40917,     0.40835,     0.40753,     0.40671,     0.40589,     0.40507,     0.40425,     0.40343,      0.4026,     0.40178,     0.40096,     0.40013,     0.39931,     0.39848,     0.39765,     0.39683,       0.396,     0.39517,     0.39434,     0.39351,     0.39267,\n",
      "            0.39184,     0.39101,     0.39018,     0.38934,     0.38851,     0.38767,     0.38683,     0.38599,     0.38516,     0.38432,     0.38348,     0.38264,     0.38179,     0.38095,     0.37903,     0.37711,     0.37518,     0.37325,     0.37131,     0.36937,     0.36743,     0.36548,     0.36353,\n",
      "            0.36158,     0.35962,     0.35765,     0.35569,     0.35371,     0.35174,     0.34976,     0.34777,     0.34579,     0.34379,      0.3418,     0.33497,     0.32712,      0.3192,     0.31123,     0.30318,     0.29873,     0.29662,     0.29451,      0.2924,     0.29028,     0.28816,     0.28603,\n",
      "             0.2839,     0.28177,     0.27963,     0.27748,     0.27534,     0.27318,     0.27103,     0.26887,      0.2667,     0.26453,     0.26236,     0.26018,     0.25799,     0.25479,     0.24892,     0.24302,     0.23709,     0.23113,     0.22514,     0.21912,     0.21306,     0.15876,     0.13002,\n",
      "            0.11116,     0.11128,      0.1114,     0.11152,     0.11164,     0.11175,     0.11186,     0.11197,     0.11208,     0.11218,     0.11228,     0.11238,     0.11248,     0.11257,     0.11267,     0.11276,     0.11285,     0.11293,     0.11302,      0.1131,     0.11318,     0.11326,     0.11334,\n",
      "            0.11342,     0.11349,     0.11357,     0.11364,     0.11371,     0.11378,     0.11385,     0.11392,     0.11398,     0.11405,     0.11411,     0.11418,     0.11424,     0.11354,     0.10988,      0.1062,      0.1025,    0.098795,    0.095072,    0.091335,    0.087583,    0.083816,    0.080035,\n",
      "           0.076238,    0.072426,      0.0686,    0.064758,      0.0609,           0,           0,           0,           0,           0,           0,           0,           0,           0,           0,           0,           0,           0,           0,           0,           0,           0,           0,\n",
      "                  0,           0,           0,           0,           0,           0,           0,           0,           0,           0,           0,           0,           0,           0,           0,           0,           0,           0,           0,           0,           0,           0,           0,\n",
      "                  0,           0,           0,           0,           0,           0,           0,           0,           0,           0,           0,           0,           0,           0,           0,           0,           0,           0,           0,           0,           0,           0,           0,\n",
      "                  0,           0,           0,           0,           0,           0,           0,           0,           0,           0,           0,           0,           0,           0,           0,           0,           0,           0,           0,           0,           0,           0,           0,\n",
      "                  0,           0,           0,           0,           0,           0,           0,           0,           0,           0,           0,           0,           0,           0,           0,           0,           0,           0,           0,           0,           0,           0,           0,\n",
      "                  0,           0,           0,           0,           0,           0,           0,           0,           0,           0,           0,           0,           0,           0,           0,           0,           0,           0,           0,           0,           0,           0,           0,\n",
      "                  0,           0,           0,           0,           0,           0,           0,           0,           0,           0,           0,           0,           0,           0,           0,           0,           0,           0,           0,           0,           0,           0,           0,\n",
      "                  0,           0,           0,           0,           0,           0,           0,           0,           0,           0,           0,           0,           0,           0,           0,           0,           0,           0,           0,           0,           0,           0,           0,\n",
      "                  0,           0,           0,           0,           0,           0,           0,           0,           0,           0,           0,           0,           0,           0,           0,           0,           0,           0,           0,           0,           0,           0,           0,\n",
      "                  0,           0,           0,           0,           0,           0,           0,           0,           0,           0,           0]]), 'Confidence', 'F1'], [array([          0,    0.001001,    0.002002,    0.003003,    0.004004,    0.005005,    0.006006,    0.007007,    0.008008,    0.009009,     0.01001,    0.011011,    0.012012,    0.013013,    0.014014,    0.015015,    0.016016,    0.017017,    0.018018,    0.019019,     0.02002,    0.021021,    0.022022,    0.023023,\n",
      "          0.024024,    0.025025,    0.026026,    0.027027,    0.028028,    0.029029,     0.03003,    0.031031,    0.032032,    0.033033,    0.034034,    0.035035,    0.036036,    0.037037,    0.038038,    0.039039,     0.04004,    0.041041,    0.042042,    0.043043,    0.044044,    0.045045,    0.046046,    0.047047,\n",
      "          0.048048,    0.049049,     0.05005,    0.051051,    0.052052,    0.053053,    0.054054,    0.055055,    0.056056,    0.057057,    0.058058,    0.059059,     0.06006,    0.061061,    0.062062,    0.063063,    0.064064,    0.065065,    0.066066,    0.067067,    0.068068,    0.069069,     0.07007,    0.071071,\n",
      "          0.072072,    0.073073,    0.074074,    0.075075,    0.076076,    0.077077,    0.078078,    0.079079,     0.08008,    0.081081,    0.082082,    0.083083,    0.084084,    0.085085,    0.086086,    0.087087,    0.088088,    0.089089,     0.09009,    0.091091,    0.092092,    0.093093,    0.094094,    0.095095,\n",
      "          0.096096,    0.097097,    0.098098,    0.099099,      0.1001,      0.1011,      0.1021,      0.1031,      0.1041,     0.10511,     0.10611,     0.10711,     0.10811,     0.10911,     0.11011,     0.11111,     0.11211,     0.11311,     0.11411,     0.11512,     0.11612,     0.11712,     0.11812,     0.11912,\n",
      "           0.12012,     0.12112,     0.12212,     0.12312,     0.12412,     0.12513,     0.12613,     0.12713,     0.12813,     0.12913,     0.13013,     0.13113,     0.13213,     0.13313,     0.13413,     0.13514,     0.13614,     0.13714,     0.13814,     0.13914,     0.14014,     0.14114,     0.14214,     0.14314,\n",
      "           0.14414,     0.14515,     0.14615,     0.14715,     0.14815,     0.14915,     0.15015,     0.15115,     0.15215,     0.15315,     0.15415,     0.15516,     0.15616,     0.15716,     0.15816,     0.15916,     0.16016,     0.16116,     0.16216,     0.16316,     0.16416,     0.16517,     0.16617,     0.16717,\n",
      "           0.16817,     0.16917,     0.17017,     0.17117,     0.17217,     0.17317,     0.17417,     0.17518,     0.17618,     0.17718,     0.17818,     0.17918,     0.18018,     0.18118,     0.18218,     0.18318,     0.18418,     0.18519,     0.18619,     0.18719,     0.18819,     0.18919,     0.19019,     0.19119,\n",
      "           0.19219,     0.19319,     0.19419,      0.1952,      0.1962,      0.1972,      0.1982,      0.1992,      0.2002,      0.2012,      0.2022,      0.2032,      0.2042,     0.20521,     0.20621,     0.20721,     0.20821,     0.20921,     0.21021,     0.21121,     0.21221,     0.21321,     0.21421,     0.21522,\n",
      "           0.21622,     0.21722,     0.21822,     0.21922,     0.22022,     0.22122,     0.22222,     0.22322,     0.22422,     0.22523,     0.22623,     0.22723,     0.22823,     0.22923,     0.23023,     0.23123,     0.23223,     0.23323,     0.23423,     0.23524,     0.23624,     0.23724,     0.23824,     0.23924,\n",
      "           0.24024,     0.24124,     0.24224,     0.24324,     0.24424,     0.24525,     0.24625,     0.24725,     0.24825,     0.24925,     0.25025,     0.25125,     0.25225,     0.25325,     0.25425,     0.25526,     0.25626,     0.25726,     0.25826,     0.25926,     0.26026,     0.26126,     0.26226,     0.26326,\n",
      "           0.26426,     0.26527,     0.26627,     0.26727,     0.26827,     0.26927,     0.27027,     0.27127,     0.27227,     0.27327,     0.27427,     0.27528,     0.27628,     0.27728,     0.27828,     0.27928,     0.28028,     0.28128,     0.28228,     0.28328,     0.28428,     0.28529,     0.28629,     0.28729,\n",
      "           0.28829,     0.28929,     0.29029,     0.29129,     0.29229,     0.29329,     0.29429,      0.2953,      0.2963,      0.2973,      0.2983,      0.2993,      0.3003,      0.3013,      0.3023,      0.3033,      0.3043,     0.30531,     0.30631,     0.30731,     0.30831,     0.30931,     0.31031,     0.31131,\n",
      "           0.31231,     0.31331,     0.31431,     0.31532,     0.31632,     0.31732,     0.31832,     0.31932,     0.32032,     0.32132,     0.32232,     0.32332,     0.32432,     0.32533,     0.32633,     0.32733,     0.32833,     0.32933,     0.33033,     0.33133,     0.33233,     0.33333,     0.33433,     0.33534,\n",
      "           0.33634,     0.33734,     0.33834,     0.33934,     0.34034,     0.34134,     0.34234,     0.34334,     0.34434,     0.34535,     0.34635,     0.34735,     0.34835,     0.34935,     0.35035,     0.35135,     0.35235,     0.35335,     0.35435,     0.35536,     0.35636,     0.35736,     0.35836,     0.35936,\n",
      "           0.36036,     0.36136,     0.36236,     0.36336,     0.36436,     0.36537,     0.36637,     0.36737,     0.36837,     0.36937,     0.37037,     0.37137,     0.37237,     0.37337,     0.37437,     0.37538,     0.37638,     0.37738,     0.37838,     0.37938,     0.38038,     0.38138,     0.38238,     0.38338,\n",
      "           0.38438,     0.38539,     0.38639,     0.38739,     0.38839,     0.38939,     0.39039,     0.39139,     0.39239,     0.39339,     0.39439,      0.3954,      0.3964,      0.3974,      0.3984,      0.3994,      0.4004,      0.4014,      0.4024,      0.4034,      0.4044,     0.40541,     0.40641,     0.40741,\n",
      "           0.40841,     0.40941,     0.41041,     0.41141,     0.41241,     0.41341,     0.41441,     0.41542,     0.41642,     0.41742,     0.41842,     0.41942,     0.42042,     0.42142,     0.42242,     0.42342,     0.42442,     0.42543,     0.42643,     0.42743,     0.42843,     0.42943,     0.43043,     0.43143,\n",
      "           0.43243,     0.43343,     0.43443,     0.43544,     0.43644,     0.43744,     0.43844,     0.43944,     0.44044,     0.44144,     0.44244,     0.44344,     0.44444,     0.44545,     0.44645,     0.44745,     0.44845,     0.44945,     0.45045,     0.45145,     0.45245,     0.45345,     0.45445,     0.45546,\n",
      "           0.45646,     0.45746,     0.45846,     0.45946,     0.46046,     0.46146,     0.46246,     0.46346,     0.46446,     0.46547,     0.46647,     0.46747,     0.46847,     0.46947,     0.47047,     0.47147,     0.47247,     0.47347,     0.47447,     0.47548,     0.47648,     0.47748,     0.47848,     0.47948,\n",
      "           0.48048,     0.48148,     0.48248,     0.48348,     0.48448,     0.48549,     0.48649,     0.48749,     0.48849,     0.48949,     0.49049,     0.49149,     0.49249,     0.49349,     0.49449,      0.4955,      0.4965,      0.4975,      0.4985,      0.4995,      0.5005,      0.5015,      0.5025,      0.5035,\n",
      "            0.5045,     0.50551,     0.50651,     0.50751,     0.50851,     0.50951,     0.51051,     0.51151,     0.51251,     0.51351,     0.51451,     0.51552,     0.51652,     0.51752,     0.51852,     0.51952,     0.52052,     0.52152,     0.52252,     0.52352,     0.52452,     0.52553,     0.52653,     0.52753,\n",
      "           0.52853,     0.52953,     0.53053,     0.53153,     0.53253,     0.53353,     0.53453,     0.53554,     0.53654,     0.53754,     0.53854,     0.53954,     0.54054,     0.54154,     0.54254,     0.54354,     0.54454,     0.54555,     0.54655,     0.54755,     0.54855,     0.54955,     0.55055,     0.55155,\n",
      "           0.55255,     0.55355,     0.55455,     0.55556,     0.55656,     0.55756,     0.55856,     0.55956,     0.56056,     0.56156,     0.56256,     0.56356,     0.56456,     0.56557,     0.56657,     0.56757,     0.56857,     0.56957,     0.57057,     0.57157,     0.57257,     0.57357,     0.57457,     0.57558,\n",
      "           0.57658,     0.57758,     0.57858,     0.57958,     0.58058,     0.58158,     0.58258,     0.58358,     0.58458,     0.58559,     0.58659,     0.58759,     0.58859,     0.58959,     0.59059,     0.59159,     0.59259,     0.59359,     0.59459,      0.5956,      0.5966,      0.5976,      0.5986,      0.5996,\n",
      "            0.6006,      0.6016,      0.6026,      0.6036,      0.6046,     0.60561,     0.60661,     0.60761,     0.60861,     0.60961,     0.61061,     0.61161,     0.61261,     0.61361,     0.61461,     0.61562,     0.61662,     0.61762,     0.61862,     0.61962,     0.62062,     0.62162,     0.62262,     0.62362,\n",
      "           0.62462,     0.62563,     0.62663,     0.62763,     0.62863,     0.62963,     0.63063,     0.63163,     0.63263,     0.63363,     0.63463,     0.63564,     0.63664,     0.63764,     0.63864,     0.63964,     0.64064,     0.64164,     0.64264,     0.64364,     0.64464,     0.64565,     0.64665,     0.64765,\n",
      "           0.64865,     0.64965,     0.65065,     0.65165,     0.65265,     0.65365,     0.65465,     0.65566,     0.65666,     0.65766,     0.65866,     0.65966,     0.66066,     0.66166,     0.66266,     0.66366,     0.66466,     0.66567,     0.66667,     0.66767,     0.66867,     0.66967,     0.67067,     0.67167,\n",
      "           0.67267,     0.67367,     0.67467,     0.67568,     0.67668,     0.67768,     0.67868,     0.67968,     0.68068,     0.68168,     0.68268,     0.68368,     0.68468,     0.68569,     0.68669,     0.68769,     0.68869,     0.68969,     0.69069,     0.69169,     0.69269,     0.69369,     0.69469,      0.6957,\n",
      "            0.6967,      0.6977,      0.6987,      0.6997,      0.7007,      0.7017,      0.7027,      0.7037,      0.7047,     0.70571,     0.70671,     0.70771,     0.70871,     0.70971,     0.71071,     0.71171,     0.71271,     0.71371,     0.71471,     0.71572,     0.71672,     0.71772,     0.71872,     0.71972,\n",
      "           0.72072,     0.72172,     0.72272,     0.72372,     0.72472,     0.72573,     0.72673,     0.72773,     0.72873,     0.72973,     0.73073,     0.73173,     0.73273,     0.73373,     0.73473,     0.73574,     0.73674,     0.73774,     0.73874,     0.73974,     0.74074,     0.74174,     0.74274,     0.74374,\n",
      "           0.74474,     0.74575,     0.74675,     0.74775,     0.74875,     0.74975,     0.75075,     0.75175,     0.75275,     0.75375,     0.75475,     0.75576,     0.75676,     0.75776,     0.75876,     0.75976,     0.76076,     0.76176,     0.76276,     0.76376,     0.76476,     0.76577,     0.76677,     0.76777,\n",
      "           0.76877,     0.76977,     0.77077,     0.77177,     0.77277,     0.77377,     0.77477,     0.77578,     0.77678,     0.77778,     0.77878,     0.77978,     0.78078,     0.78178,     0.78278,     0.78378,     0.78478,     0.78579,     0.78679,     0.78779,     0.78879,     0.78979,     0.79079,     0.79179,\n",
      "           0.79279,     0.79379,     0.79479,      0.7958,      0.7968,      0.7978,      0.7988,      0.7998,      0.8008,      0.8018,      0.8028,      0.8038,      0.8048,     0.80581,     0.80681,     0.80781,     0.80881,     0.80981,     0.81081,     0.81181,     0.81281,     0.81381,     0.81481,     0.81582,\n",
      "           0.81682,     0.81782,     0.81882,     0.81982,     0.82082,     0.82182,     0.82282,     0.82382,     0.82482,     0.82583,     0.82683,     0.82783,     0.82883,     0.82983,     0.83083,     0.83183,     0.83283,     0.83383,     0.83483,     0.83584,     0.83684,     0.83784,     0.83884,     0.83984,\n",
      "           0.84084,     0.84184,     0.84284,     0.84384,     0.84484,     0.84585,     0.84685,     0.84785,     0.84885,     0.84985,     0.85085,     0.85185,     0.85285,     0.85385,     0.85485,     0.85586,     0.85686,     0.85786,     0.85886,     0.85986,     0.86086,     0.86186,     0.86286,     0.86386,\n",
      "           0.86486,     0.86587,     0.86687,     0.86787,     0.86887,     0.86987,     0.87087,     0.87187,     0.87287,     0.87387,     0.87487,     0.87588,     0.87688,     0.87788,     0.87888,     0.87988,     0.88088,     0.88188,     0.88288,     0.88388,     0.88488,     0.88589,     0.88689,     0.88789,\n",
      "           0.88889,     0.88989,     0.89089,     0.89189,     0.89289,     0.89389,     0.89489,      0.8959,      0.8969,      0.8979,      0.8989,      0.8999,      0.9009,      0.9019,      0.9029,      0.9039,      0.9049,     0.90591,     0.90691,     0.90791,     0.90891,     0.90991,     0.91091,     0.91191,\n",
      "           0.91291,     0.91391,     0.91491,     0.91592,     0.91692,     0.91792,     0.91892,     0.91992,     0.92092,     0.92192,     0.92292,     0.92392,     0.92492,     0.92593,     0.92693,     0.92793,     0.92893,     0.92993,     0.93093,     0.93193,     0.93293,     0.93393,     0.93493,     0.93594,\n",
      "           0.93694,     0.93794,     0.93894,     0.93994,     0.94094,     0.94194,     0.94294,     0.94394,     0.94494,     0.94595,     0.94695,     0.94795,     0.94895,     0.94995,     0.95095,     0.95195,     0.95295,     0.95395,     0.95495,     0.95596,     0.95696,     0.95796,     0.95896,     0.95996,\n",
      "           0.96096,     0.96196,     0.96296,     0.96396,     0.96496,     0.96597,     0.96697,     0.96797,     0.96897,     0.96997,     0.97097,     0.97197,     0.97297,     0.97397,     0.97497,     0.97598,     0.97698,     0.97798,     0.97898,     0.97998,     0.98098,     0.98198,     0.98298,     0.98398,\n",
      "           0.98498,     0.98599,     0.98699,     0.98799,     0.98899,     0.98999,     0.99099,     0.99199,     0.99299,     0.99399,     0.99499,       0.996,       0.997,       0.998,       0.999,           1]), array([[  0.0048994,   0.0049016,   0.0076658,   0.0099596,    0.011542,    0.013155,    0.014182,    0.015043,    0.015902,    0.017425,    0.018699,    0.019971,    0.021157,    0.022472,    0.023494,    0.024714,    0.026442,    0.026792,    0.028008,    0.029321,    0.030861,    0.032448,    0.034061,\n",
      "           0.035344,    0.036644,    0.038079,    0.039008,    0.040024,    0.041383,      0.0428,    0.043989,    0.045539,    0.046571,    0.047283,    0.049374,    0.050821,    0.052047,    0.053391,    0.054409,    0.056002,    0.057049,    0.058305,    0.059742,    0.061694,    0.062699,    0.063715,\n",
      "           0.065492,    0.067316,    0.068436,    0.070521,    0.072884,    0.074775,    0.075876,    0.077361,    0.079274,    0.081003,    0.082632,    0.083466,    0.084593,    0.085923,    0.086448,    0.086773,    0.088512,    0.089985,    0.091048,    0.091733,    0.092293,    0.093825,     0.09501,\n",
      "           0.095347,     0.09718,    0.098924,     0.10088,     0.10191,     0.10281,     0.10407,     0.10438,     0.10121,    0.098063,     0.10014,     0.10145,     0.10203,     0.10219,     0.10234,      0.1038,     0.10656,      0.1088,     0.11005,     0.11063,     0.11194,     0.11311,     0.11428,\n",
      "            0.11499,     0.11641,     0.11697,     0.11747,     0.11784,     0.11892,     0.11985,     0.12138,     0.12234,     0.12276,     0.12457,     0.12521,     0.12737,     0.12837,     0.13017,     0.13088,     0.13169,     0.12744,     0.12843,     0.12946,     0.13123,     0.13182,     0.13208,\n",
      "            0.13234,     0.13321,     0.13428,     0.13519,     0.13553,     0.13586,     0.13631,     0.13689,     0.13739,     0.13787,     0.13909,      0.1394,     0.13972,     0.14245,     0.14363,     0.14602,     0.14728,     0.14943,     0.14991,     0.15042,     0.15131,     0.15383,     0.15498,\n",
      "            0.15658,     0.15697,     0.15735,     0.15789,     0.15852,     0.16026,     0.16145,     0.16197,     0.16249,     0.16508,     0.16738,     0.16896,     0.16981,     0.17024,     0.17066,     0.17207,     0.17293,     0.17351,     0.17405,     0.17447,     0.17489,     0.17531,     0.17577,\n",
      "            0.17623,     0.17669,      0.1772,     0.17777,     0.17835,     0.17915,     0.18008,     0.18128,      0.1827,     0.18396,     0.18491,     0.18651,     0.18929,     0.19016,     0.19139,     0.19348,     0.19649,     0.19751,     0.20042,     0.20129,     0.20209,     0.20252,     0.20295,\n",
      "            0.20338,     0.20381,     0.20416,     0.20437,     0.20459,      0.2048,     0.20502,     0.20523,     0.20545,     0.20566,     0.20588,     0.20609,     0.20867,     0.20953,     0.21038,     0.21539,     0.21743,     0.21755,     0.21766,     0.21778,     0.21789,     0.21801,     0.21813,\n",
      "            0.21824,     0.21836,     0.21847,     0.21859,      0.2187,     0.21882,     0.21893,     0.21905,     0.21916,     0.21928,     0.21939,     0.21951,     0.21962,     0.21974,     0.22227,     0.22502,     0.22715,      0.2327,     0.23354,     0.23438,     0.23521,     0.23606,      0.2369,\n",
      "            0.23774,     0.23941,      0.2413,     0.24239,     0.24347,     0.24758,      0.2495,     0.25333,     0.25421,     0.25509,     0.25596,      0.2634,      0.2572,     0.25871,     0.26023,     0.26176,     0.26329,     0.26433,     0.26507,      0.2658,     0.26653,     0.26726,     0.26797,\n",
      "            0.26867,     0.26937,     0.27007,     0.27077,     0.27308,     0.27607,     0.27685,     0.27762,      0.2784,     0.27918,     0.27993,     0.28068,     0.28142,     0.28217,     0.28292,     0.28363,     0.28404,     0.28446,     0.28487,     0.28529,      0.2857,     0.28612,     0.28653,\n",
      "            0.28695,     0.28736,     0.28778,     0.26669,     0.26597,     0.26634,     0.26671,     0.26707,     0.26744,     0.26781,     0.26818,     0.26855,     0.26892,     0.26928,     0.26965,     0.26926,     0.26806,     0.26686,     0.26566,     0.26447,     0.26327,     0.26207,     0.26088,\n",
      "            0.25968,     0.25848,     0.26246,     0.26345,     0.26443,     0.26542,     0.26641,     0.26498,     0.26269,     0.26041,     0.25812,     0.25583,      0.2535,     0.25108,     0.24867,     0.24625,     0.24383,     0.24141,     0.24192,     0.24246,     0.24301,     0.24355,     0.24409,\n",
      "            0.24464,     0.24518,     0.24586,     0.24704,     0.24821,     0.24939,     0.25241,     0.25481,     0.25527,     0.25573,     0.25619,     0.25665,     0.25711,     0.25757,     0.25802,     0.25848,     0.25894,      0.2603,     0.26364,     0.26483,     0.26563,     0.26644,     0.26724,\n",
      "            0.26804,     0.26884,     0.27027,     0.27226,     0.27426,     0.27693,     0.27969,     0.28239,     0.28509,     0.29693,     0.30133,     0.30472,     0.30675,     0.30879,     0.31082,     0.31969,     0.32235,     0.32501,     0.32658,     0.32785,     0.32912,     0.33039,     0.33166,\n",
      "            0.33293,     0.33797,     0.34257,     0.34487,     0.34716,     0.34945,     0.35058,     0.35135,     0.35211,     0.35288,     0.35364,     0.35441,     0.35518,     0.35594,     0.35671,     0.35747,     0.35824,     0.35901,     0.35993,     0.36085,     0.36177,      0.3627,     0.36362,\n",
      "            0.36454,     0.36546,     0.36638,      0.3673,     0.36823,     0.36989,     0.37175,     0.37362,     0.37548,     0.37734,     0.38937,     0.39399,     0.39862,     0.40273,     0.40664,     0.41054,     0.41793,     0.43004,     0.44309,     0.45195,     0.45799,     0.46402,     0.46754,\n",
      "             0.4691,     0.47066,     0.47221,     0.47377,     0.47533,     0.47689,     0.47845,        0.48,     0.48156,     0.48476,      0.4934,     0.50019,     0.50098,     0.50178,     0.50257,     0.50337,     0.50416,     0.50495,     0.50575,     0.50654,     0.50734,     0.50813,     0.50893,\n",
      "            0.50972,     0.51052,     0.51131,      0.5121,      0.5129,     0.51369,     0.51449,     0.51528,     0.51608,     0.51687,     0.51767,     0.51846,     0.52137,     0.52446,     0.52754,     0.53062,      0.5337,     0.53678,     0.53946,     0.54164,     0.54383,     0.54602,      0.5482,\n",
      "            0.55039,     0.55258,     0.55477,     0.55695,     0.55914,     0.57437,     0.58451,     0.58641,     0.58831,     0.59021,      0.5921,       0.594,      0.5959,      0.5978,      0.5997,     0.60159,     0.60349,     0.60539,     0.60729,      0.6101,     0.61552,     0.62094,     0.62636,\n",
      "            0.63178,     0.63661,     0.63818,     0.63975,     0.64133,      0.6429,     0.64448,     0.64605,     0.64763,      0.6492,     0.65077,     0.65235,     0.65392,      0.6555,     0.65707,     0.65864,     0.66022,     0.66179,     0.66337,     0.66494,     0.66652,     0.66784,     0.66914,\n",
      "            0.67044,     0.67174,     0.67304,     0.67433,     0.67563,     0.67693,     0.67823,     0.67953,     0.68083,     0.68213,     0.68342,     0.68472,     0.68602,     0.68732,     0.68862,     0.68992,     0.69122,     0.69251,     0.69381,     0.69511,     0.69641,     0.69771,     0.69901,\n",
      "            0.70019,     0.70098,     0.70177,     0.70256,     0.70335,     0.70415,     0.70494,     0.70573,     0.70652,     0.70731,      0.7081,      0.7089,     0.70969,     0.71048,     0.71127,     0.71206,     0.71286,     0.71365,     0.71444,     0.71523,     0.71602,     0.71681,     0.71761,\n",
      "             0.7184,     0.71919,     0.71998,     0.72077,     0.72157,     0.72236,     0.72315,     0.72394,     0.72473,     0.72552,     0.72632,     0.72711,      0.7279,     0.72869,     0.72948,     0.73028,     0.73107,     0.73186,     0.73265,     0.73344,     0.73423,     0.73503,     0.73582,\n",
      "            0.73661,     0.73501,     0.73241,     0.72981,     0.72721,     0.72461,     0.72603,     0.77168,     0.81235,     0.80943,     0.80652,      0.8036,     0.80069,     0.79925,     0.79826,     0.79727,     0.79629,      0.7953,     0.79432,     0.79333,     0.79234,     0.79136,     0.79037,\n",
      "            0.78939,      0.7884,     0.78741,     0.78643,     0.78699,     0.79159,     0.79619,     0.80079,     0.80539,        0.81,      0.8146,      0.8192,      0.8238,      0.8284,       0.833,      0.8376,      0.8422,     0.84598,     0.84477,     0.84356,     0.84235,     0.84114,     0.83993,\n",
      "            0.83872,     0.83751,      0.8363,     0.83509,     0.83388,      0.8319,     0.82929,     0.82669,     0.82408,     0.82148,     0.81888,     0.83739,     0.86358,     0.88976,     0.89985,     0.89961,     0.89936,     0.89912,     0.89888,     0.89863,     0.89839,     0.89815,      0.8979,\n",
      "            0.89766,     0.89742,     0.89717,     0.89693,     0.89668,     0.89644,      0.8962,     0.89595,     0.89571,     0.89547,     0.89522,     0.89498,     0.89474,     0.89449,     0.89425,       0.894,     0.89376,     0.89352,     0.89327,     0.89303,     0.89279,     0.89254,      0.8923,\n",
      "            0.89206,     0.89181,     0.89157,     0.89133,     0.89108,     0.89084,     0.89059,     0.89035,     0.89011,     0.88986,     0.88962,     0.88938,     0.88913,     0.88889,      0.8882,     0.88751,     0.88682,     0.88613,     0.88545,     0.88476,     0.88407,     0.88338,     0.88269,\n",
      "              0.882,     0.88131,     0.88062,     0.87994,     0.87925,     0.87856,     0.87787,     0.87718,     0.87649,      0.8758,     0.87512,     0.87216,     0.86874,     0.86532,      0.8619,     0.85849,     0.85643,     0.85526,     0.85409,     0.85292,     0.85175,     0.85058,     0.84941,\n",
      "            0.84823,     0.84706,     0.84589,     0.84472,     0.84355,     0.84238,     0.84121,     0.84004,     0.83886,     0.83769,     0.83652,     0.83535,     0.83418,     0.83213,      0.8278,     0.82347,     0.81913,      0.8148,     0.81047,     0.80614,      0.8018,     0.74435,     0.69716,\n",
      "            0.66993,     0.67915,     0.68837,     0.69759,     0.70681,     0.71603,     0.72525,     0.73448,      0.7437,     0.75292,     0.76214,     0.77136,     0.78058,      0.7898,     0.79902,     0.80824,     0.81746,     0.82668,      0.8359,     0.84512,     0.85434,     0.86357,     0.87279,\n",
      "            0.88201,     0.89123,     0.90045,     0.90967,     0.91889,     0.92811,     0.93733,     0.94655,     0.95577,     0.96499,     0.97421,     0.98344,     0.99266,           1,           1,           1,           1,           1,           1,           1,           1,           1,           1,\n",
      "                  1,           1,           1,           1,           1,           1,           1,           1,           1,           1,           1,           1,           1,           1,           1,           1,           1,           1,           1,           1,           1,           1,           1,\n",
      "                  1,           1,           1,           1,           1,           1,           1,           1,           1,           1,           1,           1,           1,           1,           1,           1,           1,           1,           1,           1,           1,           1,           1,\n",
      "                  1,           1,           1,           1,           1,           1,           1,           1,           1,           1,           1,           1,           1,           1,           1,           1,           1,           1,           1,           1,           1,           1,           1,\n",
      "                  1,           1,           1,           1,           1,           1,           1,           1,           1,           1,           1,           1,           1,           1,           1,           1,           1,           1,           1,           1,           1,           1,           1,\n",
      "                  1,           1,           1,           1,           1,           1,           1,           1,           1,           1,           1,           1,           1,           1,           1,           1,           1,           1,           1,           1,           1,           1,           1,\n",
      "                  1,           1,           1,           1,           1,           1,           1,           1,           1,           1,           1,           1,           1,           1,           1,           1,           1,           1,           1,           1,           1,           1,           1,\n",
      "                  1,           1,           1,           1,           1,           1,           1,           1,           1,           1,           1,           1,           1,           1,           1,           1,           1,           1,           1,           1,           1,           1,           1,\n",
      "                  1,           1,           1,           1,           1,           1,           1,           1,           1,           1,           1,           1,           1,           1,           1,           1,           1,           1,           1,           1,           1,           1,           1,\n",
      "                  1,           1,           1,           1,           1,           1,           1,           1,           1,           1,           1,           1,           1,           1,           1,           1,           1,           1,           1,           1,           1,           1,           1,\n",
      "                  1,           1,           1,           1,           1,           1,           1,           1,           1,           1,           1]]), 'Confidence', 'Precision'], [array([          0,    0.001001,    0.002002,    0.003003,    0.004004,    0.005005,    0.006006,    0.007007,    0.008008,    0.009009,     0.01001,    0.011011,    0.012012,    0.013013,    0.014014,    0.015015,    0.016016,    0.017017,    0.018018,    0.019019,     0.02002,    0.021021,    0.022022,    0.023023,\n",
      "          0.024024,    0.025025,    0.026026,    0.027027,    0.028028,    0.029029,     0.03003,    0.031031,    0.032032,    0.033033,    0.034034,    0.035035,    0.036036,    0.037037,    0.038038,    0.039039,     0.04004,    0.041041,    0.042042,    0.043043,    0.044044,    0.045045,    0.046046,    0.047047,\n",
      "          0.048048,    0.049049,     0.05005,    0.051051,    0.052052,    0.053053,    0.054054,    0.055055,    0.056056,    0.057057,    0.058058,    0.059059,     0.06006,    0.061061,    0.062062,    0.063063,    0.064064,    0.065065,    0.066066,    0.067067,    0.068068,    0.069069,     0.07007,    0.071071,\n",
      "          0.072072,    0.073073,    0.074074,    0.075075,    0.076076,    0.077077,    0.078078,    0.079079,     0.08008,    0.081081,    0.082082,    0.083083,    0.084084,    0.085085,    0.086086,    0.087087,    0.088088,    0.089089,     0.09009,    0.091091,    0.092092,    0.093093,    0.094094,    0.095095,\n",
      "          0.096096,    0.097097,    0.098098,    0.099099,      0.1001,      0.1011,      0.1021,      0.1031,      0.1041,     0.10511,     0.10611,     0.10711,     0.10811,     0.10911,     0.11011,     0.11111,     0.11211,     0.11311,     0.11411,     0.11512,     0.11612,     0.11712,     0.11812,     0.11912,\n",
      "           0.12012,     0.12112,     0.12212,     0.12312,     0.12412,     0.12513,     0.12613,     0.12713,     0.12813,     0.12913,     0.13013,     0.13113,     0.13213,     0.13313,     0.13413,     0.13514,     0.13614,     0.13714,     0.13814,     0.13914,     0.14014,     0.14114,     0.14214,     0.14314,\n",
      "           0.14414,     0.14515,     0.14615,     0.14715,     0.14815,     0.14915,     0.15015,     0.15115,     0.15215,     0.15315,     0.15415,     0.15516,     0.15616,     0.15716,     0.15816,     0.15916,     0.16016,     0.16116,     0.16216,     0.16316,     0.16416,     0.16517,     0.16617,     0.16717,\n",
      "           0.16817,     0.16917,     0.17017,     0.17117,     0.17217,     0.17317,     0.17417,     0.17518,     0.17618,     0.17718,     0.17818,     0.17918,     0.18018,     0.18118,     0.18218,     0.18318,     0.18418,     0.18519,     0.18619,     0.18719,     0.18819,     0.18919,     0.19019,     0.19119,\n",
      "           0.19219,     0.19319,     0.19419,      0.1952,      0.1962,      0.1972,      0.1982,      0.1992,      0.2002,      0.2012,      0.2022,      0.2032,      0.2042,     0.20521,     0.20621,     0.20721,     0.20821,     0.20921,     0.21021,     0.21121,     0.21221,     0.21321,     0.21421,     0.21522,\n",
      "           0.21622,     0.21722,     0.21822,     0.21922,     0.22022,     0.22122,     0.22222,     0.22322,     0.22422,     0.22523,     0.22623,     0.22723,     0.22823,     0.22923,     0.23023,     0.23123,     0.23223,     0.23323,     0.23423,     0.23524,     0.23624,     0.23724,     0.23824,     0.23924,\n",
      "           0.24024,     0.24124,     0.24224,     0.24324,     0.24424,     0.24525,     0.24625,     0.24725,     0.24825,     0.24925,     0.25025,     0.25125,     0.25225,     0.25325,     0.25425,     0.25526,     0.25626,     0.25726,     0.25826,     0.25926,     0.26026,     0.26126,     0.26226,     0.26326,\n",
      "           0.26426,     0.26527,     0.26627,     0.26727,     0.26827,     0.26927,     0.27027,     0.27127,     0.27227,     0.27327,     0.27427,     0.27528,     0.27628,     0.27728,     0.27828,     0.27928,     0.28028,     0.28128,     0.28228,     0.28328,     0.28428,     0.28529,     0.28629,     0.28729,\n",
      "           0.28829,     0.28929,     0.29029,     0.29129,     0.29229,     0.29329,     0.29429,      0.2953,      0.2963,      0.2973,      0.2983,      0.2993,      0.3003,      0.3013,      0.3023,      0.3033,      0.3043,     0.30531,     0.30631,     0.30731,     0.30831,     0.30931,     0.31031,     0.31131,\n",
      "           0.31231,     0.31331,     0.31431,     0.31532,     0.31632,     0.31732,     0.31832,     0.31932,     0.32032,     0.32132,     0.32232,     0.32332,     0.32432,     0.32533,     0.32633,     0.32733,     0.32833,     0.32933,     0.33033,     0.33133,     0.33233,     0.33333,     0.33433,     0.33534,\n",
      "           0.33634,     0.33734,     0.33834,     0.33934,     0.34034,     0.34134,     0.34234,     0.34334,     0.34434,     0.34535,     0.34635,     0.34735,     0.34835,     0.34935,     0.35035,     0.35135,     0.35235,     0.35335,     0.35435,     0.35536,     0.35636,     0.35736,     0.35836,     0.35936,\n",
      "           0.36036,     0.36136,     0.36236,     0.36336,     0.36436,     0.36537,     0.36637,     0.36737,     0.36837,     0.36937,     0.37037,     0.37137,     0.37237,     0.37337,     0.37437,     0.37538,     0.37638,     0.37738,     0.37838,     0.37938,     0.38038,     0.38138,     0.38238,     0.38338,\n",
      "           0.38438,     0.38539,     0.38639,     0.38739,     0.38839,     0.38939,     0.39039,     0.39139,     0.39239,     0.39339,     0.39439,      0.3954,      0.3964,      0.3974,      0.3984,      0.3994,      0.4004,      0.4014,      0.4024,      0.4034,      0.4044,     0.40541,     0.40641,     0.40741,\n",
      "           0.40841,     0.40941,     0.41041,     0.41141,     0.41241,     0.41341,     0.41441,     0.41542,     0.41642,     0.41742,     0.41842,     0.41942,     0.42042,     0.42142,     0.42242,     0.42342,     0.42442,     0.42543,     0.42643,     0.42743,     0.42843,     0.42943,     0.43043,     0.43143,\n",
      "           0.43243,     0.43343,     0.43443,     0.43544,     0.43644,     0.43744,     0.43844,     0.43944,     0.44044,     0.44144,     0.44244,     0.44344,     0.44444,     0.44545,     0.44645,     0.44745,     0.44845,     0.44945,     0.45045,     0.45145,     0.45245,     0.45345,     0.45445,     0.45546,\n",
      "           0.45646,     0.45746,     0.45846,     0.45946,     0.46046,     0.46146,     0.46246,     0.46346,     0.46446,     0.46547,     0.46647,     0.46747,     0.46847,     0.46947,     0.47047,     0.47147,     0.47247,     0.47347,     0.47447,     0.47548,     0.47648,     0.47748,     0.47848,     0.47948,\n",
      "           0.48048,     0.48148,     0.48248,     0.48348,     0.48448,     0.48549,     0.48649,     0.48749,     0.48849,     0.48949,     0.49049,     0.49149,     0.49249,     0.49349,     0.49449,      0.4955,      0.4965,      0.4975,      0.4985,      0.4995,      0.5005,      0.5015,      0.5025,      0.5035,\n",
      "            0.5045,     0.50551,     0.50651,     0.50751,     0.50851,     0.50951,     0.51051,     0.51151,     0.51251,     0.51351,     0.51451,     0.51552,     0.51652,     0.51752,     0.51852,     0.51952,     0.52052,     0.52152,     0.52252,     0.52352,     0.52452,     0.52553,     0.52653,     0.52753,\n",
      "           0.52853,     0.52953,     0.53053,     0.53153,     0.53253,     0.53353,     0.53453,     0.53554,     0.53654,     0.53754,     0.53854,     0.53954,     0.54054,     0.54154,     0.54254,     0.54354,     0.54454,     0.54555,     0.54655,     0.54755,     0.54855,     0.54955,     0.55055,     0.55155,\n",
      "           0.55255,     0.55355,     0.55455,     0.55556,     0.55656,     0.55756,     0.55856,     0.55956,     0.56056,     0.56156,     0.56256,     0.56356,     0.56456,     0.56557,     0.56657,     0.56757,     0.56857,     0.56957,     0.57057,     0.57157,     0.57257,     0.57357,     0.57457,     0.57558,\n",
      "           0.57658,     0.57758,     0.57858,     0.57958,     0.58058,     0.58158,     0.58258,     0.58358,     0.58458,     0.58559,     0.58659,     0.58759,     0.58859,     0.58959,     0.59059,     0.59159,     0.59259,     0.59359,     0.59459,      0.5956,      0.5966,      0.5976,      0.5986,      0.5996,\n",
      "            0.6006,      0.6016,      0.6026,      0.6036,      0.6046,     0.60561,     0.60661,     0.60761,     0.60861,     0.60961,     0.61061,     0.61161,     0.61261,     0.61361,     0.61461,     0.61562,     0.61662,     0.61762,     0.61862,     0.61962,     0.62062,     0.62162,     0.62262,     0.62362,\n",
      "           0.62462,     0.62563,     0.62663,     0.62763,     0.62863,     0.62963,     0.63063,     0.63163,     0.63263,     0.63363,     0.63463,     0.63564,     0.63664,     0.63764,     0.63864,     0.63964,     0.64064,     0.64164,     0.64264,     0.64364,     0.64464,     0.64565,     0.64665,     0.64765,\n",
      "           0.64865,     0.64965,     0.65065,     0.65165,     0.65265,     0.65365,     0.65465,     0.65566,     0.65666,     0.65766,     0.65866,     0.65966,     0.66066,     0.66166,     0.66266,     0.66366,     0.66466,     0.66567,     0.66667,     0.66767,     0.66867,     0.66967,     0.67067,     0.67167,\n",
      "           0.67267,     0.67367,     0.67467,     0.67568,     0.67668,     0.67768,     0.67868,     0.67968,     0.68068,     0.68168,     0.68268,     0.68368,     0.68468,     0.68569,     0.68669,     0.68769,     0.68869,     0.68969,     0.69069,     0.69169,     0.69269,     0.69369,     0.69469,      0.6957,\n",
      "            0.6967,      0.6977,      0.6987,      0.6997,      0.7007,      0.7017,      0.7027,      0.7037,      0.7047,     0.70571,     0.70671,     0.70771,     0.70871,     0.70971,     0.71071,     0.71171,     0.71271,     0.71371,     0.71471,     0.71572,     0.71672,     0.71772,     0.71872,     0.71972,\n",
      "           0.72072,     0.72172,     0.72272,     0.72372,     0.72472,     0.72573,     0.72673,     0.72773,     0.72873,     0.72973,     0.73073,     0.73173,     0.73273,     0.73373,     0.73473,     0.73574,     0.73674,     0.73774,     0.73874,     0.73974,     0.74074,     0.74174,     0.74274,     0.74374,\n",
      "           0.74474,     0.74575,     0.74675,     0.74775,     0.74875,     0.74975,     0.75075,     0.75175,     0.75275,     0.75375,     0.75475,     0.75576,     0.75676,     0.75776,     0.75876,     0.75976,     0.76076,     0.76176,     0.76276,     0.76376,     0.76476,     0.76577,     0.76677,     0.76777,\n",
      "           0.76877,     0.76977,     0.77077,     0.77177,     0.77277,     0.77377,     0.77477,     0.77578,     0.77678,     0.77778,     0.77878,     0.77978,     0.78078,     0.78178,     0.78278,     0.78378,     0.78478,     0.78579,     0.78679,     0.78779,     0.78879,     0.78979,     0.79079,     0.79179,\n",
      "           0.79279,     0.79379,     0.79479,      0.7958,      0.7968,      0.7978,      0.7988,      0.7998,      0.8008,      0.8018,      0.8028,      0.8038,      0.8048,     0.80581,     0.80681,     0.80781,     0.80881,     0.80981,     0.81081,     0.81181,     0.81281,     0.81381,     0.81481,     0.81582,\n",
      "           0.81682,     0.81782,     0.81882,     0.81982,     0.82082,     0.82182,     0.82282,     0.82382,     0.82482,     0.82583,     0.82683,     0.82783,     0.82883,     0.82983,     0.83083,     0.83183,     0.83283,     0.83383,     0.83483,     0.83584,     0.83684,     0.83784,     0.83884,     0.83984,\n",
      "           0.84084,     0.84184,     0.84284,     0.84384,     0.84484,     0.84585,     0.84685,     0.84785,     0.84885,     0.84985,     0.85085,     0.85185,     0.85285,     0.85385,     0.85485,     0.85586,     0.85686,     0.85786,     0.85886,     0.85986,     0.86086,     0.86186,     0.86286,     0.86386,\n",
      "           0.86486,     0.86587,     0.86687,     0.86787,     0.86887,     0.86987,     0.87087,     0.87187,     0.87287,     0.87387,     0.87487,     0.87588,     0.87688,     0.87788,     0.87888,     0.87988,     0.88088,     0.88188,     0.88288,     0.88388,     0.88488,     0.88589,     0.88689,     0.88789,\n",
      "           0.88889,     0.88989,     0.89089,     0.89189,     0.89289,     0.89389,     0.89489,      0.8959,      0.8969,      0.8979,      0.8989,      0.8999,      0.9009,      0.9019,      0.9029,      0.9039,      0.9049,     0.90591,     0.90691,     0.90791,     0.90891,     0.90991,     0.91091,     0.91191,\n",
      "           0.91291,     0.91391,     0.91491,     0.91592,     0.91692,     0.91792,     0.91892,     0.91992,     0.92092,     0.92192,     0.92292,     0.92392,     0.92492,     0.92593,     0.92693,     0.92793,     0.92893,     0.92993,     0.93093,     0.93193,     0.93293,     0.93393,     0.93493,     0.93594,\n",
      "           0.93694,     0.93794,     0.93894,     0.93994,     0.94094,     0.94194,     0.94294,     0.94394,     0.94494,     0.94595,     0.94695,     0.94795,     0.94895,     0.94995,     0.95095,     0.95195,     0.95295,     0.95395,     0.95495,     0.95596,     0.95696,     0.95796,     0.95896,     0.95996,\n",
      "           0.96096,     0.96196,     0.96296,     0.96396,     0.96496,     0.96597,     0.96697,     0.96797,     0.96897,     0.96997,     0.97097,     0.97197,     0.97297,     0.97397,     0.97497,     0.97598,     0.97698,     0.97798,     0.97898,     0.97998,     0.98098,     0.98198,     0.98298,     0.98398,\n",
      "           0.98498,     0.98599,     0.98699,     0.98799,     0.98899,     0.98999,     0.99099,     0.99199,     0.99299,     0.99399,     0.99499,       0.996,       0.997,       0.998,       0.999,           1]), array([[    0.84848,     0.84848,     0.84848,     0.84848,     0.81818,     0.81818,     0.78788,     0.75758,     0.72727,     0.72727,     0.72727,     0.72727,     0.72727,     0.72727,     0.72727,     0.72727,     0.72727,     0.69697,     0.69697,     0.69697,     0.69697,     0.69697,     0.69697,\n",
      "            0.69697,     0.69697,     0.69697,     0.69697,     0.69697,     0.69697,     0.69697,     0.69697,     0.69697,     0.69697,     0.69697,     0.69697,     0.69697,     0.69697,     0.69697,     0.69697,     0.69697,     0.69697,     0.69697,     0.69697,     0.69697,     0.69697,     0.69697,\n",
      "            0.69697,     0.69697,     0.69697,     0.69697,     0.69697,     0.69697,     0.69697,     0.69697,     0.69697,     0.69697,     0.69697,     0.69697,     0.69697,     0.69697,     0.69697,     0.69697,     0.69697,     0.69697,     0.69697,     0.69697,     0.69697,     0.69697,     0.69697,\n",
      "            0.69697,     0.69697,     0.69697,     0.69697,     0.69697,     0.69697,     0.69697,     0.69697,     0.66667,     0.63636,     0.63636,     0.63636,     0.63636,     0.63636,     0.63636,     0.63636,     0.63636,     0.63636,     0.63636,     0.63636,     0.63636,     0.63636,     0.63636,\n",
      "            0.63636,     0.63636,     0.63636,     0.63636,     0.63636,     0.63636,     0.63636,     0.63636,     0.63636,     0.63636,     0.63636,     0.63636,     0.63636,     0.63636,     0.63636,     0.63636,     0.63636,     0.60606,     0.60606,     0.60606,     0.60606,     0.60606,     0.60606,\n",
      "            0.60606,     0.60606,     0.60606,     0.60606,     0.60606,     0.60606,     0.60606,     0.60606,     0.60606,     0.60606,     0.60606,     0.60606,     0.60606,     0.60606,     0.60606,     0.60606,     0.60606,     0.60606,     0.60606,     0.60606,     0.60606,     0.60606,     0.60606,\n",
      "            0.60606,     0.60606,     0.60606,     0.60606,     0.60606,     0.60606,     0.60606,     0.60606,     0.60606,     0.60606,     0.60606,     0.60606,     0.60606,     0.60606,     0.60606,     0.60606,     0.60606,     0.60606,     0.60606,     0.60606,     0.60606,     0.60606,     0.60606,\n",
      "            0.60606,     0.60606,     0.60606,     0.60606,     0.60606,     0.60606,     0.60606,     0.60606,     0.60606,     0.60606,     0.60606,     0.60606,     0.60606,     0.60606,     0.60606,     0.60606,     0.60606,     0.60606,     0.60606,     0.60606,     0.60606,     0.60606,     0.60606,\n",
      "            0.60606,     0.60606,     0.60606,     0.60606,     0.60606,     0.60606,     0.60606,     0.60606,     0.60606,     0.60606,     0.60606,     0.60606,     0.60606,     0.60606,     0.60606,     0.60606,     0.60606,     0.60606,     0.60606,     0.60606,     0.60606,     0.60606,     0.60606,\n",
      "            0.60606,     0.60606,     0.60606,     0.60606,     0.60606,     0.60606,     0.60606,     0.60606,     0.60606,     0.60606,     0.60606,     0.60606,     0.60606,     0.60606,     0.60606,     0.60606,     0.60606,     0.60606,     0.60606,     0.60606,     0.60606,     0.60606,     0.60606,\n",
      "            0.60606,     0.60606,     0.60606,     0.60606,     0.60606,     0.60606,     0.60606,     0.60606,     0.60606,     0.60606,     0.60606,     0.60606,     0.57576,     0.57576,     0.57576,     0.57576,     0.57576,     0.57576,     0.57576,     0.57576,     0.57576,     0.57576,     0.57576,\n",
      "            0.57576,     0.57576,     0.57576,     0.57576,     0.57576,     0.57576,     0.57576,     0.57576,     0.57576,     0.57576,     0.57576,     0.57576,     0.57576,     0.57576,     0.57576,     0.57576,     0.57576,     0.57576,     0.57576,     0.57576,     0.57576,     0.57576,     0.57576,\n",
      "            0.57576,     0.57576,     0.57576,       0.518,     0.51515,     0.51515,     0.51515,     0.51515,     0.51515,     0.51515,     0.51515,     0.51515,     0.51515,     0.51515,     0.51515,     0.51364,     0.51056,     0.50748,      0.5044,     0.50132,     0.49824,     0.49516,     0.49208,\n",
      "              0.489,     0.48592,     0.48485,     0.48485,     0.48485,     0.48485,     0.48485,     0.48074,     0.47516,     0.46958,     0.46401,     0.45843,     0.45281,     0.44711,     0.44141,     0.43571,     0.43001,     0.42431,     0.42424,     0.42424,     0.42424,     0.42424,     0.42424,\n",
      "            0.42424,     0.42424,     0.42424,     0.42424,     0.42424,     0.42424,     0.42424,     0.42424,     0.42424,     0.42424,     0.42424,     0.42424,     0.42424,     0.42424,     0.42424,     0.42424,     0.42424,     0.42424,     0.42424,     0.42424,     0.42424,     0.42424,     0.42424,\n",
      "            0.42424,     0.42424,     0.42424,     0.42424,     0.42424,     0.42424,     0.42424,     0.42424,     0.42424,     0.42424,     0.42424,     0.42424,     0.42424,     0.42424,     0.42424,     0.42424,     0.42424,     0.42424,     0.42424,     0.42424,     0.42424,     0.42424,     0.42424,\n",
      "            0.42424,     0.42424,     0.42424,     0.42424,     0.42424,     0.42424,     0.42424,     0.42424,     0.42424,     0.42424,     0.42424,     0.42424,     0.42424,     0.42424,     0.42424,     0.42424,     0.42424,     0.42424,     0.42424,     0.42424,     0.42424,     0.42424,     0.42424,\n",
      "            0.42424,     0.42424,     0.42424,     0.42424,     0.42424,     0.42424,     0.42424,     0.42424,     0.42424,     0.42424,     0.42424,     0.42424,     0.42424,     0.42424,     0.42424,     0.42424,     0.42424,     0.42424,     0.42424,     0.42424,     0.42424,     0.42424,     0.42424,\n",
      "            0.42424,     0.42424,     0.42424,     0.42424,     0.42424,     0.42424,     0.42424,     0.42424,     0.42424,     0.42424,     0.42424,     0.42424,     0.42424,     0.42424,     0.42424,     0.42424,     0.42424,     0.42424,     0.42424,     0.42424,     0.42424,     0.42424,     0.42424,\n",
      "            0.42424,     0.42424,     0.42424,     0.42424,     0.42424,     0.42424,     0.42424,     0.42424,     0.42424,     0.42424,     0.42424,     0.42424,     0.42424,     0.42424,     0.42424,     0.42424,     0.42424,     0.42424,     0.42424,     0.42424,     0.42424,     0.42424,     0.42424,\n",
      "            0.42424,     0.42424,     0.42424,     0.42424,     0.42424,     0.42424,     0.42424,     0.42424,     0.42424,     0.42424,     0.42424,     0.42424,     0.42424,     0.42424,     0.42424,     0.42424,     0.42424,     0.42424,     0.42424,     0.42424,     0.42424,     0.42424,     0.42424,\n",
      "            0.42424,     0.42424,     0.42424,     0.42424,     0.42424,     0.42424,     0.42424,     0.42424,     0.42424,     0.42424,     0.42424,     0.42424,     0.42424,     0.42424,     0.42424,     0.42424,     0.42424,     0.42424,     0.42424,     0.42424,     0.42424,     0.42424,     0.42424,\n",
      "            0.42424,     0.42424,     0.42424,     0.42424,     0.42424,     0.42424,     0.42424,     0.42424,     0.42424,     0.42424,     0.42424,     0.42424,     0.42424,     0.42424,     0.42424,     0.42424,     0.42424,     0.42424,     0.42424,     0.42424,     0.42424,     0.42424,     0.42424,\n",
      "            0.42424,     0.42424,     0.42424,     0.42424,     0.42424,     0.42424,     0.42424,     0.42424,     0.42424,     0.42424,     0.42424,     0.42424,     0.42424,     0.42424,     0.42424,     0.42424,     0.42424,     0.42424,     0.42424,     0.42424,     0.42424,     0.42424,     0.42424,\n",
      "            0.42424,     0.42424,     0.42424,     0.42424,     0.42424,     0.42424,     0.42424,     0.42424,     0.42424,     0.42424,     0.42424,     0.42424,     0.42424,     0.42424,     0.42424,     0.42424,     0.42424,     0.42424,     0.42424,     0.42424,     0.42424,     0.42424,     0.42424,\n",
      "            0.42424,     0.42043,     0.41505,     0.40966,     0.40427,     0.39888,     0.39394,     0.39394,     0.39357,      0.3865,     0.37944,     0.37237,     0.36531,     0.36204,     0.35995,     0.35786,     0.35576,     0.35367,     0.35158,     0.34949,      0.3474,      0.3453,     0.34321,\n",
      "            0.34112,     0.33903,     0.33694,     0.33484,     0.33333,     0.33333,     0.33333,     0.33333,     0.33333,     0.33333,     0.33333,     0.33333,     0.33333,     0.33333,     0.33333,     0.33333,     0.33333,     0.33293,     0.33007,     0.32721,     0.32435,     0.32148,     0.31862,\n",
      "            0.31576,      0.3129,     0.31004,     0.30718,     0.30431,     0.30016,     0.29495,     0.28974,     0.28453,     0.27932,     0.27412,     0.27273,     0.27273,     0.27273,     0.27232,     0.27166,     0.27099,     0.27033,     0.26966,       0.269,     0.26834,     0.26767,     0.26701,\n",
      "            0.26634,     0.26568,     0.26501,     0.26435,     0.26369,     0.26302,     0.26236,     0.26169,     0.26103,     0.26036,      0.2597,     0.25903,     0.25837,     0.25771,     0.25704,     0.25638,     0.25571,     0.25505,     0.25438,     0.25372,     0.25305,     0.25239,     0.25173,\n",
      "            0.25106,      0.2504,     0.24973,     0.24907,      0.2484,     0.24774,     0.24708,     0.24641,     0.24575,     0.24508,     0.24442,     0.24375,     0.24309,     0.24242,     0.24092,     0.23942,     0.23792,     0.23641,     0.23491,     0.23341,     0.23191,      0.2304,      0.2289,\n",
      "             0.2274,      0.2259,     0.22439,     0.22289,     0.22139,     0.21989,     0.21838,     0.21688,     0.21538,     0.21388,     0.21237,     0.20729,      0.2015,      0.1957,      0.1899,      0.1841,     0.18091,     0.17942,     0.17793,     0.17644,     0.17495,     0.17346,     0.17197,\n",
      "            0.17048,     0.16899,      0.1675,     0.16601,     0.16452,     0.16303,     0.16154,     0.16005,     0.15856,     0.15706,     0.15557,     0.15408,     0.15259,     0.15042,     0.14648,     0.14255,     0.13861,     0.13467,     0.13073,     0.12679,     0.12285,    0.088856,    0.071694,\n",
      "           0.060606,    0.060606,    0.060606,    0.060606,    0.060606,    0.060606,    0.060606,    0.060606,    0.060606,    0.060606,    0.060606,    0.060606,    0.060606,    0.060606,    0.060606,    0.060606,    0.060606,    0.060606,    0.060606,    0.060606,    0.060606,    0.060606,    0.060606,\n",
      "           0.060606,    0.060606,    0.060606,    0.060606,    0.060606,    0.060606,    0.060606,    0.060606,    0.060606,    0.060606,    0.060606,    0.060606,    0.060606,    0.060188,    0.058132,    0.056076,     0.05402,    0.051964,    0.049909,    0.047853,    0.045797,    0.043741,    0.041685,\n",
      "            0.03963,    0.037574,    0.035518,    0.033462,    0.031406,           0,           0,           0,           0,           0,           0,           0,           0,           0,           0,           0,           0,           0,           0,           0,           0,           0,           0,\n",
      "                  0,           0,           0,           0,           0,           0,           0,           0,           0,           0,           0,           0,           0,           0,           0,           0,           0,           0,           0,           0,           0,           0,           0,\n",
      "                  0,           0,           0,           0,           0,           0,           0,           0,           0,           0,           0,           0,           0,           0,           0,           0,           0,           0,           0,           0,           0,           0,           0,\n",
      "                  0,           0,           0,           0,           0,           0,           0,           0,           0,           0,           0,           0,           0,           0,           0,           0,           0,           0,           0,           0,           0,           0,           0,\n",
      "                  0,           0,           0,           0,           0,           0,           0,           0,           0,           0,           0,           0,           0,           0,           0,           0,           0,           0,           0,           0,           0,           0,           0,\n",
      "                  0,           0,           0,           0,           0,           0,           0,           0,           0,           0,           0,           0,           0,           0,           0,           0,           0,           0,           0,           0,           0,           0,           0,\n",
      "                  0,           0,           0,           0,           0,           0,           0,           0,           0,           0,           0,           0,           0,           0,           0,           0,           0,           0,           0,           0,           0,           0,           0,\n",
      "                  0,           0,           0,           0,           0,           0,           0,           0,           0,           0,           0,           0,           0,           0,           0,           0,           0,           0,           0,           0,           0,           0,           0,\n",
      "                  0,           0,           0,           0,           0,           0,           0,           0,           0,           0,           0,           0,           0,           0,           0,           0,           0,           0,           0,           0,           0,           0,           0,\n",
      "                  0,           0,           0,           0,           0,           0,           0,           0,           0,           0,           0]]), 'Confidence', 'Recall']]\n",
      "fitness: 0.6212616494134353\n",
      "keys: ['metrics/precision(B)', 'metrics/recall(B)', 'metrics/mAP50(B)', 'metrics/mAP50-95(B)', 'metrics/precision(M)', 'metrics/recall(M)', 'metrics/mAP50(M)', 'metrics/mAP50-95(M)']\n",
      "maps: array([    0.58849])\n",
      "names: {0: 'contaminated'}\n",
      "plot: True\n",
      "results_dict: {'metrics/precision(B)': 0.7049376850810635, 'metrics/recall(B)': 0.42424242424242425, 'metrics/mAP50(B)': 0.47626598470069176, 'metrics/mAP50-95(B)': 0.3191434394069347, 'metrics/precision(M)': 0.7049376850810635, 'metrics/recall(M)': 0.42424242424242425, 'metrics/mAP50(M)': 0.4399237328934117, 'metrics/mAP50-95(M)': 0.26934842465309305, 'fitness': 0.6212616494134353}\n",
      "save_dir: PosixPath('runs/segment/train32')\n",
      "seg: ultralytics.utils.metrics.Metric object\n",
      "speed: {'preprocess': 0.3987704553911763, 'inference': 159.70119737809705, 'loss': 0.0012805384974325857, 'postprocess': 1.8014561745428268}\n",
      "task: 'segment'\n"
     ]
    }
   ],
   "source": [
    "results = model.val(data=\"./data.yaml\")\n",
    "print(results)"
   ]
  },
  {
   "cell_type": "code",
   "execution_count": 15,
   "id": "59855c0397ebdf83",
   "metadata": {
    "ExecuteTime": {
     "end_time": "2024-12-05T20:45:56.619711200Z",
     "start_time": "2024-12-05T20:45:56.612160500Z"
    },
    "collapsed": false,
    "jupyter": {
     "outputs_hidden": false
    }
   },
   "outputs": [],
   "source": [
    "def infer_image(image_path):\n",
    "    # Загрузка изображения\n",
    "    image = cv2.imread(image_path)\n",
    "\n",
    "    # Инференс\n",
    "    return model(image)\n",
    "\n"
   ]
  },
  {
   "cell_type": "code",
   "execution_count": 16,
   "id": "bafd993999b6432d",
   "metadata": {
    "ExecuteTime": {
     "end_time": "2024-12-05T20:51:52.367492200Z",
     "start_time": "2024-12-05T20:51:52.357938500Z"
    },
    "collapsed": false,
    "jupyter": {
     "outputs_hidden": false
    }
   },
   "outputs": [],
   "source": [
    "# Функция для создания маски с черным фоном\n",
    "def create_mask(image_path, results):\n",
    "    # Загружаем изображение и переводим в градации серого\n",
    "    image = cv2.imread(image_path)\n",
    "    height, width = image.shape[:2]\n",
    "\n",
    "    # Создаем пустую маску с черным фоном\n",
    "    mask = np.zeros((height, width), dtype=np.uint8)\n",
    "\n",
    "    # Проходим по результатам и создаем маску\n",
    "    for result in results:\n",
    "        masks = result.masks  # Получаем маски из результатов\n",
    "        if masks is not None:\n",
    "            for mask_array in masks.data:  # Получаем маски как массивы\n",
    "                mask_i = mask_array.numpy()  # Преобразуем маску в numpy массив\n",
    "                \n",
    "                # Изменяем размер маски под размер оригинального изображения\n",
    "                mask_i_resized = cv2.resize(mask_i, (width, height), interpolation=cv2.INTER_LINEAR)\n",
    "                \n",
    "                # Накладываем маску на пустую маску (255 для белого)\n",
    "                mask[mask_i_resized > 0] = 255\n",
    "\n",
    "    return mask"
   ]
  },
  {
   "cell_type": "code",
   "execution_count": 17,
   "id": "bb1b125643cab2da",
   "metadata": {
    "ExecuteTime": {
     "end_time": "2024-12-05T20:52:49.360392200Z",
     "start_time": "2024-12-05T20:52:49.205486700Z"
    },
    "collapsed": false,
    "jupyter": {
     "outputs_hidden": false
    }
   },
   "outputs": [
    {
     "name": "stdout",
     "output_type": "stream",
     "text": [
      "WARNING ⚠️ 'source' is missing. Using 'source=/home/jovyan/.mlspace/envs/nmkarpov/lib/python3.10/site-packages/ultralytics/assets'.\n",
      "\n",
      "image 1/2 /home/jovyan/.mlspace/envs/nmkarpov/lib/python3.10/site-packages/ultralytics/assets/bus.jpg: 640x480 (no detections), 66.9ms\n"
     ]
    },
    {
     "name": "stderr",
     "output_type": "stream",
     "text": [
      "[ WARN:0@702.858] global loadsave.cpp:241 findDecoder imread_('./cv_test_dataset/test_img/_08.jpg'): can't open/read file: check file path/integrity\n"
     ]
    },
    {
     "name": "stdout",
     "output_type": "stream",
     "text": [
      "image 2/2 /home/jovyan/.mlspace/envs/nmkarpov/lib/python3.10/site-packages/ultralytics/assets/zidane.jpg: 384x640 3 contaminateds, 70.6ms\n",
      "Speed: 2.1ms preprocess, 68.7ms inference, 2.2ms postprocess per image at shape (1, 3, 384, 640)\n"
     ]
    },
    {
     "name": "stderr",
     "output_type": "stream",
     "text": [
      "[ WARN:0@703.063] global loadsave.cpp:241 findDecoder imread_('./cv_test_dataset/test_img/_08.jpg'): can't open/read file: check file path/integrity\n"
     ]
    },
    {
     "ename": "AttributeError",
     "evalue": "'NoneType' object has no attribute 'shape'",
     "output_type": "error",
     "traceback": [
      "\u001b[0;31m---------------------------------------------------------------------------\u001b[0m",
      "\u001b[0;31mAttributeError\u001b[0m                            Traceback (most recent call last)",
      "Cell \u001b[0;32mIn[17], line 2\u001b[0m\n\u001b[1;32m      1\u001b[0m results \u001b[38;5;241m=\u001b[39m infer_image(\u001b[38;5;124m\"\u001b[39m\u001b[38;5;124m./cv_test_dataset/test_img/_08.jpg\u001b[39m\u001b[38;5;124m\"\u001b[39m)\n\u001b[0;32m----> 2\u001b[0m mask_image \u001b[38;5;241m=\u001b[39m \u001b[43mcreate_mask\u001b[49m\u001b[43m(\u001b[49m\u001b[38;5;124;43m\"\u001b[39;49m\u001b[38;5;124;43m./cv_test_dataset/test_img/_08.jpg\u001b[39;49m\u001b[38;5;124;43m\"\u001b[39;49m\u001b[43m,\u001b[49m\u001b[43m \u001b[49m\u001b[43mresults\u001b[49m\u001b[43m)\u001b[49m\n\u001b[1;32m      4\u001b[0m \u001b[38;5;66;03m# Сохраняем маску в формате PNG\u001b[39;00m\n\u001b[1;32m      5\u001b[0m mask_output_path \u001b[38;5;241m=\u001b[39m \u001b[38;5;124m'\u001b[39m\u001b[38;5;124m./mask_image.png\u001b[39m\u001b[38;5;124m'\u001b[39m  \u001b[38;5;66;03m# Укажите путь для сохранения маски\u001b[39;00m\n",
      "Cell \u001b[0;32mIn[16], line 5\u001b[0m, in \u001b[0;36mcreate_mask\u001b[0;34m(image_path, results)\u001b[0m\n\u001b[1;32m      2\u001b[0m \u001b[38;5;28;01mdef\u001b[39;00m \u001b[38;5;21mcreate_mask\u001b[39m(image_path, results):\n\u001b[1;32m      3\u001b[0m     \u001b[38;5;66;03m# Загружаем изображение и переводим в градации серого\u001b[39;00m\n\u001b[1;32m      4\u001b[0m     image \u001b[38;5;241m=\u001b[39m cv2\u001b[38;5;241m.\u001b[39mimread(image_path)\n\u001b[0;32m----> 5\u001b[0m     height, width \u001b[38;5;241m=\u001b[39m \u001b[43mimage\u001b[49m\u001b[38;5;241;43m.\u001b[39;49m\u001b[43mshape\u001b[49m[:\u001b[38;5;241m2\u001b[39m]\n\u001b[1;32m      7\u001b[0m     \u001b[38;5;66;03m# Создаем пустую маску с черным фоном\u001b[39;00m\n\u001b[1;32m      8\u001b[0m     mask \u001b[38;5;241m=\u001b[39m np\u001b[38;5;241m.\u001b[39mzeros((height, width), dtype\u001b[38;5;241m=\u001b[39mnp\u001b[38;5;241m.\u001b[39muint8)\n",
      "\u001b[0;31mAttributeError\u001b[0m: 'NoneType' object has no attribute 'shape'"
     ]
    }
   ],
   "source": [
    "results = infer_image(\"./cv_test_dataset/test_img/_08.jpg\")\n",
    "mask_image = create_mask(\"./cv_test_dataset/test_img/_08.jpg\", results)\n",
    "\n",
    "# Сохраняем маску в формате PNG\n",
    "mask_output_path = './mask_image.png'  # Укажите путь для сохранения маски\n",
    "cv2.imwrite(mask_output_path, mask_image)"
   ]
  },
  {
   "cell_type": "code",
   "execution_count": 19,
   "id": "35bf1867b33cd589",
   "metadata": {
    "collapsed": false,
    "jupyter": {
     "outputs_hidden": false
    }
   },
   "outputs": [],
   "source": [
    "model.save('/home/jovyan/nazar/123/123/misis_chill/nornikel_dockerfile/baseline2.pt')"
   ]
  },
  {
   "cell_type": "code",
   "execution_count": null,
   "id": "bba70711-a52b-448b-bc72-489ed9167a54",
   "metadata": {},
   "outputs": [],
   "source": []
  }
 ],
 "metadata": {
  "kernelspec": {
   "display_name": "Python [conda env:.mlspace-nmkarpov]",
   "language": "python",
   "name": "conda-env-.mlspace-nmkarpov-py"
  },
  "language_info": {
   "codemirror_mode": {
    "name": "ipython",
    "version": 3
   },
   "file_extension": ".py",
   "mimetype": "text/x-python",
   "name": "python",
   "nbconvert_exporter": "python",
   "pygments_lexer": "ipython3",
   "version": "3.10.15"
  }
 },
 "nbformat": 4,
 "nbformat_minor": 5
}
