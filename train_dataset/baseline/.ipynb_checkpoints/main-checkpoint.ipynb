{
 "cells": [
  {
   "cell_type": "code",
   "execution_count": null,
   "id": "initial_id",
   "metadata": {},
   "outputs": [],
   "source": [
    "from ultralytics import YOLO\n",
    "import os\n",
    "import cv2\n",
    "import shutil\n",
    "from sklearn.model_selection import train_test_split\n",
    "import numpy as np"
   ]
  },
  {
   "cell_type": "code",
   "outputs": [],
   "source": [
    "IMAGES_DIR = './train_dataset/cv_open_dataset/open_img'  # Путь к вашему датасету с изображениями\n",
    "MASKS_DIR = './train_dataset/cv_open_dataset/open_msk'  # Путь к вашему датасету с масками\n",
    "OUTPUT_DIR = './datasets/train_data'  # Путь к выходной директории\n",
    "TRAIN_SIZE = 0.8  # Процент обучающей выборки"
   ],
   "metadata": {
    "collapsed": false
   },
   "id": "ac56f6e6ea79ce6e",
   "execution_count": null
  },
  {
   "cell_type": "code",
   "outputs": [],
   "source": [
    "os.makedirs(os.path.join(OUTPUT_DIR, 'images/train'), exist_ok=True)\n",
    "os.makedirs(os.path.join(OUTPUT_DIR, 'images/val'), exist_ok=True)\n",
    "os.makedirs(os.path.join(OUTPUT_DIR, 'labels/train'), exist_ok=True)\n",
    "os.makedirs(os.path.join(OUTPUT_DIR, 'labels/val'), exist_ok=True)"
   ],
   "metadata": {
    "collapsed": false
   },
   "id": "406044194f9535d5",
   "execution_count": null
  },
  {
   "cell_type": "code",
   "outputs": [],
   "source": [
    "image_files = [f for f in os.listdir(IMAGES_DIR) if f.endswith(('.jpg', '.png'))]\n",
    "mask_files = [f for f in os.listdir(MASKS_DIR) if f.endswith('.png')]\n",
    "if len(image_files) != len(mask_files):\n",
    "    print(len(image_files))\n",
    "    print(len(mask_files))\n",
    "    print(\"Количество изображений и масок не совпадает.\")\n",
    "    for mask in mask_files:\n",
    "        if mask.replace(\".png\", \".jpg\") not in image_files:\n",
    "            print(mask)"
   ],
   "metadata": {
    "collapsed": false
   },
   "id": "61ba29c30ff4a2dc",
   "execution_count": null
  },
  {
   "cell_type": "code",
   "outputs": [],
   "source": [
    "train_images, val_images = train_test_split(image_files, train_size=TRAIN_SIZE, random_state=42)"
   ],
   "metadata": {
    "collapsed": false
   },
   "id": "d00ab007653eda31",
   "execution_count": null
  },
  {
   "cell_type": "code",
   "outputs": [],
   "source": [
    "def convert_mask_to_yolo(mask_path, out):\n",
    "    # Открываем изображение\n",
    "    image = cv2.imread(mask_path)\n",
    "\n",
    "    if image is None:\n",
    "        print(f\"Не удалось открыть изображение: {mask_path}\")\n",
    "        return\n",
    "    \n",
    "    height, width = image.shape[:2]\n",
    "\n",
    "    # Создаем маску для черного цвета\n",
    "    black_mask = cv2.inRange(image, (0, 0, 0), (50, 50, 50))\n",
    "\n",
    "    # Создаем новое изображение, где черный цвет остается, а остальные цвета становятся белыми\n",
    "    new_image = np.ones_like(image) * 255  # Начинаем с белого изображения\n",
    "    new_image[black_mask > 0] = [0, 0, 0]  # Заменяем черные пиксели\n",
    "\n",
    "    # Преобразуем в градации серого для нахождения контуров\n",
    "    gray_image = cv2.cvtColor(new_image, cv2.COLOR_BGR2GRAY)\n",
    "\n",
    "    # Находим контуры\n",
    "    contours, _ = cv2.findContours(gray_image, cv2.RETR_EXTERNAL, cv2.CHAIN_APPROX_SIMPLE)\n",
    "\n",
    "    # Сохраняем контуры в текстовом формате\n",
    "    output_file_name = os.path.splitext(os.path.basename(mask_path))[0] + '.txt'\n",
    "    output_file_path = os.path.join(OUTPUT_DIR, out, output_file_name)\n",
    "\n",
    "    with open(output_file_path, 'w') as f:\n",
    "        for index, contour in enumerate(contours):\n",
    "            # Получаем координаты всех точек контура\n",
    "            contour_points = contour.reshape(-1, 2)\n",
    "            # Нормализуем координаты\n",
    "            normalized_points = [(x / width, y / height) for x, y in contour_points]\n",
    "            points_str = ' '.join(f\"{x:.3f} {y:.3f}\" for x, y in normalized_points)\n",
    "            f.write(f\"0 {points_str}\\n\")"
   ],
   "metadata": {
    "collapsed": false
   },
   "id": "f4cd15221eb3f864",
   "execution_count": null
  },
  {
   "cell_type": "code",
   "outputs": [],
   "source": [
    "# Копирование изображений и масок в соответствующие папки\n",
    "for img in train_images:\n",
    "    shutil.copy(os.path.join(IMAGES_DIR, img), os.path.join(OUTPUT_DIR, 'images/train', img))\n",
    "    mask_name = img.replace('.jpg', '.png')\n",
    "    convert_mask_to_yolo(os.path.join(MASKS_DIR, mask_name), 'labels/train')"
   ],
   "metadata": {
    "collapsed": false
   },
   "id": "fdf99ded756441b8",
   "execution_count": null
  },
  {
   "cell_type": "code",
   "outputs": [],
   "source": [
    "for img in val_images:\n",
    "    shutil.copy(os.path.join(IMAGES_DIR, img), os.path.join(OUTPUT_DIR, 'images/val', img))\n",
    "    mask_name = img.replace('.jpg', '.png')\n",
    "    convert_mask_to_yolo(os.path.join(MASKS_DIR, mask_name), 'labels/val')\n"
   ],
   "metadata": {
    "collapsed": false
   },
   "id": "1b2fd246643ce5cf",
   "execution_count": null
  },
  {
   "cell_type": "code",
   "outputs": [],
   "source": [
    "data_yaml_content = f\"\"\"\n",
    "train: train_data/images/train\n",
    "val: train_data/images/val\n",
    "\n",
    "nc: 1  # Обновите количество классов (1 для загрязнения)\n",
    "names: ['contaminated']  # Обновите названия классов\n",
    "\"\"\"\n",
    "\n",
    "with open('data.yaml', 'w') as f:\n",
    "    f.write(data_yaml_content)\n",
    "\n",
    "print(\"Датасет успешно разбит и сохранен в структуре проекта.\")"
   ],
   "metadata": {
    "collapsed": false
   },
   "id": "7d7767e7853d7b98",
   "execution_count": null
  },
  {
   "cell_type": "code",
   "execution_count": null,
   "id": "6a73b014c45fcc50",
   "metadata": {},
   "outputs": [],
   "source": [
    "model = YOLO(\"yolo11n-seg.pt\")"
   ]
  },
  {
   "cell_type": "code",
   "execution_count": null,
   "id": "4d85abfbc10ae302",
   "metadata": {},
   "outputs": [],
   "source": [
    "train_results = model.train(\n",
    "    data=\"./data.yaml\",  # path to dataset YAML\n",
    "    epochs=15,  # number of training epochs\n",
    "    imgsz=640,  # training image size\n",
    "    device=\"cpu\",  # device to run on, i.e. device=0 or device=0,1,2,3 or device=cpu\n",
    "    \n",
    ")"
   ]
  },
  {
   "cell_type": "code",
   "outputs": [],
   "source": [
    "results = model.val(data=\"./data.yaml\")\n",
    "print(results)"
   ],
   "metadata": {
    "collapsed": false
   },
   "id": "2660d21c659b40fb",
   "execution_count": null
  },
  {
   "cell_type": "code",
   "outputs": [],
   "source": [
    "def infer_image(image_path):\n",
    "    # Загрузка изображения\n",
    "    image = cv2.imread(image_path)\n",
    "\n",
    "    # Инференс\n",
    "    return model(image)\n",
    "\n"
   ],
   "metadata": {
    "collapsed": false,
    "ExecuteTime": {
     "end_time": "2024-12-05T20:45:56.619711200Z",
     "start_time": "2024-12-05T20:45:56.612160500Z"
    }
   },
   "id": "59855c0397ebdf83",
   "execution_count": 60
  },
  {
   "cell_type": "code",
   "outputs": [],
   "source": [
    "# Функция для создания маски с черным фоном\n",
    "def create_mask(image_path, results):\n",
    "    # Загружаем изображение и переводим в градации серого\n",
    "    image = cv2.imread(image_path)\n",
    "    height, width = image.shape[:2]\n",
    "\n",
    "    # Создаем пустую маску с черным фоном\n",
    "    mask = np.zeros((height, width), dtype=np.uint8)\n",
    "\n",
    "    # Проходим по результатам и создаем маску\n",
    "    for result in results:\n",
    "        masks = result.masks  # Получаем маски из результатов\n",
    "        if masks is not None:\n",
    "            for mask_array in masks.data:  # Получаем маски как массивы\n",
    "                mask_i = mask_array.numpy()  # Преобразуем маску в numpy массив\n",
    "                \n",
    "                # Изменяем размер маски под размер оригинального изображения\n",
    "                mask_i_resized = cv2.resize(mask_i, (width, height), interpolation=cv2.INTER_LINEAR)\n",
    "                \n",
    "                # Накладываем маску на пустую маску (255 для белого)\n",
    "                mask[mask_i_resized > 0] = 255\n",
    "\n",
    "    return mask"
   ],
   "metadata": {
    "collapsed": false,
    "ExecuteTime": {
     "end_time": "2024-12-05T20:51:52.367492200Z",
     "start_time": "2024-12-05T20:51:52.357938500Z"
    }
   },
   "id": "bafd993999b6432d",
   "execution_count": 69
  },
  {
   "cell_type": "code",
   "outputs": [
    {
     "name": "stdout",
     "output_type": "stream",
     "text": [
      "0: 384x640 3 contaminateds, 71.0ms\n",
      "Speed: 3.0ms preprocess, 71.0ms inference, 2.0ms postprocess per image at shape (1, 3, 384, 640)\n"
     ]
    },
    {
     "data": {
      "text/plain": "True"
     },
     "execution_count": 72,
     "metadata": {},
     "output_type": "execute_result"
    }
   ],
   "source": [
    "results = infer_image(\"./cv_test_dataset/test_img/_08.jpg\")\n",
    "mask_image = create_mask(\"./cv_test_dataset/test_img/_08.jpg\", results)\n",
    "\n",
    "# Сохраняем маску в формате PNG\n",
    "mask_output_path = './mask_image.png'  # Укажите путь для сохранения маски\n",
    "cv2.imwrite(mask_output_path, mask_image)"
   ],
   "metadata": {
    "collapsed": false,
    "ExecuteTime": {
     "end_time": "2024-12-05T20:52:49.360392200Z",
     "start_time": "2024-12-05T20:52:49.205486700Z"
    }
   },
   "id": "bb1b125643cab2da",
   "execution_count": 72
  },
  {
   "cell_type": "code",
   "outputs": [],
   "source": [],
   "metadata": {
    "collapsed": false
   },
   "id": "35bf1867b33cd589"
  }
 ],
 "metadata": {
  "kernelspec": {
   "display_name": "Python 3 (ipykernel)",
   "language": "python",
   "name": "python3"
  },
  "language_info": {
   "codemirror_mode": {
    "name": "ipython",
    "version": 3
   },
   "file_extension": ".py",
   "mimetype": "text/x-python",
   "name": "python",
   "nbconvert_exporter": "python",
   "pygments_lexer": "ipython3",
   "version": "3.11.7"
  }
 },
 "nbformat": 4,
 "nbformat_minor": 5
}
