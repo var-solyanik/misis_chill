{
 "cells": [
  {
   "cell_type": "code",
   "execution_count": 17,
   "metadata": {},
   "outputs": [],
   "source": [
    "import numpy as np\n",
    "import matplotlib.pyplot as plt\n",
    "import cv2\n",
    "\n",
    "import os\n"
   ]
  },
  {
   "cell_type": "code",
   "execution_count": 4,
   "metadata": {},
   "outputs": [],
   "source": [
    "def add_sobel_as_fourth_channel(image):\n",
    "    \"\"\"\n",
    "    Adds the Sobel operator (edge detection) result as the fourth channel to an input image.\n",
    "\n",
    "    Parameters:\n",
    "        image (numpy.ndarray): Input image (H, W, 3) read by cv2.\n",
    "\n",
    "    Returns:\n",
    "        numpy.ndarray: Image with the Sobel operator as the fourth channel (H, W, 4).\n",
    "    \"\"\"\n",
    "    if image is None:\n",
    "        raise ValueError(\"Input image is None. Please provide a valid image.\")\n",
    "    \n",
    "    if image.shape[-1] != 3:\n",
    "        raise ValueError(\"Input image must have 3 channels (H, W, 3).\")\n",
    "\n",
    "    # Convert to grayscale for edge detection\n",
    "    gray = cv2.cvtColor(image, cv2.COLOR_BGR2GRAY)\n",
    "\n",
    "    # Apply Sobel operator (X and Y gradients)\n",
    "    sobel_x = cv2.Sobel(gray, cv2.CV_64F, 1, 0, ksize=3)  # Sobel in X direction\n",
    "    sobel_y = cv2.Sobel(gray, cv2.CV_64F, 0, 1, ksize=3)  # Sobel in Y direction\n",
    "\n",
    "    # Compute the gradient magnitude\n",
    "    sobel_magnitude = cv2.magnitude(sobel_x, sobel_y)\n",
    "\n",
    "    # Normalize to 8-bit (0-255)\n",
    "    sobel_normalized = cv2.normalize(sobel_magnitude, None, 0, 255, cv2.NORM_MINMAX)\n",
    "    sobel_normalized = sobel_normalized.astype(np.uint8)\n",
    "\n",
    "    # Add Sobel as the fourth channel\n",
    "    sobel_channel = np.expand_dims(sobel_normalized, axis=-1)  # Shape (H, W, 1)\n",
    "    image_with_sobel = np.concatenate((image, sobel_channel), axis=-1)  # Shape (H, W, 4)\n",
    "\n",
    "    return image_with_sobel\n"
   ]
  },
  {
   "cell_type": "code",
   "execution_count": 21,
   "metadata": {},
   "outputs": [
    {
     "name": "stdout",
     "output_type": "stream",
     "text": [
      "[124 130 113   4]\n"
     ]
    },
    {
     "data": {
      "text/plain": [
       "True"
      ]
     },
     "execution_count": 21,
     "metadata": {},
     "output_type": "execute_result"
    }
   ],
   "source": [
    "# Read an image using cv2\n",
    "image = cv2.imread('1710458871_0.jpg')\n",
    "\n",
    "# Add Sobel as the fourth channel\n",
    "image_with_sobel = add_sobel_as_fourth_channel(image)\n",
    "\n",
    "# Verify the shape\n",
    "print(image_with_sobel[3,3,:])  # Should be (H, W, 4)\n",
    "\n",
    "# # Save or display the image\n",
    "# cv2.imshow(\"Image with Sobel Channel\", image_with_sobel[:,:,3])\n",
    "# cv2.waitKey(0)\n",
    "# cv2.destroyAllWindows()\n",
    "\n",
    "cv2.imwrite(\"nazar.png\", image_with_sobel)\n"
   ]
  },
  {
   "cell_type": "code",
   "execution_count": 25,
   "metadata": {},
   "outputs": [
    {
     "name": "stdout",
     "output_type": "stream",
     "text": [
      "[124 130 113   4]\n"
     ]
    }
   ],
   "source": [
    "image = cv2.imread('nazar.png', cv2.IMREAD_UNCHANGED)\n",
    "\n",
    "print(image[3,3,:])\n"
   ]
  },
  {
   "cell_type": "code",
   "execution_count": 26,
   "metadata": {},
   "outputs": [
    {
     "name": "stdout",
     "output_type": "stream",
     "text": [
      "files ['1710813452_0.jpg', '1710370672_0.jpg', '1711177052_0.jpg', 'F5_1_1_2.ts_f_500.jpg', 'F7_2_1_2.ts_f_500.jpg', 'F5_2_1_1.ts_f_1000.jpg', 'F2_2_1_2.ts_f_1000.jpg', 'F2_2_2_2.ts_f_500.jpg', 'F1_2_3_2.ts_f_500.jpg', 'F1_1_3_1.ts_f_500.jpg', 'F5_2_1_1.ts_f_500.jpg', 'F7_1_1_1.ts_f_500.jpg', '1711184253_0.jpg', 'F7_2_1_1.ts_f_1000.jpg', 'F1_2_4_2.ts_f_500.jpg', 'F1_2_5_2.ts_f_500.jpg', 'F4_1_1_1.ts_f_500.jpg', 'F7_2_1_2.ts_f_1000.jpg', '1713302111_0.jpg', '1711421860_0.jpg', 'F1_1_2_1.ts_f_500.jpg', 'F1_2_2_2.ts_f_500.jpg', 'F2_2_3_2.ts_f_500.jpg', '1717063048_0.jpg', '1710584874_0.jpg', 'F1_1_5_1.ts_f_500.jpg', 'F2_2_1_1.ts_f_1000.jpg', 'F5_2_1_2.ts_f_1000.jpg', 'F4_2_3_2.ts_f_500.jpg', 'F1_1_1_1.ts_f_1000.jpg', 'F5_1_2_2.ts_f_500.jpg', '1711448853_0.jpg', '1712741269_0.jpg', 'F2_2_1_2.ts_f_500.jpg', 'F7_1_1_2.ts_f_1000.jpg', '1711268876_0.jpg', '1712555862_0.jpg', 'F4_1_1_2.ts_f_1000.jpg', '1716017248_0.jpg', '1711180652_0.jpg', '1711459680_0.jpg', 'F2_1_1_1.ts_f_1000.jpg', 'F2_1_1_1.ts_f_500.jpg', 'F5_2_2_1.ts_f_500.jpg', 'F7_1_2_1.ts_f_500.jpg', 'F5_1_1_2.ts_f_1000.jpg', 'F4_1_3_1.ts_f_500.jpg', '1712564893_0.jpg', 'F4_1_2_1.ts_f_500.jpg', 'F5_2_3_1.ts_f_500.jpg', '1715041648_0.jpg', '1717390039_0.jpg', '1710604665_0.jpg', 'F1_1_1_1.ts_f_500.jpg', 'F4_1_1_1.ts_f_1000.jpg', 'F5_1_1_1.ts_f_1000.jpg', '1712577488_0.jpg', 'F2_1_1_2.ts_f_1000.jpg', '1711256271_0.jpg', '1711456067_0.jpg', '1711268872_0.jpg', '1713767248_0.jpg', 'F1_1_1_2.ts_f_1000.jpg', '1710430072_0.jpg', '1710835053_0.jpg', '1717059450_0.jpg', 'F5_1_3_2.ts_f_500.jpg', 'F7_1_1_1.ts_f_1000.jpg', '1711009681_0.jpg', 'F4_2_2_2.ts_f_500.jpg', '1710277054_0.jpg', 'F1_2_5_2.ts_f_1000.jpg', '1711510053_0.jpg', 'F1_1_4_2.ts_f_1000.jpg', 'F1_1_3_1.ts_f_1000.jpg', '1711430853_0.jpg', 'F4_2_3_1.ts_f_500.jpg', 'F1_2_2_1.ts_f_1000.jpg', 'F5_1_2_1.ts_f_500.jpg', 'F2_2_1_1.ts_f_500.jpg', 'F2_2_2_1.ts_f_1000.jpg', 'F2_1_1_2.ts_f_500.jpg', 'F5_2_2_2.ts_f_500.jpg', '1711119479_0.jpg', 'F7_1_2_2.ts_f_500.jpg', 'F4_1_3_2.ts_f_500.jpg', 'F5_2_2_2.ts_f_1000.jpg', '1710381477_0.jpg', '1710458871_0.jpg', 'F5_1_3_2.ts_f_1000.jpg', 'F4_2_2_2.ts_f_1000.jpg', '1710815253_0.jpg', '1713350757_0.jpg', 'F4_1_3_2.ts_f_1000.jpg', 'F5_2_2_1.ts_f_1000.jpg', 'F2_2_2_2.ts_f_1000.jpg', 'F5_1_3_1.ts_f_1000.jpg', 'F4_1_2_2.ts_f_500.jpg', 'F5_2_3_2.ts_f_500.jpg', '1717058869_0.jpg', 'F4_2_2_1.ts_f_1000.jpg', 'F1_1_1_2.ts_f_500.jpg', '1715112967_0.jpg', 'F4_1_3_1.ts_f_1000.jpg', '1711412853_0.jpg', 'F1_2_5_1.ts_f_1000.jpg', 'F5_1_3_1.ts_f_500.jpg', 'F4_2_2_1.ts_f_500.jpg', '1710322071_0.jpg', '1715158095_0.jpg', 'F1_2_2_2.ts_f_1000.jpg', 'F5_1_1_1.ts_f_500.jpg', '1710399478_0.jpg', 'F5_1_2_1.ts_f_1000.jpg', 'F7_2_1_1.ts_f_500.jpg', 'F2_1_2_2.ts_f_1000.jpg', 'F2_2_2_1.ts_f_500.jpg', '1711186053_0.jpg', 'F1_2_3_1.ts_f_500.jpg', 'F5_2_3_1.ts_f_1000.jpg', '1711187868_0.jpg', 'F2_2_3_2.ts_f_1000.jpg', 'gr1.jpg', 'F4_1_2_1.ts_f_1000.jpg', 'F1_1_4_2.ts_f_500.jpg', '1710917853_0.jpg', 'F4_2_3_1.ts_f_1000.jpg', 'F1_2_4_1.ts_f_500.jpg', '1711330053_0.jpg', '1710847680_0.jpg', 'F1_1_5_1.ts_f_1000.jpg', '1715074048_0.jpg', 'F1_2_4_1.ts_f_1000.jpg', '1710811652_0.jpg', 'F7_1_2_1.ts_f_1000.jpg', '1710275253_0.jpg', '1711178872_0.jpg', '1711090673_0.jpg', 'F1_2_3_2.ts_f_1000.jpg', '1711182453_0.jpg', 'F2_1_2_2.ts_f_500.jpg', 'F5_2_1_2.ts_f_500.jpg', '1712788070_0.jpg', 'F7_1_1_2.ts_f_500.jpg', '1717022950_0.jpg', '1717060391_0.jpg', 'F1_1_2_2.ts_f_1000.jpg', 'F1_1_5_2.ts_f_1000.jpg', '1717061248_0.jpg', 'F7_1_2_2.ts_f_1000.jpg', 'F4_1_1_2.ts_f_500.jpg', 'F1_2_4_2.ts_f_1000.jpg', 'F1_1_2_2.ts_f_500.jpg', 'F1_2_3_1.ts_f_1000.jpg', '1717068448_0.jpg', '1710390473_0.jpg', 'F1_2_5_1.ts_f_500.jpg', '1710809853_0.jpg', 'F1_1_2_1.ts_f_1000.jpg', '1711178852_0.jpg', '1711393084_0.jpg', 'F5_1_2_2.ts_f_1000.jpg', 'F1_1_5_2.ts_f_500.jpg', 'F2_2_3_1.ts_f_1000.jpg', '1711450664_0.jpg', 'F5_2_3_2.ts_f_1000.jpg', 'F1_2_2_1.ts_f_500.jpg', 'F2_2_3_1.ts_f_500.jpg', 'F4_1_2_2.ts_f_1000.jpg', 'F4_2_3_2.ts_f_1000.jpg']\n"
     ]
    },
    {
     "ename": "KeyboardInterrupt",
     "evalue": "",
     "output_type": "error",
     "traceback": [
      "\u001b[0;31m---------------------------------------------------------------------------\u001b[0m",
      "\u001b[0;31mKeyboardInterrupt\u001b[0m                         Traceback (most recent call last)",
      "Cell \u001b[0;32mIn[26], line 15\u001b[0m\n\u001b[1;32m     11\u001b[0m         \u001b[38;5;28mprint\u001b[39m(\u001b[38;5;124mf\u001b[39m\u001b[38;5;124m\"\u001b[39m\u001b[38;5;124mDirectory not found: \u001b[39m\u001b[38;5;132;01m{\u001b[39;00minput_photos_dir\u001b[38;5;132;01m}\u001b[39;00m\u001b[38;5;124m\"\u001b[39m)\n\u001b[1;32m     12\u001b[0m         \u001b[38;5;28;01mreturn\u001b[39;00m []\n\u001b[0;32m---> 15\u001b[0m \u001b[38;5;28mprint\u001b[39m(\u001b[43mprocess_photos_with_sobel\u001b[49m\u001b[43m(\u001b[49m\u001b[38;5;124;43m'\u001b[39;49m\u001b[38;5;124;43m/Users/z.gabdrakhmanov/Downloads/train_dataset/cv_open_dataset/open_img\u001b[39;49m\u001b[38;5;124;43m'\u001b[39;49m\u001b[43m,\u001b[49m\u001b[43m \u001b[49m\u001b[38;5;124;43m'\u001b[39;49m\u001b[38;5;124;43m/Users/z.gabdrakhmanov/vscode/hack/misis2024s-23-01-gabdrakhmanov-z-i/nazar\u001b[39;49m\u001b[38;5;124;43m'\u001b[39;49m\u001b[43m)\u001b[49m)\n",
      "Cell \u001b[0;32mIn[26], line 8\u001b[0m, in \u001b[0;36mprocess_photos_with_sobel\u001b[0;34m(input_photos_dir, output_photos_dir)\u001b[0m\n\u001b[1;32m      6\u001b[0m     \u001b[38;5;28;01mfor\u001b[39;00m input_photo_name \u001b[38;5;129;01min\u001b[39;00m files:\n\u001b[1;32m      7\u001b[0m         image \u001b[38;5;241m=\u001b[39m cv2\u001b[38;5;241m.\u001b[39mimread(os\u001b[38;5;241m.\u001b[39mpath\u001b[38;5;241m.\u001b[39mjoin(input_photos_dir, input_photo_name))\n\u001b[0;32m----> 8\u001b[0m         image_with_sobel \u001b[38;5;241m=\u001b[39m \u001b[43madd_sobel_as_fourth_channel\u001b[49m\u001b[43m(\u001b[49m\u001b[43mimage\u001b[49m\u001b[43m)\u001b[49m\n\u001b[1;32m      9\u001b[0m         cv2\u001b[38;5;241m.\u001b[39mimwrite(os\u001b[38;5;241m.\u001b[39mpath\u001b[38;5;241m.\u001b[39mjoin(output_photos_dir, input_photo_name\u001b[38;5;241m.\u001b[39mreplace(\u001b[38;5;124m\"\u001b[39m\u001b[38;5;124m.jpg\u001b[39m\u001b[38;5;124m\"\u001b[39m, \u001b[38;5;124m\"\u001b[39m\u001b[38;5;124m.png\u001b[39m\u001b[38;5;124m\"\u001b[39m)), image_with_sobel)\n\u001b[1;32m     10\u001b[0m \u001b[38;5;28;01mexcept\u001b[39;00m \u001b[38;5;167;01mFileNotFoundError\u001b[39;00m:\n",
      "Cell \u001b[0;32mIn[4], line 22\u001b[0m, in \u001b[0;36madd_sobel_as_fourth_channel\u001b[0;34m(image)\u001b[0m\n\u001b[1;32m     20\u001b[0m \u001b[38;5;66;03m# Apply Sobel operator (X and Y gradients)\u001b[39;00m\n\u001b[1;32m     21\u001b[0m sobel_x \u001b[38;5;241m=\u001b[39m cv2\u001b[38;5;241m.\u001b[39mSobel(gray, cv2\u001b[38;5;241m.\u001b[39mCV_64F, \u001b[38;5;241m1\u001b[39m, \u001b[38;5;241m0\u001b[39m, ksize\u001b[38;5;241m=\u001b[39m\u001b[38;5;241m3\u001b[39m)  \u001b[38;5;66;03m# Sobel in X direction\u001b[39;00m\n\u001b[0;32m---> 22\u001b[0m sobel_y \u001b[38;5;241m=\u001b[39m \u001b[43mcv2\u001b[49m\u001b[38;5;241;43m.\u001b[39;49m\u001b[43mSobel\u001b[49m\u001b[43m(\u001b[49m\u001b[43mgray\u001b[49m\u001b[43m,\u001b[49m\u001b[43m \u001b[49m\u001b[43mcv2\u001b[49m\u001b[38;5;241;43m.\u001b[39;49m\u001b[43mCV_64F\u001b[49m\u001b[43m,\u001b[49m\u001b[43m \u001b[49m\u001b[38;5;241;43m0\u001b[39;49m\u001b[43m,\u001b[49m\u001b[43m \u001b[49m\u001b[38;5;241;43m1\u001b[39;49m\u001b[43m,\u001b[49m\u001b[43m \u001b[49m\u001b[43mksize\u001b[49m\u001b[38;5;241;43m=\u001b[39;49m\u001b[38;5;241;43m3\u001b[39;49m\u001b[43m)\u001b[49m  \u001b[38;5;66;03m# Sobel in Y direction\u001b[39;00m\n\u001b[1;32m     24\u001b[0m \u001b[38;5;66;03m# Compute the gradient magnitude\u001b[39;00m\n\u001b[1;32m     25\u001b[0m sobel_magnitude \u001b[38;5;241m=\u001b[39m cv2\u001b[38;5;241m.\u001b[39mmagnitude(sobel_x, sobel_y)\n",
      "\u001b[0;31mKeyboardInterrupt\u001b[0m: "
     ]
    }
   ],
   "source": [
    "def process_photos_with_sobel(input_photos_dir, output_photos_dir):\n",
    "    try:\n",
    "        files = os.listdir(input_photos_dir)  # Lists all items in the directory\n",
    "        files = [f for f in files if os.path.isfile(os.path.join(input_photos_dir, f))]  # Filter files only with asbolute path with it\n",
    "        print(\"files\", files)\n",
    "        for input_photo_name in files:\n",
    "            image = cv2.imread(os.path.join(input_photos_dir, input_photo_name))\n",
    "            image_with_sobel = add_sobel_as_fourth_channel(image)\n",
    "            cv2.imwrite(os.path.join(output_photos_dir, input_photo_name.replace(\".jpg\", \".png\")), image_with_sobel)\n",
    "    except FileNotFoundError:\n",
    "        print(f\"Directory not found: {input_photos_dir}\")\n",
    "        return []\n",
    "\n",
    "\n",
    "print(process_photos_with_sobel('/Users/z.gabdrakhmanov/Downloads/train_dataset/cv_open_dataset/open_img', '/Users/z.gabdrakhmanov/vscode/hack/misis2024s-23-01-gabdrakhmanov-z-i/nazar'))\n"
   ]
  }
 ],
 "metadata": {
  "kernelspec": {
   "display_name": "venv",
   "language": "python",
   "name": "python3"
  },
  "language_info": {
   "codemirror_mode": {
    "name": "ipython",
    "version": 3
   },
   "file_extension": ".py",
   "mimetype": "text/x-python",
   "name": "python",
   "nbconvert_exporter": "python",
   "pygments_lexer": "ipython3",
   "version": "3.13.0"
  }
 },
 "nbformat": 4,
 "nbformat_minor": 2
}
